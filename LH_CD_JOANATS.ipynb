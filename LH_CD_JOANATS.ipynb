{
  "nbformat": 4,
  "nbformat_minor": 0,
  "metadata": {
    "colab": {
      "provenance": [],
      "authorship_tag": "ABX9TyOxkzHXEsZomsCzJ0QNiIBS",
      "include_colab_link": true
    },
    "kernelspec": {
      "name": "python3",
      "display_name": "Python 3"
    },
    "language_info": {
      "name": "python"
    }
  },
  "cells": [
    {
      "cell_type": "markdown",
      "metadata": {
        "id": "view-in-github",
        "colab_type": "text"
      },
      "source": [
        "<a href=\"https://colab.research.google.com/github/joanats/LH_CD_JOANATS/blob/main/LH_CD_JOANATS.ipynb\" target=\"_parent\"><img src=\"https://colab.research.google.com/assets/colab-badge.svg\" alt=\"Open In Colab\"/></a>"
      ]
    },
    {
      "cell_type": "markdown",
      "source": [
        "# **🎬 Desafio Indicium – Data-Driven Insights**"
      ],
      "metadata": {
        "id": "XrWwOzzAn_ej"
      }
    },
    {
      "cell_type": "markdown",
      "source": [
        "### Entendimento do problema"
      ],
      "metadata": {
        "id": "mbWR6Q4rqMDE"
      }
    },
    {
      "cell_type": "markdown",
      "source": [
        "Você foi alocado em um time da Indicium contratado por um estúdio de Hollywood chamado PProductions, e agora deve fazer uma **análise em cima de um banco de dados cinematográfico para orientar qual tipo de filme deve ser o próximo a ser desenvolvido**. Lembre-se que há muito dinheiro envolvido, então a análise deve ser muito detalhada e levar em consideração o máximo de fatores possíveis (a introdução de dados externos é permitida - e encorajada).\n",
        "\n",
        "> Este notebook documenta o desenvolvimento e análise de modelos para o desafio proposto pela Indicium, utilizando técnicas de machine learning e análise de dados."
      ],
      "metadata": {
        "id": "OKcKCCcNqWUk"
      }
    },
    {
      "cell_type": "markdown",
      "source": [
        "### Objetivo do desafio"
      ],
      "metadata": {
        "id": "_Tov4_0_rG5A"
      }
    },
    {
      "cell_type": "markdown",
      "source": [
        "O presente notebook tem como objetivo realizar uma análise data-driven de um banco de dados cinematográfico, de forma a identificar padrões, tendências e fatores de sucesso em produções anteriores.\n",
        "\n",
        "A partir dessa análise, busca-se fornecer insights estratégicos que possam orientar a PProductions na definição de seu próximo projeto, reduzindo riscos e maximizando o potencial de retorno."
      ],
      "metadata": {
        "id": "8vywdg4dra3A"
      }
    },
    {
      "cell_type": "markdown",
      "source": [
        "Além disso, o desafio também pede:\n",
        "\n",
        "> Faça uma análise exploratória dos dados (EDA), demonstrando as principais características entre as variáveis e apresentando algumas hipóteses relacionadas.\n",
        "\n",
        "> Responda também às seguintes perguntas:\n",
        "- Qual filme você recomendaria para uma pessoa que você não conhece?\n",
        "- Quais são os principais fatores que estão relacionados com alta expectativa de faturamento de um filme?\n",
        "- Quais insights podem ser tirados com a coluna Overview? É possível inferir o gênero do filme a partir dessa coluna?\n",
        "\n",
        "> Explique como você faria a previsão da nota do imdb a partir dos dados. Quais variáveis e/ou suas transformações você utilizou e por quê? Qual tipo de problema estamos resolvendo (regressão, classificação)? Qual modelo melhor se aproxima dos dados e quais seus prós e contras? Qual medida de performance do modelo foi escolhida e por quê?\n",
        "\n",
        "> Entre outras perguntas que responderei conforme o desenvolvimento do desafio."
      ],
      "metadata": {
        "id": "GCogqQTHrmSL"
      }
    },
    {
      "cell_type": "markdown",
      "source": [
        "### Dados obtidos"
      ],
      "metadata": {
        "id": "-o8eSb3_RibO"
      }
    },
    {
      "cell_type": "markdown",
      "source": [
        "Para entender o processo, vamos utilizar a base de dados que foi disponibilizada no processo seletivo da Indicium.\n",
        "\n",
        "As colunas desse dataset são:\n",
        "\n",
        "- **Series_Title:** título do filme.  \n",
        "- **Released_Year:** ano de lançamento.  \n",
        "- **Certificate:** classificação indicativa (ex.: PG, R, etc.).  \n",
        "- **Runtime:** duração do filme em minutos.  \n",
        "- **Genre:** gênero do filme (ex.: Drama, Action, Comedy).  \n",
        "- **IMDB_Rating:** nota média atribuída pelos usuários do IMD, numa escala de 0 a 10.  \n",
        "- **Overview:** breve descrição ou sinopse do filme.  \n",
        "- **Meta_score:** avaliação da crítica especializada (Metascore).  \n",
        "- **Director:** diretor do filme.  \n",
        "- **Star1, Star2, Star3, Star4:** principais atores/atrizes.  \n",
        "- **No_of_Votes:** número de votos recebidos no IMDb.  \n",
        "- **Gross:** bilheteria do filme (em dólares).  \n",
        "\n"
      ],
      "metadata": {
        "id": "JOTX9ZeSRr1T"
      }
    },
    {
      "cell_type": "markdown",
      "source": [
        "### Configurações Iniciais"
      ],
      "metadata": {
        "id": "luigMUSXskog"
      }
    },
    {
      "cell_type": "markdown",
      "source": [
        "Baixando o arquivo do desafio - O arquivo está hospedado no Google Drive e é acessado via o ID compartilhado"
      ],
      "metadata": {
        "id": "mlygQjTZsr4C"
      }
    },
    {
      "cell_type": "code",
      "source": [
        "!gdown 1JUTYnugqoG_Dek-yLedjbpIHY1iJh7Ex"
      ],
      "metadata": {
        "colab": {
          "base_uri": "https://localhost:8080/"
        },
        "id": "xM4tNqEvq0xd",
        "outputId": "7cfa7f5d-bcc4-42f1-a8c5-e43d070e3654"
      },
      "execution_count": 3,
      "outputs": [
        {
          "output_type": "stream",
          "name": "stdout",
          "text": [
            "Downloading...\n",
            "From: https://drive.google.com/uc?id=1JUTYnugqoG_Dek-yLedjbpIHY1iJh7Ex\n",
            "To: /content/desafio_indicium_imdb.csv\n",
            "\r  0% 0.00/303k [00:00<?, ?B/s]\r100% 303k/303k [00:00<00:00, 85.8MB/s]\n"
          ]
        }
      ]
    },
    {
      "cell_type": "markdown",
      "source": [
        "## **Análise Exploratória de Dados (EDA)**"
      ],
      "metadata": {
        "id": "9_b13qajMSg9"
      }
    },
    {
      "cell_type": "markdown",
      "source": [
        "\n",
        "Agora que já entendemos o problema, podemos começar nossa EDA!\n",
        "\n",
        "A etapa de EDA é o principal passo de um projeto de Ciência de Dados, para uma boa EDA é necessário seguir alguns passos composto pelas seis fases de perguntar, preparar, processar, analisar, compartilhar e agir.\n",
        "\n",
        "Seu objetivo é obter insights que impulsionem a tomada de decisões informadas."
      ],
      "metadata": {
        "id": "rfVEstjFMZkx"
      }
    },
    {
      "cell_type": "markdown",
      "source": [
        "Importando as bibliotecas necessárias"
      ],
      "metadata": {
        "id": "KJIOnwmitTrg"
      }
    },
    {
      "cell_type": "code",
      "source": [
        "from sklearn.metrics import r2_score, mean_squared_error\n",
        "from sklearn.ensemble import GradientBoostingRegressor\n",
        "from sklearn.model_selection import train_test_split\n",
        "from sklearn.ensemble import RandomForestRegressor\n",
        "from sklearn.preprocessing import StandardScaler\n",
        "from sklearn.metrics import mean_absolute_error\n",
        "from nltk.corpus import stopwords\n",
        "from collections import Counter\n",
        "from xgboost import XGBRegressor\n",
        "from scipy.stats import f_oneway\n",
        "import matplotlib.pyplot as plt\n",
        "import seaborn as sns\n",
        "import pandas as pd\n",
        "import numpy as np\n",
        "import warnings\n",
        "import joblib\n",
        "import base64\n",
        "import random\n",
        "import nltk\n",
        "import os\n",
        "import re"
      ],
      "metadata": {
        "id": "LAL0b4FZq0t6"
      },
      "execution_count": 4,
      "outputs": []
    },
    {
      "cell_type": "code",
      "execution_count": 5,
      "metadata": {
        "id": "rHp2zunQniQo"
      },
      "outputs": [],
      "source": [
        "df = pd.read_csv(\"desafio_indicium_imdb.csv\")"
      ]
    },
    {
      "cell_type": "markdown",
      "source": [
        "\n",
        "Para obter uma visão geral rápida do conjunto de dados e entender suas principais características, vamos carregar as **primeiras e últimas linhas do dataset**.\n",
        "\n",
        "Essa abordagem nos permitirá explorar uma amostra representativa sem a necessidade de carregar todo o conjunto de dados, facilitando a análise inicial e identificando possíveis padrões ou problemas de qualidade dos dados.\n"
      ],
      "metadata": {
        "id": "lEf3r4OVMtct"
      }
    },
    {
      "cell_type": "code",
      "source": [
        "df.head()"
      ],
      "metadata": {
        "colab": {
          "base_uri": "https://localhost:8080/",
          "height": 712
        },
        "id": "ncsUXGvQtl7t",
        "outputId": "cc76bfa6-7b3e-4378-d2a2-c625cc880661"
      },
      "execution_count": 6,
      "outputs": [
        {
          "output_type": "execute_result",
          "data": {
            "text/plain": [
              "   Unnamed: 0                                   Series_Title Released_Year  \\\n",
              "0           1                                  The Godfather          1972   \n",
              "1           2                                The Dark Knight          2008   \n",
              "2           3                         The Godfather: Part II          1974   \n",
              "3           4                                   12 Angry Men          1957   \n",
              "4           5  The Lord of the Rings: The Return of the King          2003   \n",
              "\n",
              "  Certificate  Runtime                     Genre  IMDB_Rating  \\\n",
              "0           A  175 min              Crime, Drama          9.2   \n",
              "1          UA  152 min      Action, Crime, Drama          9.0   \n",
              "2           A  202 min              Crime, Drama          9.0   \n",
              "3           U   96 min              Crime, Drama          9.0   \n",
              "4           U  201 min  Action, Adventure, Drama          8.9   \n",
              "\n",
              "                                            Overview  Meta_score  \\\n",
              "0  An organized crime dynasty's aging patriarch t...       100.0   \n",
              "1  When the menace known as the Joker wreaks havo...        84.0   \n",
              "2  The early life and career of Vito Corleone in ...        90.0   \n",
              "3  A jury holdout attempts to prevent a miscarria...        96.0   \n",
              "4  Gandalf and Aragorn lead the World of Men agai...        94.0   \n",
              "\n",
              "               Director           Star1            Star2          Star3  \\\n",
              "0  Francis Ford Coppola   Marlon Brando        Al Pacino     James Caan   \n",
              "1     Christopher Nolan  Christian Bale     Heath Ledger  Aaron Eckhart   \n",
              "2  Francis Ford Coppola       Al Pacino   Robert De Niro  Robert Duvall   \n",
              "3          Sidney Lumet     Henry Fonda      Lee J. Cobb  Martin Balsam   \n",
              "4         Peter Jackson     Elijah Wood  Viggo Mortensen   Ian McKellen   \n",
              "\n",
              "           Star4  No_of_Votes        Gross  \n",
              "0   Diane Keaton      1620367  134,966,411  \n",
              "1  Michael Caine      2303232  534,858,444  \n",
              "2   Diane Keaton      1129952   57,300,000  \n",
              "3   John Fiedler       689845    4,360,000  \n",
              "4  Orlando Bloom      1642758  377,845,905  "
            ],
            "text/html": [
              "\n",
              "  <div id=\"df-d322c5d0-8277-4adc-88e4-d50ab1e44419\" class=\"colab-df-container\">\n",
              "    <div>\n",
              "<style scoped>\n",
              "    .dataframe tbody tr th:only-of-type {\n",
              "        vertical-align: middle;\n",
              "    }\n",
              "\n",
              "    .dataframe tbody tr th {\n",
              "        vertical-align: top;\n",
              "    }\n",
              "\n",
              "    .dataframe thead th {\n",
              "        text-align: right;\n",
              "    }\n",
              "</style>\n",
              "<table border=\"1\" class=\"dataframe\">\n",
              "  <thead>\n",
              "    <tr style=\"text-align: right;\">\n",
              "      <th></th>\n",
              "      <th>Unnamed: 0</th>\n",
              "      <th>Series_Title</th>\n",
              "      <th>Released_Year</th>\n",
              "      <th>Certificate</th>\n",
              "      <th>Runtime</th>\n",
              "      <th>Genre</th>\n",
              "      <th>IMDB_Rating</th>\n",
              "      <th>Overview</th>\n",
              "      <th>Meta_score</th>\n",
              "      <th>Director</th>\n",
              "      <th>Star1</th>\n",
              "      <th>Star2</th>\n",
              "      <th>Star3</th>\n",
              "      <th>Star4</th>\n",
              "      <th>No_of_Votes</th>\n",
              "      <th>Gross</th>\n",
              "    </tr>\n",
              "  </thead>\n",
              "  <tbody>\n",
              "    <tr>\n",
              "      <th>0</th>\n",
              "      <td>1</td>\n",
              "      <td>The Godfather</td>\n",
              "      <td>1972</td>\n",
              "      <td>A</td>\n",
              "      <td>175 min</td>\n",
              "      <td>Crime, Drama</td>\n",
              "      <td>9.2</td>\n",
              "      <td>An organized crime dynasty's aging patriarch t...</td>\n",
              "      <td>100.0</td>\n",
              "      <td>Francis Ford Coppola</td>\n",
              "      <td>Marlon Brando</td>\n",
              "      <td>Al Pacino</td>\n",
              "      <td>James Caan</td>\n",
              "      <td>Diane Keaton</td>\n",
              "      <td>1620367</td>\n",
              "      <td>134,966,411</td>\n",
              "    </tr>\n",
              "    <tr>\n",
              "      <th>1</th>\n",
              "      <td>2</td>\n",
              "      <td>The Dark Knight</td>\n",
              "      <td>2008</td>\n",
              "      <td>UA</td>\n",
              "      <td>152 min</td>\n",
              "      <td>Action, Crime, Drama</td>\n",
              "      <td>9.0</td>\n",
              "      <td>When the menace known as the Joker wreaks havo...</td>\n",
              "      <td>84.0</td>\n",
              "      <td>Christopher Nolan</td>\n",
              "      <td>Christian Bale</td>\n",
              "      <td>Heath Ledger</td>\n",
              "      <td>Aaron Eckhart</td>\n",
              "      <td>Michael Caine</td>\n",
              "      <td>2303232</td>\n",
              "      <td>534,858,444</td>\n",
              "    </tr>\n",
              "    <tr>\n",
              "      <th>2</th>\n",
              "      <td>3</td>\n",
              "      <td>The Godfather: Part II</td>\n",
              "      <td>1974</td>\n",
              "      <td>A</td>\n",
              "      <td>202 min</td>\n",
              "      <td>Crime, Drama</td>\n",
              "      <td>9.0</td>\n",
              "      <td>The early life and career of Vito Corleone in ...</td>\n",
              "      <td>90.0</td>\n",
              "      <td>Francis Ford Coppola</td>\n",
              "      <td>Al Pacino</td>\n",
              "      <td>Robert De Niro</td>\n",
              "      <td>Robert Duvall</td>\n",
              "      <td>Diane Keaton</td>\n",
              "      <td>1129952</td>\n",
              "      <td>57,300,000</td>\n",
              "    </tr>\n",
              "    <tr>\n",
              "      <th>3</th>\n",
              "      <td>4</td>\n",
              "      <td>12 Angry Men</td>\n",
              "      <td>1957</td>\n",
              "      <td>U</td>\n",
              "      <td>96 min</td>\n",
              "      <td>Crime, Drama</td>\n",
              "      <td>9.0</td>\n",
              "      <td>A jury holdout attempts to prevent a miscarria...</td>\n",
              "      <td>96.0</td>\n",
              "      <td>Sidney Lumet</td>\n",
              "      <td>Henry Fonda</td>\n",
              "      <td>Lee J. Cobb</td>\n",
              "      <td>Martin Balsam</td>\n",
              "      <td>John Fiedler</td>\n",
              "      <td>689845</td>\n",
              "      <td>4,360,000</td>\n",
              "    </tr>\n",
              "    <tr>\n",
              "      <th>4</th>\n",
              "      <td>5</td>\n",
              "      <td>The Lord of the Rings: The Return of the King</td>\n",
              "      <td>2003</td>\n",
              "      <td>U</td>\n",
              "      <td>201 min</td>\n",
              "      <td>Action, Adventure, Drama</td>\n",
              "      <td>8.9</td>\n",
              "      <td>Gandalf and Aragorn lead the World of Men agai...</td>\n",
              "      <td>94.0</td>\n",
              "      <td>Peter Jackson</td>\n",
              "      <td>Elijah Wood</td>\n",
              "      <td>Viggo Mortensen</td>\n",
              "      <td>Ian McKellen</td>\n",
              "      <td>Orlando Bloom</td>\n",
              "      <td>1642758</td>\n",
              "      <td>377,845,905</td>\n",
              "    </tr>\n",
              "  </tbody>\n",
              "</table>\n",
              "</div>\n",
              "    <div class=\"colab-df-buttons\">\n",
              "\n",
              "  <div class=\"colab-df-container\">\n",
              "    <button class=\"colab-df-convert\" onclick=\"convertToInteractive('df-d322c5d0-8277-4adc-88e4-d50ab1e44419')\"\n",
              "            title=\"Convert this dataframe to an interactive table.\"\n",
              "            style=\"display:none;\">\n",
              "\n",
              "  <svg xmlns=\"http://www.w3.org/2000/svg\" height=\"24px\" viewBox=\"0 -960 960 960\">\n",
              "    <path d=\"M120-120v-720h720v720H120Zm60-500h600v-160H180v160Zm220 220h160v-160H400v160Zm0 220h160v-160H400v160ZM180-400h160v-160H180v160Zm440 0h160v-160H620v160ZM180-180h160v-160H180v160Zm440 0h160v-160H620v160Z\"/>\n",
              "  </svg>\n",
              "    </button>\n",
              "\n",
              "  <style>\n",
              "    .colab-df-container {\n",
              "      display:flex;\n",
              "      gap: 12px;\n",
              "    }\n",
              "\n",
              "    .colab-df-convert {\n",
              "      background-color: #E8F0FE;\n",
              "      border: none;\n",
              "      border-radius: 50%;\n",
              "      cursor: pointer;\n",
              "      display: none;\n",
              "      fill: #1967D2;\n",
              "      height: 32px;\n",
              "      padding: 0 0 0 0;\n",
              "      width: 32px;\n",
              "    }\n",
              "\n",
              "    .colab-df-convert:hover {\n",
              "      background-color: #E2EBFA;\n",
              "      box-shadow: 0px 1px 2px rgba(60, 64, 67, 0.3), 0px 1px 3px 1px rgba(60, 64, 67, 0.15);\n",
              "      fill: #174EA6;\n",
              "    }\n",
              "\n",
              "    .colab-df-buttons div {\n",
              "      margin-bottom: 4px;\n",
              "    }\n",
              "\n",
              "    [theme=dark] .colab-df-convert {\n",
              "      background-color: #3B4455;\n",
              "      fill: #D2E3FC;\n",
              "    }\n",
              "\n",
              "    [theme=dark] .colab-df-convert:hover {\n",
              "      background-color: #434B5C;\n",
              "      box-shadow: 0px 1px 3px 1px rgba(0, 0, 0, 0.15);\n",
              "      filter: drop-shadow(0px 1px 2px rgba(0, 0, 0, 0.3));\n",
              "      fill: #FFFFFF;\n",
              "    }\n",
              "  </style>\n",
              "\n",
              "    <script>\n",
              "      const buttonEl =\n",
              "        document.querySelector('#df-d322c5d0-8277-4adc-88e4-d50ab1e44419 button.colab-df-convert');\n",
              "      buttonEl.style.display =\n",
              "        google.colab.kernel.accessAllowed ? 'block' : 'none';\n",
              "\n",
              "      async function convertToInteractive(key) {\n",
              "        const element = document.querySelector('#df-d322c5d0-8277-4adc-88e4-d50ab1e44419');\n",
              "        const dataTable =\n",
              "          await google.colab.kernel.invokeFunction('convertToInteractive',\n",
              "                                                    [key], {});\n",
              "        if (!dataTable) return;\n",
              "\n",
              "        const docLinkHtml = 'Like what you see? Visit the ' +\n",
              "          '<a target=\"_blank\" href=https://colab.research.google.com/notebooks/data_table.ipynb>data table notebook</a>'\n",
              "          + ' to learn more about interactive tables.';\n",
              "        element.innerHTML = '';\n",
              "        dataTable['output_type'] = 'display_data';\n",
              "        await google.colab.output.renderOutput(dataTable, element);\n",
              "        const docLink = document.createElement('div');\n",
              "        docLink.innerHTML = docLinkHtml;\n",
              "        element.appendChild(docLink);\n",
              "      }\n",
              "    </script>\n",
              "  </div>\n",
              "\n",
              "\n",
              "    <div id=\"df-02af4a05-8033-49d3-9bea-6499d78cfaf6\">\n",
              "      <button class=\"colab-df-quickchart\" onclick=\"quickchart('df-02af4a05-8033-49d3-9bea-6499d78cfaf6')\"\n",
              "                title=\"Suggest charts\"\n",
              "                style=\"display:none;\">\n",
              "\n",
              "<svg xmlns=\"http://www.w3.org/2000/svg\" height=\"24px\"viewBox=\"0 0 24 24\"\n",
              "     width=\"24px\">\n",
              "    <g>\n",
              "        <path d=\"M19 3H5c-1.1 0-2 .9-2 2v14c0 1.1.9 2 2 2h14c1.1 0 2-.9 2-2V5c0-1.1-.9-2-2-2zM9 17H7v-7h2v7zm4 0h-2V7h2v10zm4 0h-2v-4h2v4z\"/>\n",
              "    </g>\n",
              "</svg>\n",
              "      </button>\n",
              "\n",
              "<style>\n",
              "  .colab-df-quickchart {\n",
              "      --bg-color: #E8F0FE;\n",
              "      --fill-color: #1967D2;\n",
              "      --hover-bg-color: #E2EBFA;\n",
              "      --hover-fill-color: #174EA6;\n",
              "      --disabled-fill-color: #AAA;\n",
              "      --disabled-bg-color: #DDD;\n",
              "  }\n",
              "\n",
              "  [theme=dark] .colab-df-quickchart {\n",
              "      --bg-color: #3B4455;\n",
              "      --fill-color: #D2E3FC;\n",
              "      --hover-bg-color: #434B5C;\n",
              "      --hover-fill-color: #FFFFFF;\n",
              "      --disabled-bg-color: #3B4455;\n",
              "      --disabled-fill-color: #666;\n",
              "  }\n",
              "\n",
              "  .colab-df-quickchart {\n",
              "    background-color: var(--bg-color);\n",
              "    border: none;\n",
              "    border-radius: 50%;\n",
              "    cursor: pointer;\n",
              "    display: none;\n",
              "    fill: var(--fill-color);\n",
              "    height: 32px;\n",
              "    padding: 0;\n",
              "    width: 32px;\n",
              "  }\n",
              "\n",
              "  .colab-df-quickchart:hover {\n",
              "    background-color: var(--hover-bg-color);\n",
              "    box-shadow: 0 1px 2px rgba(60, 64, 67, 0.3), 0 1px 3px 1px rgba(60, 64, 67, 0.15);\n",
              "    fill: var(--button-hover-fill-color);\n",
              "  }\n",
              "\n",
              "  .colab-df-quickchart-complete:disabled,\n",
              "  .colab-df-quickchart-complete:disabled:hover {\n",
              "    background-color: var(--disabled-bg-color);\n",
              "    fill: var(--disabled-fill-color);\n",
              "    box-shadow: none;\n",
              "  }\n",
              "\n",
              "  .colab-df-spinner {\n",
              "    border: 2px solid var(--fill-color);\n",
              "    border-color: transparent;\n",
              "    border-bottom-color: var(--fill-color);\n",
              "    animation:\n",
              "      spin 1s steps(1) infinite;\n",
              "  }\n",
              "\n",
              "  @keyframes spin {\n",
              "    0% {\n",
              "      border-color: transparent;\n",
              "      border-bottom-color: var(--fill-color);\n",
              "      border-left-color: var(--fill-color);\n",
              "    }\n",
              "    20% {\n",
              "      border-color: transparent;\n",
              "      border-left-color: var(--fill-color);\n",
              "      border-top-color: var(--fill-color);\n",
              "    }\n",
              "    30% {\n",
              "      border-color: transparent;\n",
              "      border-left-color: var(--fill-color);\n",
              "      border-top-color: var(--fill-color);\n",
              "      border-right-color: var(--fill-color);\n",
              "    }\n",
              "    40% {\n",
              "      border-color: transparent;\n",
              "      border-right-color: var(--fill-color);\n",
              "      border-top-color: var(--fill-color);\n",
              "    }\n",
              "    60% {\n",
              "      border-color: transparent;\n",
              "      border-right-color: var(--fill-color);\n",
              "    }\n",
              "    80% {\n",
              "      border-color: transparent;\n",
              "      border-right-color: var(--fill-color);\n",
              "      border-bottom-color: var(--fill-color);\n",
              "    }\n",
              "    90% {\n",
              "      border-color: transparent;\n",
              "      border-bottom-color: var(--fill-color);\n",
              "    }\n",
              "  }\n",
              "</style>\n",
              "\n",
              "      <script>\n",
              "        async function quickchart(key) {\n",
              "          const quickchartButtonEl =\n",
              "            document.querySelector('#' + key + ' button');\n",
              "          quickchartButtonEl.disabled = true;  // To prevent multiple clicks.\n",
              "          quickchartButtonEl.classList.add('colab-df-spinner');\n",
              "          try {\n",
              "            const charts = await google.colab.kernel.invokeFunction(\n",
              "                'suggestCharts', [key], {});\n",
              "          } catch (error) {\n",
              "            console.error('Error during call to suggestCharts:', error);\n",
              "          }\n",
              "          quickchartButtonEl.classList.remove('colab-df-spinner');\n",
              "          quickchartButtonEl.classList.add('colab-df-quickchart-complete');\n",
              "        }\n",
              "        (() => {\n",
              "          let quickchartButtonEl =\n",
              "            document.querySelector('#df-02af4a05-8033-49d3-9bea-6499d78cfaf6 button');\n",
              "          quickchartButtonEl.style.display =\n",
              "            google.colab.kernel.accessAllowed ? 'block' : 'none';\n",
              "        })();\n",
              "      </script>\n",
              "    </div>\n",
              "\n",
              "    </div>\n",
              "  </div>\n"
            ],
            "application/vnd.google.colaboratory.intrinsic+json": {
              "type": "dataframe",
              "variable_name": "df",
              "summary": "{\n  \"name\": \"df\",\n  \"rows\": 999,\n  \"fields\": [\n    {\n      \"column\": \"Unnamed: 0\",\n      \"properties\": {\n        \"dtype\": \"number\",\n        \"std\": 288,\n        \"min\": 1,\n        \"max\": 999,\n        \"num_unique_values\": 999,\n        \"samples\": [\n          454,\n          794,\n          210\n        ],\n        \"semantic_type\": \"\",\n        \"description\": \"\"\n      }\n    },\n    {\n      \"column\": \"Series_Title\",\n      \"properties\": {\n        \"dtype\": \"string\",\n        \"num_unique_values\": 998,\n        \"samples\": [\n          \"Arsenic and Old Lace\",\n          \"Hedwig and the Angry Inch\",\n          \"\\u00d4kami kodomo no Ame to Yuki\"\n        ],\n        \"semantic_type\": \"\",\n        \"description\": \"\"\n      }\n    },\n    {\n      \"column\": \"Released_Year\",\n      \"properties\": {\n        \"dtype\": \"category\",\n        \"num_unique_values\": 100,\n        \"samples\": [\n          \"1934\",\n          \"1992\",\n          \"1989\"\n        ],\n        \"semantic_type\": \"\",\n        \"description\": \"\"\n      }\n    },\n    {\n      \"column\": \"Certificate\",\n      \"properties\": {\n        \"dtype\": \"category\",\n        \"num_unique_values\": 16,\n        \"samples\": [\n          \"A\",\n          \"UA\",\n          \"PG\"\n        ],\n        \"semantic_type\": \"\",\n        \"description\": \"\"\n      }\n    },\n    {\n      \"column\": \"Runtime\",\n      \"properties\": {\n        \"dtype\": \"category\",\n        \"num_unique_values\": 140,\n        \"samples\": [\n          \"205 min\",\n          \"129 min\",\n          \"112 min\"\n        ],\n        \"semantic_type\": \"\",\n        \"description\": \"\"\n      }\n    },\n    {\n      \"column\": \"Genre\",\n      \"properties\": {\n        \"dtype\": \"category\",\n        \"num_unique_values\": 202,\n        \"samples\": [\n          \"Comedy, Drama, Fantasy\",\n          \"Crime, Drama, Fantasy\",\n          \"Drama, Romance, War\"\n        ],\n        \"semantic_type\": \"\",\n        \"description\": \"\"\n      }\n    },\n    {\n      \"column\": \"IMDB_Rating\",\n      \"properties\": {\n        \"dtype\": \"number\",\n        \"std\": 0.2722895085128789,\n        \"min\": 7.6,\n        \"max\": 9.2,\n        \"num_unique_values\": 16,\n        \"samples\": [\n          9.2,\n          9.0,\n          8.6\n        ],\n        \"semantic_type\": \"\",\n        \"description\": \"\"\n      }\n    },\n    {\n      \"column\": \"Overview\",\n      \"properties\": {\n        \"dtype\": \"string\",\n        \"num_unique_values\": 999,\n        \"samples\": [\n          \"Three World War II veterans return home to small-town America to discover that they and their families have been irreparably changed.\",\n          \"A gender-queer punk-rock singer from East Berlin tours the U.S. with her band as she tells her life story and follows the former lover/band-mate who stole her songs.\",\n          \"With his wife's disappearance having become the focus of an intense media circus, a man sees the spotlight turned on him when it's suspected that he may not be innocent.\"\n        ],\n        \"semantic_type\": \"\",\n        \"description\": \"\"\n      }\n    },\n    {\n      \"column\": \"Meta_score\",\n      \"properties\": {\n        \"dtype\": \"number\",\n        \"std\": 12.383257326288954,\n        \"min\": 28.0,\n        \"max\": 100.0,\n        \"num_unique_values\": 63,\n        \"samples\": [\n          30.0,\n          52.0,\n          100.0\n        ],\n        \"semantic_type\": \"\",\n        \"description\": \"\"\n      }\n    },\n    {\n      \"column\": \"Director\",\n      \"properties\": {\n        \"dtype\": \"string\",\n        \"num_unique_values\": 548,\n        \"samples\": [\n          \"Satoshi Kon\",\n          \"David Lean\",\n          \"Yilmaz Erdogan\"\n        ],\n        \"semantic_type\": \"\",\n        \"description\": \"\"\n      }\n    },\n    {\n      \"column\": \"Star1\",\n      \"properties\": {\n        \"dtype\": \"string\",\n        \"num_unique_values\": 659,\n        \"samples\": [\n          \"Peter Dinklage\",\n          \"Jay Baruchel\",\n          \"Steve McQueen\"\n        ],\n        \"semantic_type\": \"\",\n        \"description\": \"\"\n      }\n    },\n    {\n      \"column\": \"Star2\",\n      \"properties\": {\n        \"dtype\": \"string\",\n        \"num_unique_values\": 840,\n        \"samples\": [\n          \"Jacques Villeret\",\n          \"Meg Ryan\",\n          \"J.K. Simmons\"\n        ],\n        \"semantic_type\": \"\",\n        \"description\": \"\"\n      }\n    },\n    {\n      \"column\": \"Star3\",\n      \"properties\": {\n        \"dtype\": \"string\",\n        \"num_unique_values\": 890,\n        \"samples\": [\n          \"Yacef Saadi\",\n          \"John Wray\",\n          \"Chazz Palminteri\"\n        ],\n        \"semantic_type\": \"\",\n        \"description\": \"\"\n      }\n    },\n    {\n      \"column\": \"Star4\",\n      \"properties\": {\n        \"dtype\": \"string\",\n        \"num_unique_values\": 938,\n        \"samples\": [\n          \"Veronica Cartwright\",\n          \"Domhnall Gleeson\",\n          \"Jennifer Ulrich\"\n        ],\n        \"semantic_type\": \"\",\n        \"description\": \"\"\n      }\n    },\n    {\n      \"column\": \"No_of_Votes\",\n      \"properties\": {\n        \"dtype\": \"number\",\n        \"std\": 320912,\n        \"min\": 25088,\n        \"max\": 2303232,\n        \"num_unique_values\": 998,\n        \"samples\": [\n          57259,\n          31957,\n          859695\n        ],\n        \"semantic_type\": \"\",\n        \"description\": \"\"\n      }\n    },\n    {\n      \"column\": \"Gross\",\n      \"properties\": {\n        \"dtype\": \"string\",\n        \"num_unique_values\": 822,\n        \"samples\": [\n          \"136,025,503\",\n          \"356,461,711\",\n          \"275,902\"\n        ],\n        \"semantic_type\": \"\",\n        \"description\": \"\"\n      }\n    }\n  ]\n}"
            }
          },
          "metadata": {},
          "execution_count": 6
        }
      ]
    },
    {
      "cell_type": "code",
      "source": [
        "df.tail()"
      ],
      "metadata": {
        "colab": {
          "base_uri": "https://localhost:8080/",
          "height": 660
        },
        "id": "rVt4qwPvtzga",
        "outputId": "3ae83b9d-c0a1-4bbb-d914-20670525edb7"
      },
      "execution_count": 7,
      "outputs": [
        {
          "output_type": "execute_result",
          "data": {
            "text/plain": [
              "     Unnamed: 0            Series_Title Released_Year Certificate  Runtime  \\\n",
              "994         995  Breakfast at Tiffany's          1961           A  115 min   \n",
              "995         996                   Giant          1956           G  201 min   \n",
              "996         997   From Here to Eternity          1953      Passed  118 min   \n",
              "997         998                Lifeboat          1944         NaN   97 min   \n",
              "998         999            The 39 Steps          1935         NaN   86 min   \n",
              "\n",
              "                        Genre  IMDB_Rating  \\\n",
              "994    Comedy, Drama, Romance          7.6   \n",
              "995            Drama, Western          7.6   \n",
              "996       Drama, Romance, War          7.6   \n",
              "997                Drama, War          7.6   \n",
              "998  Crime, Mystery, Thriller          7.6   \n",
              "\n",
              "                                              Overview  Meta_score  \\\n",
              "994  A young New York socialite becomes interested ...        76.0   \n",
              "995  Sprawling epic covering the life of a Texas ca...        84.0   \n",
              "996  In Hawaii in 1941, a private is cruelly punish...        85.0   \n",
              "997  Several survivors of a torpedoed merchant ship...        78.0   \n",
              "998  A man in London tries to help a counter-espion...        93.0   \n",
              "\n",
              "             Director              Star1              Star2           Star3  \\\n",
              "994     Blake Edwards     Audrey Hepburn     George Peppard   Patricia Neal   \n",
              "995    George Stevens   Elizabeth Taylor        Rock Hudson      James Dean   \n",
              "996    Fred Zinnemann     Burt Lancaster   Montgomery Clift    Deborah Kerr   \n",
              "997  Alfred Hitchcock  Tallulah Bankhead        John Hodiak   Walter Slezak   \n",
              "998  Alfred Hitchcock       Robert Donat  Madeleine Carroll  Lucie Mannheim   \n",
              "\n",
              "              Star4  No_of_Votes       Gross  \n",
              "994     Buddy Ebsen       166544         NaN  \n",
              "995   Carroll Baker        34075         NaN  \n",
              "996      Donna Reed        43374  30,500,000  \n",
              "997  William Bendix        26471         NaN  \n",
              "998  Godfrey Tearle        51853         NaN  "
            ],
            "text/html": [
              "\n",
              "  <div id=\"df-932ff43e-d11d-4961-a4e7-ef3546f58769\" class=\"colab-df-container\">\n",
              "    <div>\n",
              "<style scoped>\n",
              "    .dataframe tbody tr th:only-of-type {\n",
              "        vertical-align: middle;\n",
              "    }\n",
              "\n",
              "    .dataframe tbody tr th {\n",
              "        vertical-align: top;\n",
              "    }\n",
              "\n",
              "    .dataframe thead th {\n",
              "        text-align: right;\n",
              "    }\n",
              "</style>\n",
              "<table border=\"1\" class=\"dataframe\">\n",
              "  <thead>\n",
              "    <tr style=\"text-align: right;\">\n",
              "      <th></th>\n",
              "      <th>Unnamed: 0</th>\n",
              "      <th>Series_Title</th>\n",
              "      <th>Released_Year</th>\n",
              "      <th>Certificate</th>\n",
              "      <th>Runtime</th>\n",
              "      <th>Genre</th>\n",
              "      <th>IMDB_Rating</th>\n",
              "      <th>Overview</th>\n",
              "      <th>Meta_score</th>\n",
              "      <th>Director</th>\n",
              "      <th>Star1</th>\n",
              "      <th>Star2</th>\n",
              "      <th>Star3</th>\n",
              "      <th>Star4</th>\n",
              "      <th>No_of_Votes</th>\n",
              "      <th>Gross</th>\n",
              "    </tr>\n",
              "  </thead>\n",
              "  <tbody>\n",
              "    <tr>\n",
              "      <th>994</th>\n",
              "      <td>995</td>\n",
              "      <td>Breakfast at Tiffany's</td>\n",
              "      <td>1961</td>\n",
              "      <td>A</td>\n",
              "      <td>115 min</td>\n",
              "      <td>Comedy, Drama, Romance</td>\n",
              "      <td>7.6</td>\n",
              "      <td>A young New York socialite becomes interested ...</td>\n",
              "      <td>76.0</td>\n",
              "      <td>Blake Edwards</td>\n",
              "      <td>Audrey Hepburn</td>\n",
              "      <td>George Peppard</td>\n",
              "      <td>Patricia Neal</td>\n",
              "      <td>Buddy Ebsen</td>\n",
              "      <td>166544</td>\n",
              "      <td>NaN</td>\n",
              "    </tr>\n",
              "    <tr>\n",
              "      <th>995</th>\n",
              "      <td>996</td>\n",
              "      <td>Giant</td>\n",
              "      <td>1956</td>\n",
              "      <td>G</td>\n",
              "      <td>201 min</td>\n",
              "      <td>Drama, Western</td>\n",
              "      <td>7.6</td>\n",
              "      <td>Sprawling epic covering the life of a Texas ca...</td>\n",
              "      <td>84.0</td>\n",
              "      <td>George Stevens</td>\n",
              "      <td>Elizabeth Taylor</td>\n",
              "      <td>Rock Hudson</td>\n",
              "      <td>James Dean</td>\n",
              "      <td>Carroll Baker</td>\n",
              "      <td>34075</td>\n",
              "      <td>NaN</td>\n",
              "    </tr>\n",
              "    <tr>\n",
              "      <th>996</th>\n",
              "      <td>997</td>\n",
              "      <td>From Here to Eternity</td>\n",
              "      <td>1953</td>\n",
              "      <td>Passed</td>\n",
              "      <td>118 min</td>\n",
              "      <td>Drama, Romance, War</td>\n",
              "      <td>7.6</td>\n",
              "      <td>In Hawaii in 1941, a private is cruelly punish...</td>\n",
              "      <td>85.0</td>\n",
              "      <td>Fred Zinnemann</td>\n",
              "      <td>Burt Lancaster</td>\n",
              "      <td>Montgomery Clift</td>\n",
              "      <td>Deborah Kerr</td>\n",
              "      <td>Donna Reed</td>\n",
              "      <td>43374</td>\n",
              "      <td>30,500,000</td>\n",
              "    </tr>\n",
              "    <tr>\n",
              "      <th>997</th>\n",
              "      <td>998</td>\n",
              "      <td>Lifeboat</td>\n",
              "      <td>1944</td>\n",
              "      <td>NaN</td>\n",
              "      <td>97 min</td>\n",
              "      <td>Drama, War</td>\n",
              "      <td>7.6</td>\n",
              "      <td>Several survivors of a torpedoed merchant ship...</td>\n",
              "      <td>78.0</td>\n",
              "      <td>Alfred Hitchcock</td>\n",
              "      <td>Tallulah Bankhead</td>\n",
              "      <td>John Hodiak</td>\n",
              "      <td>Walter Slezak</td>\n",
              "      <td>William Bendix</td>\n",
              "      <td>26471</td>\n",
              "      <td>NaN</td>\n",
              "    </tr>\n",
              "    <tr>\n",
              "      <th>998</th>\n",
              "      <td>999</td>\n",
              "      <td>The 39 Steps</td>\n",
              "      <td>1935</td>\n",
              "      <td>NaN</td>\n",
              "      <td>86 min</td>\n",
              "      <td>Crime, Mystery, Thriller</td>\n",
              "      <td>7.6</td>\n",
              "      <td>A man in London tries to help a counter-espion...</td>\n",
              "      <td>93.0</td>\n",
              "      <td>Alfred Hitchcock</td>\n",
              "      <td>Robert Donat</td>\n",
              "      <td>Madeleine Carroll</td>\n",
              "      <td>Lucie Mannheim</td>\n",
              "      <td>Godfrey Tearle</td>\n",
              "      <td>51853</td>\n",
              "      <td>NaN</td>\n",
              "    </tr>\n",
              "  </tbody>\n",
              "</table>\n",
              "</div>\n",
              "    <div class=\"colab-df-buttons\">\n",
              "\n",
              "  <div class=\"colab-df-container\">\n",
              "    <button class=\"colab-df-convert\" onclick=\"convertToInteractive('df-932ff43e-d11d-4961-a4e7-ef3546f58769')\"\n",
              "            title=\"Convert this dataframe to an interactive table.\"\n",
              "            style=\"display:none;\">\n",
              "\n",
              "  <svg xmlns=\"http://www.w3.org/2000/svg\" height=\"24px\" viewBox=\"0 -960 960 960\">\n",
              "    <path d=\"M120-120v-720h720v720H120Zm60-500h600v-160H180v160Zm220 220h160v-160H400v160Zm0 220h160v-160H400v160ZM180-400h160v-160H180v160Zm440 0h160v-160H620v160ZM180-180h160v-160H180v160Zm440 0h160v-160H620v160Z\"/>\n",
              "  </svg>\n",
              "    </button>\n",
              "\n",
              "  <style>\n",
              "    .colab-df-container {\n",
              "      display:flex;\n",
              "      gap: 12px;\n",
              "    }\n",
              "\n",
              "    .colab-df-convert {\n",
              "      background-color: #E8F0FE;\n",
              "      border: none;\n",
              "      border-radius: 50%;\n",
              "      cursor: pointer;\n",
              "      display: none;\n",
              "      fill: #1967D2;\n",
              "      height: 32px;\n",
              "      padding: 0 0 0 0;\n",
              "      width: 32px;\n",
              "    }\n",
              "\n",
              "    .colab-df-convert:hover {\n",
              "      background-color: #E2EBFA;\n",
              "      box-shadow: 0px 1px 2px rgba(60, 64, 67, 0.3), 0px 1px 3px 1px rgba(60, 64, 67, 0.15);\n",
              "      fill: #174EA6;\n",
              "    }\n",
              "\n",
              "    .colab-df-buttons div {\n",
              "      margin-bottom: 4px;\n",
              "    }\n",
              "\n",
              "    [theme=dark] .colab-df-convert {\n",
              "      background-color: #3B4455;\n",
              "      fill: #D2E3FC;\n",
              "    }\n",
              "\n",
              "    [theme=dark] .colab-df-convert:hover {\n",
              "      background-color: #434B5C;\n",
              "      box-shadow: 0px 1px 3px 1px rgba(0, 0, 0, 0.15);\n",
              "      filter: drop-shadow(0px 1px 2px rgba(0, 0, 0, 0.3));\n",
              "      fill: #FFFFFF;\n",
              "    }\n",
              "  </style>\n",
              "\n",
              "    <script>\n",
              "      const buttonEl =\n",
              "        document.querySelector('#df-932ff43e-d11d-4961-a4e7-ef3546f58769 button.colab-df-convert');\n",
              "      buttonEl.style.display =\n",
              "        google.colab.kernel.accessAllowed ? 'block' : 'none';\n",
              "\n",
              "      async function convertToInteractive(key) {\n",
              "        const element = document.querySelector('#df-932ff43e-d11d-4961-a4e7-ef3546f58769');\n",
              "        const dataTable =\n",
              "          await google.colab.kernel.invokeFunction('convertToInteractive',\n",
              "                                                    [key], {});\n",
              "        if (!dataTable) return;\n",
              "\n",
              "        const docLinkHtml = 'Like what you see? Visit the ' +\n",
              "          '<a target=\"_blank\" href=https://colab.research.google.com/notebooks/data_table.ipynb>data table notebook</a>'\n",
              "          + ' to learn more about interactive tables.';\n",
              "        element.innerHTML = '';\n",
              "        dataTable['output_type'] = 'display_data';\n",
              "        await google.colab.output.renderOutput(dataTable, element);\n",
              "        const docLink = document.createElement('div');\n",
              "        docLink.innerHTML = docLinkHtml;\n",
              "        element.appendChild(docLink);\n",
              "      }\n",
              "    </script>\n",
              "  </div>\n",
              "\n",
              "\n",
              "    <div id=\"df-f346c748-439a-43a8-b486-7ae02f55c08e\">\n",
              "      <button class=\"colab-df-quickchart\" onclick=\"quickchart('df-f346c748-439a-43a8-b486-7ae02f55c08e')\"\n",
              "                title=\"Suggest charts\"\n",
              "                style=\"display:none;\">\n",
              "\n",
              "<svg xmlns=\"http://www.w3.org/2000/svg\" height=\"24px\"viewBox=\"0 0 24 24\"\n",
              "     width=\"24px\">\n",
              "    <g>\n",
              "        <path d=\"M19 3H5c-1.1 0-2 .9-2 2v14c0 1.1.9 2 2 2h14c1.1 0 2-.9 2-2V5c0-1.1-.9-2-2-2zM9 17H7v-7h2v7zm4 0h-2V7h2v10zm4 0h-2v-4h2v4z\"/>\n",
              "    </g>\n",
              "</svg>\n",
              "      </button>\n",
              "\n",
              "<style>\n",
              "  .colab-df-quickchart {\n",
              "      --bg-color: #E8F0FE;\n",
              "      --fill-color: #1967D2;\n",
              "      --hover-bg-color: #E2EBFA;\n",
              "      --hover-fill-color: #174EA6;\n",
              "      --disabled-fill-color: #AAA;\n",
              "      --disabled-bg-color: #DDD;\n",
              "  }\n",
              "\n",
              "  [theme=dark] .colab-df-quickchart {\n",
              "      --bg-color: #3B4455;\n",
              "      --fill-color: #D2E3FC;\n",
              "      --hover-bg-color: #434B5C;\n",
              "      --hover-fill-color: #FFFFFF;\n",
              "      --disabled-bg-color: #3B4455;\n",
              "      --disabled-fill-color: #666;\n",
              "  }\n",
              "\n",
              "  .colab-df-quickchart {\n",
              "    background-color: var(--bg-color);\n",
              "    border: none;\n",
              "    border-radius: 50%;\n",
              "    cursor: pointer;\n",
              "    display: none;\n",
              "    fill: var(--fill-color);\n",
              "    height: 32px;\n",
              "    padding: 0;\n",
              "    width: 32px;\n",
              "  }\n",
              "\n",
              "  .colab-df-quickchart:hover {\n",
              "    background-color: var(--hover-bg-color);\n",
              "    box-shadow: 0 1px 2px rgba(60, 64, 67, 0.3), 0 1px 3px 1px rgba(60, 64, 67, 0.15);\n",
              "    fill: var(--button-hover-fill-color);\n",
              "  }\n",
              "\n",
              "  .colab-df-quickchart-complete:disabled,\n",
              "  .colab-df-quickchart-complete:disabled:hover {\n",
              "    background-color: var(--disabled-bg-color);\n",
              "    fill: var(--disabled-fill-color);\n",
              "    box-shadow: none;\n",
              "  }\n",
              "\n",
              "  .colab-df-spinner {\n",
              "    border: 2px solid var(--fill-color);\n",
              "    border-color: transparent;\n",
              "    border-bottom-color: var(--fill-color);\n",
              "    animation:\n",
              "      spin 1s steps(1) infinite;\n",
              "  }\n",
              "\n",
              "  @keyframes spin {\n",
              "    0% {\n",
              "      border-color: transparent;\n",
              "      border-bottom-color: var(--fill-color);\n",
              "      border-left-color: var(--fill-color);\n",
              "    }\n",
              "    20% {\n",
              "      border-color: transparent;\n",
              "      border-left-color: var(--fill-color);\n",
              "      border-top-color: var(--fill-color);\n",
              "    }\n",
              "    30% {\n",
              "      border-color: transparent;\n",
              "      border-left-color: var(--fill-color);\n",
              "      border-top-color: var(--fill-color);\n",
              "      border-right-color: var(--fill-color);\n",
              "    }\n",
              "    40% {\n",
              "      border-color: transparent;\n",
              "      border-right-color: var(--fill-color);\n",
              "      border-top-color: var(--fill-color);\n",
              "    }\n",
              "    60% {\n",
              "      border-color: transparent;\n",
              "      border-right-color: var(--fill-color);\n",
              "    }\n",
              "    80% {\n",
              "      border-color: transparent;\n",
              "      border-right-color: var(--fill-color);\n",
              "      border-bottom-color: var(--fill-color);\n",
              "    }\n",
              "    90% {\n",
              "      border-color: transparent;\n",
              "      border-bottom-color: var(--fill-color);\n",
              "    }\n",
              "  }\n",
              "</style>\n",
              "\n",
              "      <script>\n",
              "        async function quickchart(key) {\n",
              "          const quickchartButtonEl =\n",
              "            document.querySelector('#' + key + ' button');\n",
              "          quickchartButtonEl.disabled = true;  // To prevent multiple clicks.\n",
              "          quickchartButtonEl.classList.add('colab-df-spinner');\n",
              "          try {\n",
              "            const charts = await google.colab.kernel.invokeFunction(\n",
              "                'suggestCharts', [key], {});\n",
              "          } catch (error) {\n",
              "            console.error('Error during call to suggestCharts:', error);\n",
              "          }\n",
              "          quickchartButtonEl.classList.remove('colab-df-spinner');\n",
              "          quickchartButtonEl.classList.add('colab-df-quickchart-complete');\n",
              "        }\n",
              "        (() => {\n",
              "          let quickchartButtonEl =\n",
              "            document.querySelector('#df-f346c748-439a-43a8-b486-7ae02f55c08e button');\n",
              "          quickchartButtonEl.style.display =\n",
              "            google.colab.kernel.accessAllowed ? 'block' : 'none';\n",
              "        })();\n",
              "      </script>\n",
              "    </div>\n",
              "\n",
              "    </div>\n",
              "  </div>\n"
            ],
            "application/vnd.google.colaboratory.intrinsic+json": {
              "type": "dataframe",
              "repr_error": "0"
            }
          },
          "metadata": {},
          "execution_count": 7
        }
      ]
    },
    {
      "cell_type": "markdown",
      "source": [
        "Além disso, vamos analisar as informações gerais do nosso DataFrame utilizando o método `df.info()`.\n",
        "\n",
        "Dessa forma, conseguimos visualizar a quantidade de linhas e colunas, os tipos de dados de cada variável, bem como a presença de valores nulos, o que será útil para definir os próximos passos de limpeza e tratamento."
      ],
      "metadata": {
        "id": "Gr6rgLqtNjQg"
      }
    },
    {
      "cell_type": "code",
      "source": [
        "df.info()"
      ],
      "metadata": {
        "colab": {
          "base_uri": "https://localhost:8080/"
        },
        "id": "y3k4vjaJuDS6",
        "outputId": "90da27cf-edc0-4564-8c52-560622e35da7"
      },
      "execution_count": 8,
      "outputs": [
        {
          "output_type": "stream",
          "name": "stdout",
          "text": [
            "<class 'pandas.core.frame.DataFrame'>\n",
            "RangeIndex: 999 entries, 0 to 998\n",
            "Data columns (total 16 columns):\n",
            " #   Column         Non-Null Count  Dtype  \n",
            "---  ------         --------------  -----  \n",
            " 0   Unnamed: 0     999 non-null    int64  \n",
            " 1   Series_Title   999 non-null    object \n",
            " 2   Released_Year  999 non-null    object \n",
            " 3   Certificate    898 non-null    object \n",
            " 4   Runtime        999 non-null    object \n",
            " 5   Genre          999 non-null    object \n",
            " 6   IMDB_Rating    999 non-null    float64\n",
            " 7   Overview       999 non-null    object \n",
            " 8   Meta_score     842 non-null    float64\n",
            " 9   Director       999 non-null    object \n",
            " 10  Star1          999 non-null    object \n",
            " 11  Star2          999 non-null    object \n",
            " 12  Star3          999 non-null    object \n",
            " 13  Star4          999 non-null    object \n",
            " 14  No_of_Votes    999 non-null    int64  \n",
            " 15  Gross          830 non-null    object \n",
            "dtypes: float64(2), int64(2), object(12)\n",
            "memory usage: 125.0+ KB\n"
          ]
        }
      ]
    },
    {
      "cell_type": "markdown",
      "source": [
        "Também verificamos os valores ausentes em cada coluna com `df.isnull().sum()`, para identificar quais variáveis precisarão de tratamento."
      ],
      "metadata": {
        "id": "tIN076TgOG2-"
      }
    },
    {
      "cell_type": "code",
      "source": [
        "df.isnull().sum()"
      ],
      "metadata": {
        "colab": {
          "base_uri": "https://localhost:8080/",
          "height": 585
        },
        "id": "vzv-flttuH8m",
        "outputId": "1a84220b-cfbb-4097-e36a-4a386317efa7"
      },
      "execution_count": 9,
      "outputs": [
        {
          "output_type": "execute_result",
          "data": {
            "text/plain": [
              "Unnamed: 0         0\n",
              "Series_Title       0\n",
              "Released_Year      0\n",
              "Certificate      101\n",
              "Runtime            0\n",
              "Genre              0\n",
              "IMDB_Rating        0\n",
              "Overview           0\n",
              "Meta_score       157\n",
              "Director           0\n",
              "Star1              0\n",
              "Star2              0\n",
              "Star3              0\n",
              "Star4              0\n",
              "No_of_Votes        0\n",
              "Gross            169\n",
              "dtype: int64"
            ],
            "text/html": [
              "<div>\n",
              "<style scoped>\n",
              "    .dataframe tbody tr th:only-of-type {\n",
              "        vertical-align: middle;\n",
              "    }\n",
              "\n",
              "    .dataframe tbody tr th {\n",
              "        vertical-align: top;\n",
              "    }\n",
              "\n",
              "    .dataframe thead th {\n",
              "        text-align: right;\n",
              "    }\n",
              "</style>\n",
              "<table border=\"1\" class=\"dataframe\">\n",
              "  <thead>\n",
              "    <tr style=\"text-align: right;\">\n",
              "      <th></th>\n",
              "      <th>0</th>\n",
              "    </tr>\n",
              "  </thead>\n",
              "  <tbody>\n",
              "    <tr>\n",
              "      <th>Unnamed: 0</th>\n",
              "      <td>0</td>\n",
              "    </tr>\n",
              "    <tr>\n",
              "      <th>Series_Title</th>\n",
              "      <td>0</td>\n",
              "    </tr>\n",
              "    <tr>\n",
              "      <th>Released_Year</th>\n",
              "      <td>0</td>\n",
              "    </tr>\n",
              "    <tr>\n",
              "      <th>Certificate</th>\n",
              "      <td>101</td>\n",
              "    </tr>\n",
              "    <tr>\n",
              "      <th>Runtime</th>\n",
              "      <td>0</td>\n",
              "    </tr>\n",
              "    <tr>\n",
              "      <th>Genre</th>\n",
              "      <td>0</td>\n",
              "    </tr>\n",
              "    <tr>\n",
              "      <th>IMDB_Rating</th>\n",
              "      <td>0</td>\n",
              "    </tr>\n",
              "    <tr>\n",
              "      <th>Overview</th>\n",
              "      <td>0</td>\n",
              "    </tr>\n",
              "    <tr>\n",
              "      <th>Meta_score</th>\n",
              "      <td>157</td>\n",
              "    </tr>\n",
              "    <tr>\n",
              "      <th>Director</th>\n",
              "      <td>0</td>\n",
              "    </tr>\n",
              "    <tr>\n",
              "      <th>Star1</th>\n",
              "      <td>0</td>\n",
              "    </tr>\n",
              "    <tr>\n",
              "      <th>Star2</th>\n",
              "      <td>0</td>\n",
              "    </tr>\n",
              "    <tr>\n",
              "      <th>Star3</th>\n",
              "      <td>0</td>\n",
              "    </tr>\n",
              "    <tr>\n",
              "      <th>Star4</th>\n",
              "      <td>0</td>\n",
              "    </tr>\n",
              "    <tr>\n",
              "      <th>No_of_Votes</th>\n",
              "      <td>0</td>\n",
              "    </tr>\n",
              "    <tr>\n",
              "      <th>Gross</th>\n",
              "      <td>169</td>\n",
              "    </tr>\n",
              "  </tbody>\n",
              "</table>\n",
              "</div><br><label><b>dtype:</b> int64</label>"
            ]
          },
          "metadata": {},
          "execution_count": 9
        }
      ]
    },
    {
      "cell_type": "markdown",
      "source": [
        "Com isso, podemos perceber que as colunas:\n",
        "\n",
        "\n",
        "* Certificate\n",
        "* Meta_score\n",
        "* Gross\n",
        "\n",
        "possuem valores nulos de 101, 157 e 169 respectivamente.\n"
      ],
      "metadata": {
        "id": "XyGILBDIQu2F"
      }
    },
    {
      "cell_type": "markdown",
      "source": [
        "Utilizo o método `nunique()` para identificar a quantidade de valores distintos em cada coluna, o que auxilia na compreensão da diversidade dos dados.\n",
        "\n",
        "Para isso, irei aplicá-lo apenas nas colunas categóricas — como `Released_Year, Certificate, Genre, Director e Star1 a Star4` — pois são variáveis em que faz sentido analisar a variedade.\n",
        "\n",
        "Dessa forma, é possível observar, por exemplo, quantos anos diferentes estão representados na base, quantas classificações indicativas existem, a diversidade de gêneros, bem como a variedade de diretores e atores."
      ],
      "metadata": {
        "id": "NnUaQcETRm88"
      }
    },
    {
      "cell_type": "code",
      "source": [
        "colunas_categorias = [\"Released_Year\", \"Certificate\", \"Genre\", \"Director\", \"Star1\", \"Star2\", \"Star3\", \"Star4\"]\n",
        "\n",
        "df[colunas_categorias].nunique()\n"
      ],
      "metadata": {
        "colab": {
          "base_uri": "https://localhost:8080/",
          "height": 335
        },
        "id": "pcnRCzoguOFT",
        "outputId": "5d3acd57-6c10-4830-db6f-3ff9413f8fb9"
      },
      "execution_count": 10,
      "outputs": [
        {
          "output_type": "execute_result",
          "data": {
            "text/plain": [
              "Released_Year    100\n",
              "Certificate       16\n",
              "Genre            202\n",
              "Director         548\n",
              "Star1            659\n",
              "Star2            840\n",
              "Star3            890\n",
              "Star4            938\n",
              "dtype: int64"
            ],
            "text/html": [
              "<div>\n",
              "<style scoped>\n",
              "    .dataframe tbody tr th:only-of-type {\n",
              "        vertical-align: middle;\n",
              "    }\n",
              "\n",
              "    .dataframe tbody tr th {\n",
              "        vertical-align: top;\n",
              "    }\n",
              "\n",
              "    .dataframe thead th {\n",
              "        text-align: right;\n",
              "    }\n",
              "</style>\n",
              "<table border=\"1\" class=\"dataframe\">\n",
              "  <thead>\n",
              "    <tr style=\"text-align: right;\">\n",
              "      <th></th>\n",
              "      <th>0</th>\n",
              "    </tr>\n",
              "  </thead>\n",
              "  <tbody>\n",
              "    <tr>\n",
              "      <th>Released_Year</th>\n",
              "      <td>100</td>\n",
              "    </tr>\n",
              "    <tr>\n",
              "      <th>Certificate</th>\n",
              "      <td>16</td>\n",
              "    </tr>\n",
              "    <tr>\n",
              "      <th>Genre</th>\n",
              "      <td>202</td>\n",
              "    </tr>\n",
              "    <tr>\n",
              "      <th>Director</th>\n",
              "      <td>548</td>\n",
              "    </tr>\n",
              "    <tr>\n",
              "      <th>Star1</th>\n",
              "      <td>659</td>\n",
              "    </tr>\n",
              "    <tr>\n",
              "      <th>Star2</th>\n",
              "      <td>840</td>\n",
              "    </tr>\n",
              "    <tr>\n",
              "      <th>Star3</th>\n",
              "      <td>890</td>\n",
              "    </tr>\n",
              "    <tr>\n",
              "      <th>Star4</th>\n",
              "      <td>938</td>\n",
              "    </tr>\n",
              "  </tbody>\n",
              "</table>\n",
              "</div><br><label><b>dtype:</b> int64</label>"
            ]
          },
          "metadata": {},
          "execution_count": 10
        }
      ]
    },
    {
      "cell_type": "markdown",
      "source": [
        "O comando `base.describe()` irá gerar uma estatística descritiva das colunas numéricas da nossa base, isso ajuda a entender a distribuição dos dados, identificar possíveis outliers e avaliar a dispersão dos valores."
      ],
      "metadata": {
        "id": "JqpqtB_8Tq0J"
      }
    },
    {
      "cell_type": "code",
      "source": [
        "df.describe()"
      ],
      "metadata": {
        "colab": {
          "base_uri": "https://localhost:8080/",
          "height": 300
        },
        "id": "Hr20jpw057nU",
        "outputId": "e099719e-11bd-4cf5-edb5-4c7e487a7797"
      },
      "execution_count": 11,
      "outputs": [
        {
          "output_type": "execute_result",
          "data": {
            "text/plain": [
              "       Unnamed: 0  IMDB_Rating  Meta_score   No_of_Votes\n",
              "count  999.000000   999.000000  842.000000  9.990000e+02\n",
              "mean   500.000000     7.947948   77.969121  2.716214e+05\n",
              "std    288.530761     0.272290   12.383257  3.209126e+05\n",
              "min      1.000000     7.600000   28.000000  2.508800e+04\n",
              "25%    250.500000     7.700000   70.000000  5.547150e+04\n",
              "50%    500.000000     7.900000   79.000000  1.383560e+05\n",
              "75%    749.500000     8.100000   87.000000  3.731675e+05\n",
              "max    999.000000     9.200000  100.000000  2.303232e+06"
            ],
            "text/html": [
              "\n",
              "  <div id=\"df-7c87d451-e4e6-4bbc-ab56-8fac8b906071\" class=\"colab-df-container\">\n",
              "    <div>\n",
              "<style scoped>\n",
              "    .dataframe tbody tr th:only-of-type {\n",
              "        vertical-align: middle;\n",
              "    }\n",
              "\n",
              "    .dataframe tbody tr th {\n",
              "        vertical-align: top;\n",
              "    }\n",
              "\n",
              "    .dataframe thead th {\n",
              "        text-align: right;\n",
              "    }\n",
              "</style>\n",
              "<table border=\"1\" class=\"dataframe\">\n",
              "  <thead>\n",
              "    <tr style=\"text-align: right;\">\n",
              "      <th></th>\n",
              "      <th>Unnamed: 0</th>\n",
              "      <th>IMDB_Rating</th>\n",
              "      <th>Meta_score</th>\n",
              "      <th>No_of_Votes</th>\n",
              "    </tr>\n",
              "  </thead>\n",
              "  <tbody>\n",
              "    <tr>\n",
              "      <th>count</th>\n",
              "      <td>999.000000</td>\n",
              "      <td>999.000000</td>\n",
              "      <td>842.000000</td>\n",
              "      <td>9.990000e+02</td>\n",
              "    </tr>\n",
              "    <tr>\n",
              "      <th>mean</th>\n",
              "      <td>500.000000</td>\n",
              "      <td>7.947948</td>\n",
              "      <td>77.969121</td>\n",
              "      <td>2.716214e+05</td>\n",
              "    </tr>\n",
              "    <tr>\n",
              "      <th>std</th>\n",
              "      <td>288.530761</td>\n",
              "      <td>0.272290</td>\n",
              "      <td>12.383257</td>\n",
              "      <td>3.209126e+05</td>\n",
              "    </tr>\n",
              "    <tr>\n",
              "      <th>min</th>\n",
              "      <td>1.000000</td>\n",
              "      <td>7.600000</td>\n",
              "      <td>28.000000</td>\n",
              "      <td>2.508800e+04</td>\n",
              "    </tr>\n",
              "    <tr>\n",
              "      <th>25%</th>\n",
              "      <td>250.500000</td>\n",
              "      <td>7.700000</td>\n",
              "      <td>70.000000</td>\n",
              "      <td>5.547150e+04</td>\n",
              "    </tr>\n",
              "    <tr>\n",
              "      <th>50%</th>\n",
              "      <td>500.000000</td>\n",
              "      <td>7.900000</td>\n",
              "      <td>79.000000</td>\n",
              "      <td>1.383560e+05</td>\n",
              "    </tr>\n",
              "    <tr>\n",
              "      <th>75%</th>\n",
              "      <td>749.500000</td>\n",
              "      <td>8.100000</td>\n",
              "      <td>87.000000</td>\n",
              "      <td>3.731675e+05</td>\n",
              "    </tr>\n",
              "    <tr>\n",
              "      <th>max</th>\n",
              "      <td>999.000000</td>\n",
              "      <td>9.200000</td>\n",
              "      <td>100.000000</td>\n",
              "      <td>2.303232e+06</td>\n",
              "    </tr>\n",
              "  </tbody>\n",
              "</table>\n",
              "</div>\n",
              "    <div class=\"colab-df-buttons\">\n",
              "\n",
              "  <div class=\"colab-df-container\">\n",
              "    <button class=\"colab-df-convert\" onclick=\"convertToInteractive('df-7c87d451-e4e6-4bbc-ab56-8fac8b906071')\"\n",
              "            title=\"Convert this dataframe to an interactive table.\"\n",
              "            style=\"display:none;\">\n",
              "\n",
              "  <svg xmlns=\"http://www.w3.org/2000/svg\" height=\"24px\" viewBox=\"0 -960 960 960\">\n",
              "    <path d=\"M120-120v-720h720v720H120Zm60-500h600v-160H180v160Zm220 220h160v-160H400v160Zm0 220h160v-160H400v160ZM180-400h160v-160H180v160Zm440 0h160v-160H620v160ZM180-180h160v-160H180v160Zm440 0h160v-160H620v160Z\"/>\n",
              "  </svg>\n",
              "    </button>\n",
              "\n",
              "  <style>\n",
              "    .colab-df-container {\n",
              "      display:flex;\n",
              "      gap: 12px;\n",
              "    }\n",
              "\n",
              "    .colab-df-convert {\n",
              "      background-color: #E8F0FE;\n",
              "      border: none;\n",
              "      border-radius: 50%;\n",
              "      cursor: pointer;\n",
              "      display: none;\n",
              "      fill: #1967D2;\n",
              "      height: 32px;\n",
              "      padding: 0 0 0 0;\n",
              "      width: 32px;\n",
              "    }\n",
              "\n",
              "    .colab-df-convert:hover {\n",
              "      background-color: #E2EBFA;\n",
              "      box-shadow: 0px 1px 2px rgba(60, 64, 67, 0.3), 0px 1px 3px 1px rgba(60, 64, 67, 0.15);\n",
              "      fill: #174EA6;\n",
              "    }\n",
              "\n",
              "    .colab-df-buttons div {\n",
              "      margin-bottom: 4px;\n",
              "    }\n",
              "\n",
              "    [theme=dark] .colab-df-convert {\n",
              "      background-color: #3B4455;\n",
              "      fill: #D2E3FC;\n",
              "    }\n",
              "\n",
              "    [theme=dark] .colab-df-convert:hover {\n",
              "      background-color: #434B5C;\n",
              "      box-shadow: 0px 1px 3px 1px rgba(0, 0, 0, 0.15);\n",
              "      filter: drop-shadow(0px 1px 2px rgba(0, 0, 0, 0.3));\n",
              "      fill: #FFFFFF;\n",
              "    }\n",
              "  </style>\n",
              "\n",
              "    <script>\n",
              "      const buttonEl =\n",
              "        document.querySelector('#df-7c87d451-e4e6-4bbc-ab56-8fac8b906071 button.colab-df-convert');\n",
              "      buttonEl.style.display =\n",
              "        google.colab.kernel.accessAllowed ? 'block' : 'none';\n",
              "\n",
              "      async function convertToInteractive(key) {\n",
              "        const element = document.querySelector('#df-7c87d451-e4e6-4bbc-ab56-8fac8b906071');\n",
              "        const dataTable =\n",
              "          await google.colab.kernel.invokeFunction('convertToInteractive',\n",
              "                                                    [key], {});\n",
              "        if (!dataTable) return;\n",
              "\n",
              "        const docLinkHtml = 'Like what you see? Visit the ' +\n",
              "          '<a target=\"_blank\" href=https://colab.research.google.com/notebooks/data_table.ipynb>data table notebook</a>'\n",
              "          + ' to learn more about interactive tables.';\n",
              "        element.innerHTML = '';\n",
              "        dataTable['output_type'] = 'display_data';\n",
              "        await google.colab.output.renderOutput(dataTable, element);\n",
              "        const docLink = document.createElement('div');\n",
              "        docLink.innerHTML = docLinkHtml;\n",
              "        element.appendChild(docLink);\n",
              "      }\n",
              "    </script>\n",
              "  </div>\n",
              "\n",
              "\n",
              "    <div id=\"df-f98cd27a-e40b-4aad-8e2f-9cda888df3a7\">\n",
              "      <button class=\"colab-df-quickchart\" onclick=\"quickchart('df-f98cd27a-e40b-4aad-8e2f-9cda888df3a7')\"\n",
              "                title=\"Suggest charts\"\n",
              "                style=\"display:none;\">\n",
              "\n",
              "<svg xmlns=\"http://www.w3.org/2000/svg\" height=\"24px\"viewBox=\"0 0 24 24\"\n",
              "     width=\"24px\">\n",
              "    <g>\n",
              "        <path d=\"M19 3H5c-1.1 0-2 .9-2 2v14c0 1.1.9 2 2 2h14c1.1 0 2-.9 2-2V5c0-1.1-.9-2-2-2zM9 17H7v-7h2v7zm4 0h-2V7h2v10zm4 0h-2v-4h2v4z\"/>\n",
              "    </g>\n",
              "</svg>\n",
              "      </button>\n",
              "\n",
              "<style>\n",
              "  .colab-df-quickchart {\n",
              "      --bg-color: #E8F0FE;\n",
              "      --fill-color: #1967D2;\n",
              "      --hover-bg-color: #E2EBFA;\n",
              "      --hover-fill-color: #174EA6;\n",
              "      --disabled-fill-color: #AAA;\n",
              "      --disabled-bg-color: #DDD;\n",
              "  }\n",
              "\n",
              "  [theme=dark] .colab-df-quickchart {\n",
              "      --bg-color: #3B4455;\n",
              "      --fill-color: #D2E3FC;\n",
              "      --hover-bg-color: #434B5C;\n",
              "      --hover-fill-color: #FFFFFF;\n",
              "      --disabled-bg-color: #3B4455;\n",
              "      --disabled-fill-color: #666;\n",
              "  }\n",
              "\n",
              "  .colab-df-quickchart {\n",
              "    background-color: var(--bg-color);\n",
              "    border: none;\n",
              "    border-radius: 50%;\n",
              "    cursor: pointer;\n",
              "    display: none;\n",
              "    fill: var(--fill-color);\n",
              "    height: 32px;\n",
              "    padding: 0;\n",
              "    width: 32px;\n",
              "  }\n",
              "\n",
              "  .colab-df-quickchart:hover {\n",
              "    background-color: var(--hover-bg-color);\n",
              "    box-shadow: 0 1px 2px rgba(60, 64, 67, 0.3), 0 1px 3px 1px rgba(60, 64, 67, 0.15);\n",
              "    fill: var(--button-hover-fill-color);\n",
              "  }\n",
              "\n",
              "  .colab-df-quickchart-complete:disabled,\n",
              "  .colab-df-quickchart-complete:disabled:hover {\n",
              "    background-color: var(--disabled-bg-color);\n",
              "    fill: var(--disabled-fill-color);\n",
              "    box-shadow: none;\n",
              "  }\n",
              "\n",
              "  .colab-df-spinner {\n",
              "    border: 2px solid var(--fill-color);\n",
              "    border-color: transparent;\n",
              "    border-bottom-color: var(--fill-color);\n",
              "    animation:\n",
              "      spin 1s steps(1) infinite;\n",
              "  }\n",
              "\n",
              "  @keyframes spin {\n",
              "    0% {\n",
              "      border-color: transparent;\n",
              "      border-bottom-color: var(--fill-color);\n",
              "      border-left-color: var(--fill-color);\n",
              "    }\n",
              "    20% {\n",
              "      border-color: transparent;\n",
              "      border-left-color: var(--fill-color);\n",
              "      border-top-color: var(--fill-color);\n",
              "    }\n",
              "    30% {\n",
              "      border-color: transparent;\n",
              "      border-left-color: var(--fill-color);\n",
              "      border-top-color: var(--fill-color);\n",
              "      border-right-color: var(--fill-color);\n",
              "    }\n",
              "    40% {\n",
              "      border-color: transparent;\n",
              "      border-right-color: var(--fill-color);\n",
              "      border-top-color: var(--fill-color);\n",
              "    }\n",
              "    60% {\n",
              "      border-color: transparent;\n",
              "      border-right-color: var(--fill-color);\n",
              "    }\n",
              "    80% {\n",
              "      border-color: transparent;\n",
              "      border-right-color: var(--fill-color);\n",
              "      border-bottom-color: var(--fill-color);\n",
              "    }\n",
              "    90% {\n",
              "      border-color: transparent;\n",
              "      border-bottom-color: var(--fill-color);\n",
              "    }\n",
              "  }\n",
              "</style>\n",
              "\n",
              "      <script>\n",
              "        async function quickchart(key) {\n",
              "          const quickchartButtonEl =\n",
              "            document.querySelector('#' + key + ' button');\n",
              "          quickchartButtonEl.disabled = true;  // To prevent multiple clicks.\n",
              "          quickchartButtonEl.classList.add('colab-df-spinner');\n",
              "          try {\n",
              "            const charts = await google.colab.kernel.invokeFunction(\n",
              "                'suggestCharts', [key], {});\n",
              "          } catch (error) {\n",
              "            console.error('Error during call to suggestCharts:', error);\n",
              "          }\n",
              "          quickchartButtonEl.classList.remove('colab-df-spinner');\n",
              "          quickchartButtonEl.classList.add('colab-df-quickchart-complete');\n",
              "        }\n",
              "        (() => {\n",
              "          let quickchartButtonEl =\n",
              "            document.querySelector('#df-f98cd27a-e40b-4aad-8e2f-9cda888df3a7 button');\n",
              "          quickchartButtonEl.style.display =\n",
              "            google.colab.kernel.accessAllowed ? 'block' : 'none';\n",
              "        })();\n",
              "      </script>\n",
              "    </div>\n",
              "\n",
              "    </div>\n",
              "  </div>\n"
            ],
            "application/vnd.google.colaboratory.intrinsic+json": {
              "type": "dataframe",
              "summary": "{\n  \"name\": \"df\",\n  \"rows\": 8,\n  \"fields\": [\n    {\n      \"column\": \"Unnamed: 0\",\n      \"properties\": {\n        \"dtype\": \"number\",\n        \"std\": 359.7396869891102,\n        \"min\": 1.0,\n        \"max\": 999.0,\n        \"num_unique_values\": 6,\n        \"samples\": [\n          999.0,\n          500.0,\n          749.5\n        ],\n        \"semantic_type\": \"\",\n        \"description\": \"\"\n      }\n    },\n    {\n      \"column\": \"IMDB_Rating\",\n      \"properties\": {\n        \"dtype\": \"number\",\n        \"std\": 350.75006201428675,\n        \"min\": 0.2722895085128789,\n        \"max\": 999.0,\n        \"num_unique_values\": 8,\n        \"samples\": [\n          7.947947947947948,\n          7.9,\n          999.0\n        ],\n        \"semantic_type\": \"\",\n        \"description\": \"\"\n      }\n    },\n    {\n      \"column\": \"Meta_score\",\n      \"properties\": {\n        \"dtype\": \"number\",\n        \"std\": 276.3601022395363,\n        \"min\": 12.383257326288954,\n        \"max\": 842.0,\n        \"num_unique_values\": 8,\n        \"samples\": [\n          77.96912114014252,\n          79.0,\n          842.0\n        ],\n        \"semantic_type\": \"\",\n        \"description\": \"\"\n      }\n    },\n    {\n      \"column\": \"No_of_Votes\",\n      \"properties\": {\n        \"dtype\": \"number\",\n        \"std\": 767392.3403630465,\n        \"min\": 999.0,\n        \"max\": 2303232.0,\n        \"num_unique_values\": 8,\n        \"samples\": [\n          271621.42242242245,\n          138356.0,\n          999.0\n        ],\n        \"semantic_type\": \"\",\n        \"description\": \"\"\n      }\n    }\n  ]\n}"
            }
          },
          "metadata": {},
          "execution_count": 11
        }
      ]
    },
    {
      "cell_type": "markdown",
      "source": [
        "Com isso, podemos interpretar que:\n",
        "\n",
        "- **IMDB_Rating:** os filmes possuem avaliações geralmente altas, com média de 7,95 e pouca variação (min 7,6, max 9,2).\n",
        "\n",
        "- **Meta_score:** apresenta maior dispersão (média 77,97) e cerca de 16% dos registros estão ausentes.\n",
        "\n",
        "- **No_of_Votes:** há grande desigualdade na quantidade de votos, com média de 271.621 e mediana de 138.356, indicando que alguns filmes com muitos votos puxam a média para cima (outliers)."
      ],
      "metadata": {
        "id": "GPF1c4jiUc7q"
      }
    },
    {
      "cell_type": "markdown",
      "source": [
        "Concluimos que, se uma coluna tem muitos valores únicos e não possui um padrão claro, pode não ser útil para o modelo. Porém, variáveis numéricas ou categóricas relevantes ainda podem ser transformadas para melhorar a performance do modelo.\n",
        "\n"
      ],
      "metadata": {
        "id": "5P6SNaxQVXiL"
      }
    },
    {
      "cell_type": "markdown",
      "source": [
        "### Visualizando de forma gráfica"
      ],
      "metadata": {
        "id": "58YIzdHkWJqY"
      }
    },
    {
      "cell_type": "markdown",
      "source": [
        "Para ficar mais intuitivo e didático, vamos escolher por visualizar esses dados de forma gráfica, utilizando a biblioteca matplotlib, importada no começo do nosso projeto"
      ],
      "metadata": {
        "id": "MY36u8XTWR-D"
      }
    },
    {
      "cell_type": "markdown",
      "source": [
        "Primeiro, vamos construir histogramas das colunas `IMDB_Rating, Meta_score e No_of_Votes`, pois são variáveis numéricas que permitem visualizar a distribuição dos dados.\n",
        "\n",
        "Dessa forma, podemos identificar padrões, concentrações de valores e possíveis características que influenciam o comportamento dos filmes"
      ],
      "metadata": {
        "id": "lTSXrAJ-XxTG"
      }
    },
    {
      "cell_type": "code",
      "source": [
        "cols = [\"IMDB_Rating\", \"Meta_score\", \"No_of_Votes\"]\n",
        "\n",
        "fig, axes = plt.subplots(1, 3, figsize=(20, 5))\n",
        "\n",
        "for i, col in enumerate(cols):\n",
        "  axes[i].hist(df[col].dropna(), bins=20, color=\"purple\", edgecolor='black')\n",
        "  axes[i].set_title(col)\n",
        "  axes[i].set_xlabel(\"Valores\")\n",
        "  axes[i].set_ylabel(\"Contagem\")\n",
        "\n",
        "\n",
        "plt.tight_layout()\n",
        "plt.show()"
      ],
      "metadata": {
        "colab": {
          "base_uri": "https://localhost:8080/",
          "height": 172
        },
        "id": "zVD-cep9XRUk",
        "outputId": "bf28ea2a-a939-4a4e-d94d-0b3e72d3a381"
      },
      "execution_count": 12,
      "outputs": [
        {
          "output_type": "display_data",
          "data": {
            "text/plain": [
              "<Figure size 2000x500 with 3 Axes>"
            ],
            "image/png": "[encoded data removed]"
          },
          "metadata": {}
        }
      ]
    },
    {
      "cell_type": "markdown",
      "source": [
        "Feito isso, podemos concluir que:\n",
        "\n",
        "- **IMDB_Rating:**\n",
        "  - Distribuição levemente assimétrica à esquerda: a maioria dos filmes tem notas altas.\n",
        "\n",
        "  - Pico: entre 7,8 e 8, indicando que a maioria dos filmes é bem avaliada.\n",
        "\n",
        "  - Dispersão: varia de 7,6 a 9,2; poucos filmes com notas muito baixas ou muito altas.\n",
        "\n",
        "- **Meta_score:**\n",
        "  - Distribuição semelhante ao IMDB, também com maior concentração em pontuações altas.\n",
        "\n",
        "  - Pico: 80–85, com muitos filmes acima de 80.\n",
        "\n",
        "  - Dispersão: varia de 30 a 100, poucos filmes com Meta_score abaixo de 50.\n",
        "\n",
        "- **No_of_Votes:**\n",
        "  - Distribuição altamente assimétrica à direita: a maioria dos filmes tem poucos votos.\n",
        "\n",
        "  - Pico: filmes com menor número de votos (~0–250.000).\n",
        "\n",
        "  - Dispersão: alguns filmes com milhões de votos, formando uma cauda longa (outliers)."
      ],
      "metadata": {
        "id": "hIpLO-m7av1-"
      }
    },
    {
      "cell_type": "markdown",
      "source": [
        "Como podemos observar nos histogramas, algumas colunas **apresentam valores que se destacam da maioria, indicando a possível presença de outliers**. Sendo assim, vamos verificar essas colunas com **boxplots**, que permitem identificar de forma clara os valores extremos e a dispersão dos dados."
      ],
      "metadata": {
        "id": "pHKw6J0Pc6zY"
      }
    },
    {
      "cell_type": "markdown",
      "source": [
        "Antes de criar os boxplots, devemos transformar as colunas `Gross` e `Runtime` para o tipo numérico (float), pois atualmente estão como texto (object).\n",
        "\n",
        "Essa conversão permite que possamos analisar corretamente a dispersão dos dados e identificar outliers nessas colunas."
      ],
      "metadata": {
        "id": "8zj9K2SBd8zd"
      }
    },
    {
      "cell_type": "code",
      "source": [
        "df[\"Gross\"] = df[\"Gross\"].str.replace(\",\", \"\").str.replace(\"$\", \"\", regex=True).astype(float)\n",
        "df[\"Runtime\"] = df[\"Runtime\"].str.replace(\" min\", \"\").astype(float)"
      ],
      "metadata": {
        "id": "k8WSFXdzeUVW"
      },
      "execution_count": 13,
      "outputs": []
    },
    {
      "cell_type": "code",
      "source": [
        "cols = [\"No_of_Votes\", \"Gross\", \"Runtime\"]\n",
        "\n",
        "\n",
        "fig, axes = plt.subplots(1, 3, figsize=(15,5))\n",
        "\n",
        "for i, col in enumerate(cols):\n",
        "    axes[i].boxplot(df[col].dropna())\n",
        "    axes[i].set_title(col)\n",
        "    axes[i].set_ylabel(col)\n",
        "\n",
        "    if col in [\"Gross\", \"No_of_Votes\"]:\n",
        "        axes[i].set_yscale('log')\n",
        "\n",
        "plt.tight_layout()\n",
        "plt.show()"
      ],
      "metadata": {
        "colab": {
          "base_uri": "https://localhost:8080/",
          "height": 224
        },
        "id": "BzfS3UX_evu-",
        "outputId": "6993631b-01b5-4e55-876d-0791be4bd20d"
      },
      "execution_count": 14,
      "outputs": [
        {
          "output_type": "display_data",
          "data": {
            "text/plain": [
              "<Figure size 1500x500 with 3 Axes>"
            ],
            "image/png": "[encoded data removed]"
          },
          "metadata": {}
        }
      ]
    },
    {
      "cell_type": "markdown",
      "source": [
        "- **No_of_Votes (Número de Votos):**\n",
        "\n",
        "  - Escala logarítmica para lidar com a ampla gama de valores.\n",
        "\n",
        "  - Mediana: ~100.000 votos; metade dos filmes tem menos, metade tem mais.\n",
        "\n",
        "  - Dispersão: caixa grande indica alta variação entre os 25º e 75º percentis.\n",
        "\n",
        "  - Outliers: filmes com milhões de votos, confirmando a longa cauda observada no histograma.\n",
        "\n",
        "- **Gross (Bilheteria):**\n",
        "\n",
        "  - Escala logarítmica.\n",
        "\n",
        "  - Mediana: pouco acima de 100.000.\n",
        "\n",
        "  - Dispersão: variação significativa entre os quartis, mostrando diferenças de faturamento.\n",
        "\n",
        "  - Outliers: \"blockbusters\" com bilheteria muito maior que a maioria.\n",
        "\n",
        "- **Runtime (Duração):**\n",
        "\n",
        "  - Mediana: ~115 minutos.\n",
        "\n",
        "  - Dispersão: 50% dos filmes entre 100 e 130 minutos.\n",
        "\n",
        "  - Extremos: bigodes vão de ~65 a 180 minutos.\n",
        "\n",
        "  - - Outliers: alguns filmes muito curtos (`<65 min`) e muito longos (~320 min).\n"
      ],
      "metadata": {
        "id": "thkjVtqZgH89"
      }
    },
    {
      "cell_type": "markdown",
      "source": [
        "Embora alguns valores em `No_of_Votes` e `Gross` sejam extremos, **eles representam filmes excepcionais, como blockbusters ou filmes com grande popularidade.** Para o contexto deste dataset, esses outliers são válidos e fornecem insights relevantes sobre filmes de grande destaque.\n",
        "\n",
        "Para lidar com a ampla variação desses dados e tornar os outliers visualmente claros, **apliquei escala logarítmica nos boxplots**. Essa transformação não remove os valores extremos, mas permite observar melhor a dispersão dos dados e identificar padrões, sem distorcer a análise.\n",
        "\n",
        "Portanto, optei por mantê-los para a EDA, garantindo uma visão fiel da distribuição dos dados."
      ],
      "metadata": {
        "id": "IDDNMSlfiB9I"
      }
    },
    {
      "cell_type": "markdown",
      "source": [
        "### Cálculo dos Outliers\n",
        "\n",
        "Para identificar outliers em cada coluna numérica, definimos **limites inferiores e superiores** usando o **Intervalo Interquartil (IQR)**.\n",
        "\n",
        "A fórmula é:\n",
        "\n",
        "- Limite inferior: `Q1 - 1.5 * IQR`  \n",
        "- Limite superior: `Q3 + 1.5 * IQR`\n",
        "\n",
        "Onde:  \n",
        "- **Q1 (1º quartil):** separa os 25% menores da amostra  \n",
        "- **Q3 (3º quartil):** separa os 25% maiores da amostra  \n",
        "- **IQR:** diferença entre Q3 e Q1, representando a dispersão do meio dos dados  \n",
        "\n",
        "Valores abaixo do limite inferior ou acima do limite superior são considerados **outliers**.\n"
      ],
      "metadata": {
        "id": "TlYhcAOcoTKW"
      }
    },
    {
      "cell_type": "code",
      "source": [
        "def print_outlier_info(series, nome_coluna):\n",
        "    Q1 = series.quantile(0.25)\n",
        "    Q3 = series.quantile(0.75)\n",
        "    IQR = Q3 - Q1\n",
        "    lower = Q1 - 1.5 * IQR\n",
        "    upper = Q3 + 1.5 * IQR\n",
        "    count = ((series < lower) | (series > upper)).sum()\n",
        "\n",
        "    print(f\"Coluna: {nome_coluna}\")\n",
        "    print(f\"IQR: {IQR:.2f}\")\n",
        "    print(f\"Limite inferior: {lower:.2f}\")\n",
        "    print(f\"Limite superior: {upper:.2f}\")\n",
        "    print(f\"Total de outliers: {count}\")\n",
        "    print(\"-\"*30)\n",
        "\n",
        "cols = [\"No_of_Votes\", \"Gross\", \"Runtime\"]\n",
        "\n",
        "for col in cols:\n",
        "    print_outlier_info(df[col], col)\n"
      ],
      "metadata": {
        "colab": {
          "base_uri": "https://localhost:8080/"
        },
        "id": "EGMDz_qYmeiA",
        "outputId": "53f03bc5-41bf-4edb-8510-936b191666fe"
      },
      "execution_count": 15,
      "outputs": [
        {
          "output_type": "stream",
          "name": "stdout",
          "text": [
            "Coluna: No_of_Votes\n",
            "IQR: 317696.00\n",
            "Limite inferior: -421072.50\n",
            "Limite superior: 849711.50\n",
            "Total de outliers: 66\n",
            "------------------------------\n",
            "Coluna: Gross\n",
            "IQR: 77631001.75\n",
            "Limite inferior: -113201164.12\n",
            "Limite superior: 197322842.88\n",
            "Total de outliers: 88\n",
            "------------------------------\n",
            "Coluna: Runtime\n",
            "IQR: 34.00\n",
            "Limite inferior: 52.00\n",
            "Limite superior: 188.00\n",
            "Total de outliers: 29\n",
            "------------------------------\n"
          ]
        }
      ]
    },
    {
      "cell_type": "markdown",
      "source": [
        "**Análise de Outliers**\n",
        "\n",
        "**No_of_Votes:** 66 filmes estão acima do limite superior (~850.000 votos), indicando filmes extremamente populares.\n",
        "\n",
        "**Gross:** 88 filmes têm bilheteria acima do limite superior (~197 milhões), representando os blockbusters do dataset.\n",
        "\n",
        "**Runtime:** 29 filmes têm duração fora do intervalo típico (52 a 188 minutos), incluindo filmes muito curtos ou longos.\n"
      ],
      "metadata": {
        "id": "pDca8blTpCoV"
      }
    },
    {
      "cell_type": "markdown",
      "source": [
        "**Observação:** Apesar de extremos, esses valores são válidos para o contexto do dataset. Para a EDA, mantemos os outliers, usando escala logarítmica em No_of_Votes e Gross para facilitar a visualização."
      ],
      "metadata": {
        "id": "Vf3VV1ZFpK32"
      }
    },
    {
      "cell_type": "markdown",
      "source": [
        "### Matriz de Correlação\n",
        "\n",
        "Para os dados disponíveis, é válido gerar **uma matriz de correlação** para verificar como as colunas numéricas se relacionam entre si.\n",
        "\n",
        "Isso nos ajuda a identificar padrões, entender quais variáveis podem influenciar outras e escolher melhor os fatores importantes para análises ou modelagem futura."
      ],
      "metadata": {
        "id": "s4ivUtvkkfSm"
      }
    },
    {
      "cell_type": "code",
      "source": [
        "numeric_cols = [\"IMDB_Rating\", \"Meta_score\", \"No_of_Votes\", \"Gross\", \"Runtime\"]\n",
        "\n",
        "corr_matrix = df[numeric_cols].corr()\n",
        "\n",
        "plt.figure(figsize=(8,6))\n",
        "sns.heatmap(corr_matrix, annot=True, cmap=\"RdPu\", fmt=\".2f\")\n",
        "plt.title(\"Matriz de Correlação\")\n",
        "plt.show()\n"
      ],
      "metadata": {
        "colab": {
          "base_uri": "https://localhost:8080/",
          "height": 545
        },
        "id": "nnPJ9WiViqTQ",
        "outputId": "4c5d1a43-7179-4ad0-b2cd-c72b52ad1573"
      },
      "execution_count": 16,
      "outputs": [
        {
          "output_type": "display_data",
          "data": {
            "text/plain": [
              "<Figure size 800x600 with 2 Axes>"
            ],
            "image/png": "[encoded data removed]"
          },
          "metadata": {}
        }
      ]
    },
    {
      "cell_type": "markdown",
      "source": [
        "- **No_of_Votes e Gross (0.59):**\n",
        "\n",
        "  Correlação positiva moderada a forte, filmes mais populares tendem a ter maior bilheteria.\n",
        "\n",
        "- **IMDB_Rating e No_of_Votes (0.48):**\n",
        "\n",
        "  Correlação positiva moderada, filmes com notas altas atraem mais votos.\n",
        "\n",
        "- **IMDB_Rating e Gross (0.10) / Meta_score e No_of_Votes (-0.02) / Meta_score e Gross (-0.03):**\n",
        "\n",
        "  Correlação muito fraca ou quase nula, notas do público ou da crítica não garantem sucesso financeiro.\n",
        "\n",
        "- **Runtime e IMDB_Rating (0.24) / Runtime e Gross (0.14):**\n",
        "\n",
        "  Correlação fraca, duração do filme não é um bom preditor de sucesso ou qualidade.\n",
        "\n"
      ],
      "metadata": {
        "id": "CfnOs22ukuTA"
      }
    },
    {
      "cell_type": "markdown",
      "source": [
        "Com isso, concluimos que:\n",
        "\n",
        "A popularidade `(número de votos/No_of_Votes)` **é o melhor indicador de bilheteria,** enquanto avaliações do público ou crítica e duração do filme têm pouca relação com sucesso financeiro."
      ],
      "metadata": {
        "id": "3YfR-ew2lO3i"
      }
    },
    {
      "cell_type": "markdown",
      "source": [
        "## **Manipulação de Dados**"
      ],
      "metadata": {
        "id": "r4rGpepsqK2C"
      }
    },
    {
      "cell_type": "markdown",
      "source": [
        "**Tratando Valores Nulos**\n",
        "\n",
        "Agora que já **entendemos os dados**, é hora de **começar a manipulação** para prepará-los para uma análise mais profunda.\n",
        "\n",
        "Nesta etapa, vamos realizar ações como **limpar dados ausentes ou inconsistentes, transformar variáveis, filtrar informações relevantes e ajustar o formato das colunas conforme necessário.**"
      ],
      "metadata": {
        "id": "5I09hvF0Tja4"
      }
    },
    {
      "cell_type": "code",
      "source": [
        "df.isnull().sum()"
      ],
      "metadata": {
        "colab": {
          "base_uri": "https://localhost:8080/",
          "height": 585
        },
        "id": "vMOfyUN-lOR9",
        "outputId": "cccc9ea7-3e0e-4b3f-c9c3-42887e765cff"
      },
      "execution_count": 17,
      "outputs": [
        {
          "output_type": "execute_result",
          "data": {
            "text/plain": [
              "Unnamed: 0         0\n",
              "Series_Title       0\n",
              "Released_Year      0\n",
              "Certificate      101\n",
              "Runtime            0\n",
              "Genre              0\n",
              "IMDB_Rating        0\n",
              "Overview           0\n",
              "Meta_score       157\n",
              "Director           0\n",
              "Star1              0\n",
              "Star2              0\n",
              "Star3              0\n",
              "Star4              0\n",
              "No_of_Votes        0\n",
              "Gross            169\n",
              "dtype: int64"
            ],
            "text/html": [
              "<div>\n",
              "<style scoped>\n",
              "    .dataframe tbody tr th:only-of-type {\n",
              "        vertical-align: middle;\n",
              "    }\n",
              "\n",
              "    .dataframe tbody tr th {\n",
              "        vertical-align: top;\n",
              "    }\n",
              "\n",
              "    .dataframe thead th {\n",
              "        text-align: right;\n",
              "    }\n",
              "</style>\n",
              "<table border=\"1\" class=\"dataframe\">\n",
              "  <thead>\n",
              "    <tr style=\"text-align: right;\">\n",
              "      <th></th>\n",
              "      <th>0</th>\n",
              "    </tr>\n",
              "  </thead>\n",
              "  <tbody>\n",
              "    <tr>\n",
              "      <th>Unnamed: 0</th>\n",
              "      <td>0</td>\n",
              "    </tr>\n",
              "    <tr>\n",
              "      <th>Series_Title</th>\n",
              "      <td>0</td>\n",
              "    </tr>\n",
              "    <tr>\n",
              "      <th>Released_Year</th>\n",
              "      <td>0</td>\n",
              "    </tr>\n",
              "    <tr>\n",
              "      <th>Certificate</th>\n",
              "      <td>101</td>\n",
              "    </tr>\n",
              "    <tr>\n",
              "      <th>Runtime</th>\n",
              "      <td>0</td>\n",
              "    </tr>\n",
              "    <tr>\n",
              "      <th>Genre</th>\n",
              "      <td>0</td>\n",
              "    </tr>\n",
              "    <tr>\n",
              "      <th>IMDB_Rating</th>\n",
              "      <td>0</td>\n",
              "    </tr>\n",
              "    <tr>\n",
              "      <th>Overview</th>\n",
              "      <td>0</td>\n",
              "    </tr>\n",
              "    <tr>\n",
              "      <th>Meta_score</th>\n",
              "      <td>157</td>\n",
              "    </tr>\n",
              "    <tr>\n",
              "      <th>Director</th>\n",
              "      <td>0</td>\n",
              "    </tr>\n",
              "    <tr>\n",
              "      <th>Star1</th>\n",
              "      <td>0</td>\n",
              "    </tr>\n",
              "    <tr>\n",
              "      <th>Star2</th>\n",
              "      <td>0</td>\n",
              "    </tr>\n",
              "    <tr>\n",
              "      <th>Star3</th>\n",
              "      <td>0</td>\n",
              "    </tr>\n",
              "    <tr>\n",
              "      <th>Star4</th>\n",
              "      <td>0</td>\n",
              "    </tr>\n",
              "    <tr>\n",
              "      <th>No_of_Votes</th>\n",
              "      <td>0</td>\n",
              "    </tr>\n",
              "    <tr>\n",
              "      <th>Gross</th>\n",
              "      <td>169</td>\n",
              "    </tr>\n",
              "  </tbody>\n",
              "</table>\n",
              "</div><br><label><b>dtype:</b> int64</label>"
            ]
          },
          "metadata": {},
          "execution_count": 17
        }
      ]
    },
    {
      "cell_type": "markdown",
      "source": [
        "- **Coluna Released_Year (Ano de lançamento):**\n",
        "\n",
        "A coluna `Released_Year` (Ano de lançamento) tem apenas 1 valor nulo, logo, como o impacto sobre o dataset é minimo, optei por remover essa linha."
      ],
      "metadata": {
        "id": "e9YF9Akkc3U9"
      }
    },
    {
      "cell_type": "code",
      "source": [
        "df['Released_Year'] = pd.to_numeric(df['Released_Year'], errors='coerce')"
      ],
      "metadata": {
        "id": "Or8Kd9azLGHp"
      },
      "execution_count": 18,
      "outputs": []
    },
    {
      "cell_type": "code",
      "source": [
        "df = df.dropna(subset=['Released_Year'])"
      ],
      "metadata": {
        "id": "d0oaF-YsdaN1"
      },
      "execution_count": 19,
      "outputs": []
    },
    {
      "cell_type": "markdown",
      "source": [
        "- **Coluna Certificate (Classificação):**\n",
        "\n",
        "Para a coluna `Certificate` (Classificação) decidi tratar esses valores nulos preenchendo-os como `Desconhecido`, indicando assim que não há informação de classificação indicativa.\n",
        "\n",
        "Essa abordagem mantém todos os filmes no dataset e **evita colocar uma classificação incorreta**, o que poderia levar a interpretações erradas, como assumir que um filme é adequado para crianças quando na verdade é para maiores.\n"
      ],
      "metadata": {
        "id": "Lp0v8WFbbRYQ"
      }
    },
    {
      "cell_type": "code",
      "source": [
        "df['Certificate'].unique()"
      ],
      "metadata": {
        "colab": {
          "base_uri": "https://localhost:8080/"
        },
        "id": "FDrPKdrnZLNA",
        "outputId": "db034bb1-46f8-4959-e311-2e645657e6aa"
      },
      "execution_count": 20,
      "outputs": [
        {
          "output_type": "execute_result",
          "data": {
            "text/plain": [
              "array(['A', 'UA', 'U', 'PG-13', 'R', nan, 'PG', 'G', 'Passed', 'TV-14',\n",
              "       '16', 'TV-MA', 'Unrated', 'GP', 'Approved', 'TV-PG', 'U/A'],\n",
              "      dtype=object)"
            ]
          },
          "metadata": {},
          "execution_count": 20
        }
      ]
    },
    {
      "cell_type": "code",
      "source": [
        "df['Certificate'] = df['Certificate'].fillna('Desconhecido')"
      ],
      "metadata": {
        "id": "S5cPXG7NcAy9"
      },
      "execution_count": 21,
      "outputs": []
    },
    {
      "cell_type": "markdown",
      "source": [
        "- **Coluna Meta_score (avaliação dos críticos especializados):**"
      ],
      "metadata": {
        "id": "ohsbMmJGej6n"
      }
    },
    {
      "cell_type": "markdown",
      "source": [
        "A coluna `Meta_score` possui alguns valores ausentes (NaN). Para não perder registros e permitir análises, preenchi esses valores com a **mediana**, que é menos sensível a outliers e representa melhor a maioria dos filmes."
      ],
      "metadata": {
        "id": "NBQssVQSlF2Q"
      }
    },
    {
      "cell_type": "code",
      "source": [
        "df['Meta_score'] = df['Meta_score'].fillna(df['Meta_score'].median())"
      ],
      "metadata": {
        "id": "rFJwg2WMe_nB"
      },
      "execution_count": 22,
      "outputs": []
    },
    {
      "cell_type": "markdown",
      "source": [
        "- **Coluna Gross (faturamento do filme):**"
      ],
      "metadata": {
        "id": "kJ5Z4nZbmZ_K"
      }
    },
    {
      "cell_type": "markdown",
      "source": [
        "A coluna Gross possui 169 valores ausentes (NaN). Como essa variável apresenta **pouca correlação** com as perguntas do desafio, optei por manter os NaN, evitando imputações que poderiam distorcer os dados sem necessidade."
      ],
      "metadata": {
        "id": "XSaj04zYm3Zx"
      }
    },
    {
      "cell_type": "markdown",
      "source": [
        "Confirmando a estrutura final do dataset com o `df.info()`:"
      ],
      "metadata": {
        "id": "krchClgMnPgs"
      }
    },
    {
      "cell_type": "code",
      "source": [
        "df.info()"
      ],
      "metadata": {
        "colab": {
          "base_uri": "https://localhost:8080/"
        },
        "id": "JYMH9_9nnA-N",
        "outputId": "d3e76310-1118-4127-aa50-80ee8dfcd016"
      },
      "execution_count": 23,
      "outputs": [
        {
          "output_type": "stream",
          "name": "stdout",
          "text": [
            "<class 'pandas.core.frame.DataFrame'>\n",
            "Index: 998 entries, 0 to 998\n",
            "Data columns (total 16 columns):\n",
            " #   Column         Non-Null Count  Dtype  \n",
            "---  ------         --------------  -----  \n",
            " 0   Unnamed: 0     998 non-null    int64  \n",
            " 1   Series_Title   998 non-null    object \n",
            " 2   Released_Year  998 non-null    float64\n",
            " 3   Certificate    998 non-null    object \n",
            " 4   Runtime        998 non-null    float64\n",
            " 5   Genre          998 non-null    object \n",
            " 6   IMDB_Rating    998 non-null    float64\n",
            " 7   Overview       998 non-null    object \n",
            " 8   Meta_score     998 non-null    float64\n",
            " 9   Director       998 non-null    object \n",
            " 10  Star1          998 non-null    object \n",
            " 11  Star2          998 non-null    object \n",
            " 12  Star3          998 non-null    object \n",
            " 13  Star4          998 non-null    object \n",
            " 14  No_of_Votes    998 non-null    int64  \n",
            " 15  Gross          829 non-null    float64\n",
            "dtypes: float64(5), int64(2), object(9)\n",
            "memory usage: 132.5+ KB\n"
          ]
        }
      ]
    },
    {
      "cell_type": "markdown",
      "source": [
        "**Conversão de tipos de dados (dtype):**\n",
        "\n",
        "Como já converti anteriormente as colunas `Runtime` e `Gross` para valores numéricos para construção dos gráficos e cálculo de outliers, o próximo passo é converter a coluna **`Released_Year`**, que ainda está como `float`, para **inteiro (`int`)**."
      ],
      "metadata": {
        "id": "o_HWw6nIUTXx"
      }
    },
    {
      "cell_type": "code",
      "source": [
        "df['Released_Year'] = df['Released_Year'].astype(int)"
      ],
      "metadata": {
        "id": "9RvQ2lB9VGiy"
      },
      "execution_count": 24,
      "outputs": []
    },
    {
      "cell_type": "markdown",
      "source": [
        "## **Teste de Hipótese para nossas variáveis**"
      ],
      "metadata": {
        "id": "HQSzZCJntN8_"
      }
    },
    {
      "cell_type": "markdown",
      "source": [
        "Quando buscamos responder perguntas de forma precisa e embasada, frequentemente recorremos a **métodos estatísticos** que nos ajudam a avaliar a confiabilidade ou a probabilidade das respostas. Entre esses métodos, os **testes de hipótese** são fundamentais.\n",
        "\n",
        "Um **teste de hipótese** envolve a análise de duas declarações opostas sobre uma população, com o objetivo de determinar qual delas é mais consistente com os dados coletados em uma amostra.\n",
        "\n",
        "**As hipóteses podem ser divididas em dois tipos principais:**\n",
        "\n",
        "**Hipótese nula (H0):** Assume que a afirmação inicial é verdadeira e que não há efeito ou diferença significativa. A hipótese nula é testada para verificar se podemos mantê-la ou rejeitá-la com base nos dados.\n",
        "\n",
        "**Hipótese alternativa (H1):** Representa a ideia de que há uma diferença ou efeito real, ou seja, que a hipótese nula deve ser rejeitada em algum nível de significância."
      ],
      "metadata": {
        "id": "5eNshsSytcrr"
      }
    },
    {
      "cell_type": "markdown",
      "source": [
        "Um dos componentes chave de qualquer teste de hipótese é o **valor p**. Este valor é o que usamos para quantificar a evidência contra a hipótese nula. Com base no valor p, podemos decidir se rejeitamos ou não a hipótese nula. Se o valor p for menor que o nível de significância pré-determinado (geralmente 0,05), rejeitamos a hipótese nula em favor da hipótese alternativa. Caso contrário, não há evidência suficiente para rejeitar a hipótese nula.\n",
        "\n",
        "Para isso, nosso objetivo é identificar relações significativas entre variáveis que possam ajudam a explicar bileteria (`Gross`) ou popularidade (`No_of_Votes`) dos filmes.\n",
        "\n",
        "Sendo assim, vamos começar!"
      ],
      "metadata": {
        "id": "9HD7tgkMvgRf"
      }
    },
    {
      "cell_type": "markdown",
      "source": [
        "- **Gênero vs Bilheteria**\n",
        "\n",
        "H0 (hipótese nula): A média da bilheteria é igual para todos os gêneros.\n",
        "\n",
        "H1 (hipótese alternativa): Pelo menos um gênero possui média de bilheteria diferente.\n",
        "\n",
        "Como teste utilizarei ANOVA (porque são mais de dois grupos)."
      ],
      "metadata": {
        "id": "OhPx3KhswFiN"
      }
    },
    {
      "cell_type": "markdown",
      "source": [
        "Antes de começar, é necessário sabermos que:\n",
        "\n",
        "O teste ANOVA compara a média de uma variável contínua (Gross) entre grupos categóricos (Genre). Para que o teste funcione corretamente, cada grupo precisa ter pelo menos 2 valores válidos.\n",
        "\n",
        "No nosso dataset, alguns gêneros têm 0 ou 1 filme com bilheteria disponível. Esses grupos não podem ser incluídos no teste, pois:\n",
        "\n",
        "O ANOVA não consegue calcular a variância com um único valor.\n",
        "\n",
        "Incluir grupos muito pequenos geraria resultados inválidos (NaN).\n",
        "\n",
        "Então como solução irei manter o dataset original, porém criarei uma lista separada de grupos."
      ],
      "metadata": {
        "id": "2amCTMZpxkvk"
      }
    },
    {
      "cell_type": "markdown",
      "source": [
        "Verificar a quantidade de filmes por gênero com bilheteria registrada para entender a representatividade antes de realizar o teste ANOVA:"
      ],
      "metadata": {
        "id": "5o5BYlHu3_Tb"
      }
    },
    {
      "cell_type": "code",
      "source": [
        "df.groupby('Genre')['Gross'].count()"
      ],
      "metadata": {
        "colab": {
          "base_uri": "https://localhost:8080/",
          "height": 489
        },
        "id": "1LYxgMDxwi4j",
        "outputId": "dd5c50ab-5752-4ae9-899b-249e319a5ce1"
      },
      "execution_count": 25,
      "outputs": [
        {
          "output_type": "execute_result",
          "data": {
            "text/plain": [
              "Genre\n",
              "Action, Adventure                5\n",
              "Action, Adventure, Biography     0\n",
              "Action, Adventure, Comedy        9\n",
              "Action, Adventure, Crime         0\n",
              "Action, Adventure, Drama        12\n",
              "                                ..\n",
              "Mystery, Romance, Thriller       1\n",
              "Mystery, Sci-Fi, Thriller        2\n",
              "Mystery, Thriller                6\n",
              "Thriller                         1\n",
              "Western                          4\n",
              "Name: Gross, Length: 202, dtype: int64"
            ],
            "text/html": [
              "<div>\n",
              "<style scoped>\n",
              "    .dataframe tbody tr th:only-of-type {\n",
              "        vertical-align: middle;\n",
              "    }\n",
              "\n",
              "    .dataframe tbody tr th {\n",
              "        vertical-align: top;\n",
              "    }\n",
              "\n",
              "    .dataframe thead th {\n",
              "        text-align: right;\n",
              "    }\n",
              "</style>\n",
              "<table border=\"1\" class=\"dataframe\">\n",
              "  <thead>\n",
              "    <tr style=\"text-align: right;\">\n",
              "      <th></th>\n",
              "      <th>Gross</th>\n",
              "    </tr>\n",
              "    <tr>\n",
              "      <th>Genre</th>\n",
              "      <th></th>\n",
              "    </tr>\n",
              "  </thead>\n",
              "  <tbody>\n",
              "    <tr>\n",
              "      <th>Action, Adventure</th>\n",
              "      <td>5</td>\n",
              "    </tr>\n",
              "    <tr>\n",
              "      <th>Action, Adventure, Biography</th>\n",
              "      <td>0</td>\n",
              "    </tr>\n",
              "    <tr>\n",
              "      <th>Action, Adventure, Comedy</th>\n",
              "      <td>9</td>\n",
              "    </tr>\n",
              "    <tr>\n",
              "      <th>Action, Adventure, Crime</th>\n",
              "      <td>0</td>\n",
              "    </tr>\n",
              "    <tr>\n",
              "      <th>Action, Adventure, Drama</th>\n",
              "      <td>12</td>\n",
              "    </tr>\n",
              "    <tr>\n",
              "      <th>...</th>\n",
              "      <td>...</td>\n",
              "    </tr>\n",
              "    <tr>\n",
              "      <th>Mystery, Romance, Thriller</th>\n",
              "      <td>1</td>\n",
              "    </tr>\n",
              "    <tr>\n",
              "      <th>Mystery, Sci-Fi, Thriller</th>\n",
              "      <td>2</td>\n",
              "    </tr>\n",
              "    <tr>\n",
              "      <th>Mystery, Thriller</th>\n",
              "      <td>6</td>\n",
              "    </tr>\n",
              "    <tr>\n",
              "      <th>Thriller</th>\n",
              "      <td>1</td>\n",
              "    </tr>\n",
              "    <tr>\n",
              "      <th>Western</th>\n",
              "      <td>4</td>\n",
              "    </tr>\n",
              "  </tbody>\n",
              "</table>\n",
              "<p>202 rows × 1 columns</p>\n",
              "</div><br><label><b>dtype:</b> int64</label>"
            ]
          },
          "metadata": {},
          "execution_count": 25
        }
      ]
    },
    {
      "cell_type": "markdown",
      "source": [
        "Aqui aplicamos o teste ANOVA para verificar se existe diferença significativa na bilheteria média entre os gêneros.\n",
        "\n",
        "Cada grupo corresponde a um gênero, e a função `f_oneway` calcula a estatística F e o p-value, indicando se pelo menos um gênero difere dos demais."
      ],
      "metadata": {
        "id": "U1ag0Fkm4R3H"
      }
    },
    {
      "cell_type": "code",
      "source": [
        "grupos_anova = [\n",
        "    df[df['Genre'] == g]['Gross'].dropna()\n",
        "    for g in df['Genre'].unique()\n",
        "    if len(df[df['Genre'] == g]['Gross'].dropna()) >= 2\n",
        "]\n",
        "\n",
        "f_stat, p_val = f_oneway(*grupos_anova)\n",
        "print(\"F-statistic:\", f_stat)\n",
        "print(\"p-value:\", p_val)"
      ],
      "metadata": {
        "colab": {
          "base_uri": "https://localhost:8080/"
        },
        "id": "TheHJtfOtT23",
        "outputId": "34b8e0a0-49e2-45a5-d34a-24d2ae49c709"
      },
      "execution_count": 26,
      "outputs": [
        {
          "output_type": "stream",
          "name": "stdout",
          "text": [
            "F-statistic: 3.7156934597935884\n",
            "p-value: 9.48042188788331e-27\n"
          ]
        }
      ]
    },
    {
      "cell_type": "markdown",
      "source": [
        "O valor de p é extremamente baixo, muito menor que 0.05.\n",
        "\n",
        "Isso nos leva a **rejeitar a hipótese nula**, que afirma que todas as médias de bilheteria entre os gêneros são iguais.\n",
        "\n",
        "**Conclusão:** pelo menos um gênero possui bilheteria média significativamente diferente dos demais."
      ],
      "metadata": {
        "id": "SfxMZs8S2rj6"
      }
    },
    {
      "cell_type": "markdown",
      "source": [
        "- **Certificate x Gross:**"
      ],
      "metadata": {
        "id": "mNQzO6XG5l5-"
      }
    },
    {
      "cell_type": "markdown",
      "source": [
        "H0: A bilheteria média é igual para todas as faixas etárias.\n",
        "\n",
        "H1: Pelo menos uma faixa etária possui bilheteria diferente.\n",
        "\n",
        "Teste sugerido: ANOVA."
      ],
      "metadata": {
        "id": "ae-3rsR55uva"
      }
    },
    {
      "cell_type": "code",
      "source": [
        "grupos_anova = [\n",
        "    df[df['Genre'] == g]['Gross'].dropna()\n",
        "    for g in df['Genre'].unique()\n",
        "    if len(df[df['Genre'] == g]['Gross'].dropna()) >= 2\n",
        "]\n",
        "\n",
        "f_stat, p_val = f_oneway(*grupos_anova)\n",
        "\n",
        "print(f\"F-statistic: {f_stat:.2f}, p-value: {p_val:.2e}\")\n",
        "if p_val < 0.05:\n",
        "    print(\"Existe diferença significativa na bilheteria entre os gêneros.\")\n",
        "else:\n",
        "    print(\"Não há diferença significativa na bilheteria entre os gêneros.\")\n"
      ],
      "metadata": {
        "colab": {
          "base_uri": "https://localhost:8080/"
        },
        "id": "Cto4LJUN2t-N",
        "outputId": "4ac9bc9a-400b-486b-9eec-08892b8807a0"
      },
      "execution_count": 27,
      "outputs": [
        {
          "output_type": "stream",
          "name": "stdout",
          "text": [
            "F-statistic: 3.72, p-value: 9.48e-27\n",
            "Existe diferença significativa na bilheteria entre os gêneros.\n"
          ]
        }
      ]
    },
    {
      "cell_type": "markdown",
      "source": [
        "O teste ANOVA indicou uma diferença significativa na bilheteria entre os gêneros (F = 3.72, p < 0.001).\n",
        "\n",
        "Isso significa que, em média, pelo menos um gênero tem bilheteria significativamente diferente dos outros. Esse resultado justifica análises adicionais para identificar quais gêneros se destacam financeiramente."
      ],
      "metadata": {
        "id": "_YlD78RX67nQ"
      }
    },
    {
      "cell_type": "markdown",
      "source": [
        "## **Respondendo as perguntas do desafio:**"
      ],
      "metadata": {
        "id": "i3c0dW6J7iDM"
      }
    },
    {
      "cell_type": "markdown",
      "source": [
        "- 1. a) Qual filme você recomendaria para uma pessoa que você não conhece?\n"
      ],
      "metadata": {
        "id": "OWFtCC9f7tkP"
      }
    },
    {
      "cell_type": "markdown",
      "source": [
        "Como não conheço a pessoa e não sei qual tipo de filme ela curte, minha estratégia seria utilizar filmes que tenham alta nota no IMDB (`IMDB_Rating`)- que garante qualidade percebida pelo público -, e filmes com boa popularidade (`No_of_Votes`) - indica que muitas pessoas assistiram e avaliaram."
      ],
      "metadata": {
        "id": "ObnnWXy28HHj"
      }
    },
    {
      "cell_type": "markdown",
      "source": [
        "Sendo assim, em `filmes_recomendados` filtro os filmes com notas acima de 8 e muitos votos e em seguida mostro os top 5 filmes recomendados."
      ],
      "metadata": {
        "id": "7g2-QQM78zv5"
      }
    },
    {
      "cell_type": "code",
      "source": [
        "filmes_recomendados = df[(df['IMDB_Rating'] >= 8) & (df['No_of_Votes'] >= df['No_of_Votes'].median())]\n",
        "\n",
        "filmes_recomendados[['Series_Title', 'IMDB_Rating', 'No_of_Votes']].sort_values(\n",
        "    by=['IMDB_Rating', 'No_of_Votes'], ascending=False).head()\n"
      ],
      "metadata": {
        "colab": {
          "base_uri": "https://localhost:8080/",
          "height": 206
        },
        "id": "u_S58Fyc7oXA",
        "outputId": "53f3005d-ba74-459a-85fc-74c4621198b9"
      },
      "execution_count": 28,
      "outputs": [
        {
          "output_type": "execute_result",
          "data": {
            "text/plain": [
              "             Series_Title  IMDB_Rating  No_of_Votes\n",
              "0           The Godfather          9.2      1620367\n",
              "1         The Dark Knight          9.0      2303232\n",
              "2  The Godfather: Part II          9.0      1129952\n",
              "3            12 Angry Men          9.0       689845\n",
              "5            Pulp Fiction          8.9      1826188"
            ],
            "text/html": [
              "\n",
              "  <div id=\"df-40e87629-8b9a-46e4-a5b7-89967dca866e\" class=\"colab-df-container\">\n",
              "    <div>\n",
              "<style scoped>\n",
              "    .dataframe tbody tr th:only-of-type {\n",
              "        vertical-align: middle;\n",
              "    }\n",
              "\n",
              "    .dataframe tbody tr th {\n",
              "        vertical-align: top;\n",
              "    }\n",
              "\n",
              "    .dataframe thead th {\n",
              "        text-align: right;\n",
              "    }\n",
              "</style>\n",
              "<table border=\"1\" class=\"dataframe\">\n",
              "  <thead>\n",
              "    <tr style=\"text-align: right;\">\n",
              "      <th></th>\n",
              "      <th>Series_Title</th>\n",
              "      <th>IMDB_Rating</th>\n",
              "      <th>No_of_Votes</th>\n",
              "    </tr>\n",
              "  </thead>\n",
              "  <tbody>\n",
              "    <tr>\n",
              "      <th>0</th>\n",
              "      <td>The Godfather</td>\n",
              "      <td>9.2</td>\n",
              "      <td>1620367</td>\n",
              "    </tr>\n",
              "    <tr>\n",
              "      <th>1</th>\n",
              "      <td>The Dark Knight</td>\n",
              "      <td>9.0</td>\n",
              "      <td>2303232</td>\n",
              "    </tr>\n",
              "    <tr>\n",
              "      <th>2</th>\n",
              "      <td>The Godfather: Part II</td>\n",
              "      <td>9.0</td>\n",
              "      <td>1129952</td>\n",
              "    </tr>\n",
              "    <tr>\n",
              "      <th>3</th>\n",
              "      <td>12 Angry Men</td>\n",
              "      <td>9.0</td>\n",
              "      <td>689845</td>\n",
              "    </tr>\n",
              "    <tr>\n",
              "      <th>5</th>\n",
              "      <td>Pulp Fiction</td>\n",
              "      <td>8.9</td>\n",
              "      <td>1826188</td>\n",
              "    </tr>\n",
              "  </tbody>\n",
              "</table>\n",
              "</div>\n",
              "    <div class=\"colab-df-buttons\">\n",
              "\n",
              "  <div class=\"colab-df-container\">\n",
              "    <button class=\"colab-df-convert\" onclick=\"convertToInteractive('df-40e87629-8b9a-46e4-a5b7-89967dca866e')\"\n",
              "            title=\"Convert this dataframe to an interactive table.\"\n",
              "            style=\"display:none;\">\n",
              "\n",
              "  <svg xmlns=\"http://www.w3.org/2000/svg\" height=\"24px\" viewBox=\"0 -960 960 960\">\n",
              "    <path d=\"M120-120v-720h720v720H120Zm60-500h600v-160H180v160Zm220 220h160v-160H400v160Zm0 220h160v-160H400v160ZM180-400h160v-160H180v160Zm440 0h160v-160H620v160ZM180-180h160v-160H180v160Zm440 0h160v-160H620v160Z\"/>\n",
              "  </svg>\n",
              "    </button>\n",
              "\n",
              "  <style>\n",
              "    .colab-df-container {\n",
              "      display:flex;\n",
              "      gap: 12px;\n",
              "    }\n",
              "\n",
              "    .colab-df-convert {\n",
              "      background-color: #E8F0FE;\n",
              "      border: none;\n",
              "      border-radius: 50%;\n",
              "      cursor: pointer;\n",
              "      display: none;\n",
              "      fill: #1967D2;\n",
              "      height: 32px;\n",
              "      padding: 0 0 0 0;\n",
              "      width: 32px;\n",
              "    }\n",
              "\n",
              "    .colab-df-convert:hover {\n",
              "      background-color: #E2EBFA;\n",
              "      box-shadow: 0px 1px 2px rgba(60, 64, 67, 0.3), 0px 1px 3px 1px rgba(60, 64, 67, 0.15);\n",
              "      fill: #174EA6;\n",
              "    }\n",
              "\n",
              "    .colab-df-buttons div {\n",
              "      margin-bottom: 4px;\n",
              "    }\n",
              "\n",
              "    [theme=dark] .colab-df-convert {\n",
              "      background-color: #3B4455;\n",
              "      fill: #D2E3FC;\n",
              "    }\n",
              "\n",
              "    [theme=dark] .colab-df-convert:hover {\n",
              "      background-color: #434B5C;\n",
              "      box-shadow: 0px 1px 3px 1px rgba(0, 0, 0, 0.15);\n",
              "      filter: drop-shadow(0px 1px 2px rgba(0, 0, 0, 0.3));\n",
              "      fill: #FFFFFF;\n",
              "    }\n",
              "  </style>\n",
              "\n",
              "    <script>\n",
              "      const buttonEl =\n",
              "        document.querySelector('#df-40e87629-8b9a-46e4-a5b7-89967dca866e button.colab-df-convert');\n",
              "      buttonEl.style.display =\n",
              "        google.colab.kernel.accessAllowed ? 'block' : 'none';\n",
              "\n",
              "      async function convertToInteractive(key) {\n",
              "        const element = document.querySelector('#df-40e87629-8b9a-46e4-a5b7-89967dca866e');\n",
              "        const dataTable =\n",
              "          await google.colab.kernel.invokeFunction('convertToInteractive',\n",
              "                                                    [key], {});\n",
              "        if (!dataTable) return;\n",
              "\n",
              "        const docLinkHtml = 'Like what you see? Visit the ' +\n",
              "          '<a target=\"_blank\" href=https://colab.research.google.com/notebooks/data_table.ipynb>data table notebook</a>'\n",
              "          + ' to learn more about interactive tables.';\n",
              "        element.innerHTML = '';\n",
              "        dataTable['output_type'] = 'display_data';\n",
              "        await google.colab.output.renderOutput(dataTable, element);\n",
              "        const docLink = document.createElement('div');\n",
              "        docLink.innerHTML = docLinkHtml;\n",
              "        element.appendChild(docLink);\n",
              "      }\n",
              "    </script>\n",
              "  </div>\n",
              "\n",
              "\n",
              "    <div id=\"df-664ec694-9418-43dc-9c2d-3fbd06603fdf\">\n",
              "      <button class=\"colab-df-quickchart\" onclick=\"quickchart('df-664ec694-9418-43dc-9c2d-3fbd06603fdf')\"\n",
              "                title=\"Suggest charts\"\n",
              "                style=\"display:none;\">\n",
              "\n",
              "<svg xmlns=\"http://www.w3.org/2000/svg\" height=\"24px\"viewBox=\"0 0 24 24\"\n",
              "     width=\"24px\">\n",
              "    <g>\n",
              "        <path d=\"M19 3H5c-1.1 0-2 .9-2 2v14c0 1.1.9 2 2 2h14c1.1 0 2-.9 2-2V5c0-1.1-.9-2-2-2zM9 17H7v-7h2v7zm4 0h-2V7h2v10zm4 0h-2v-4h2v4z\"/>\n",
              "    </g>\n",
              "</svg>\n",
              "      </button>\n",
              "\n",
              "<style>\n",
              "  .colab-df-quickchart {\n",
              "      --bg-color: #E8F0FE;\n",
              "      --fill-color: #1967D2;\n",
              "      --hover-bg-color: #E2EBFA;\n",
              "      --hover-fill-color: #174EA6;\n",
              "      --disabled-fill-color: #AAA;\n",
              "      --disabled-bg-color: #DDD;\n",
              "  }\n",
              "\n",
              "  [theme=dark] .colab-df-quickchart {\n",
              "      --bg-color: #3B4455;\n",
              "      --fill-color: #D2E3FC;\n",
              "      --hover-bg-color: #434B5C;\n",
              "      --hover-fill-color: #FFFFFF;\n",
              "      --disabled-bg-color: #3B4455;\n",
              "      --disabled-fill-color: #666;\n",
              "  }\n",
              "\n",
              "  .colab-df-quickchart {\n",
              "    background-color: var(--bg-color);\n",
              "    border: none;\n",
              "    border-radius: 50%;\n",
              "    cursor: pointer;\n",
              "    display: none;\n",
              "    fill: var(--fill-color);\n",
              "    height: 32px;\n",
              "    padding: 0;\n",
              "    width: 32px;\n",
              "  }\n",
              "\n",
              "  .colab-df-quickchart:hover {\n",
              "    background-color: var(--hover-bg-color);\n",
              "    box-shadow: 0 1px 2px rgba(60, 64, 67, 0.3), 0 1px 3px 1px rgba(60, 64, 67, 0.15);\n",
              "    fill: var(--button-hover-fill-color);\n",
              "  }\n",
              "\n",
              "  .colab-df-quickchart-complete:disabled,\n",
              "  .colab-df-quickchart-complete:disabled:hover {\n",
              "    background-color: var(--disabled-bg-color);\n",
              "    fill: var(--disabled-fill-color);\n",
              "    box-shadow: none;\n",
              "  }\n",
              "\n",
              "  .colab-df-spinner {\n",
              "    border: 2px solid var(--fill-color);\n",
              "    border-color: transparent;\n",
              "    border-bottom-color: var(--fill-color);\n",
              "    animation:\n",
              "      spin 1s steps(1) infinite;\n",
              "  }\n",
              "\n",
              "  @keyframes spin {\n",
              "    0% {\n",
              "      border-color: transparent;\n",
              "      border-bottom-color: var(--fill-color);\n",
              "      border-left-color: var(--fill-color);\n",
              "    }\n",
              "    20% {\n",
              "      border-color: transparent;\n",
              "      border-left-color: var(--fill-color);\n",
              "      border-top-color: var(--fill-color);\n",
              "    }\n",
              "    30% {\n",
              "      border-color: transparent;\n",
              "      border-left-color: var(--fill-color);\n",
              "      border-top-color: var(--fill-color);\n",
              "      border-right-color: var(--fill-color);\n",
              "    }\n",
              "    40% {\n",
              "      border-color: transparent;\n",
              "      border-right-color: var(--fill-color);\n",
              "      border-top-color: var(--fill-color);\n",
              "    }\n",
              "    60% {\n",
              "      border-color: transparent;\n",
              "      border-right-color: var(--fill-color);\n",
              "    }\n",
              "    80% {\n",
              "      border-color: transparent;\n",
              "      border-right-color: var(--fill-color);\n",
              "      border-bottom-color: var(--fill-color);\n",
              "    }\n",
              "    90% {\n",
              "      border-color: transparent;\n",
              "      border-bottom-color: var(--fill-color);\n",
              "    }\n",
              "  }\n",
              "</style>\n",
              "\n",
              "      <script>\n",
              "        async function quickchart(key) {\n",
              "          const quickchartButtonEl =\n",
              "            document.querySelector('#' + key + ' button');\n",
              "          quickchartButtonEl.disabled = true;  // To prevent multiple clicks.\n",
              "          quickchartButtonEl.classList.add('colab-df-spinner');\n",
              "          try {\n",
              "            const charts = await google.colab.kernel.invokeFunction(\n",
              "                'suggestCharts', [key], {});\n",
              "          } catch (error) {\n",
              "            console.error('Error during call to suggestCharts:', error);\n",
              "          }\n",
              "          quickchartButtonEl.classList.remove('colab-df-spinner');\n",
              "          quickchartButtonEl.classList.add('colab-df-quickchart-complete');\n",
              "        }\n",
              "        (() => {\n",
              "          let quickchartButtonEl =\n",
              "            document.querySelector('#df-664ec694-9418-43dc-9c2d-3fbd06603fdf button');\n",
              "          quickchartButtonEl.style.display =\n",
              "            google.colab.kernel.accessAllowed ? 'block' : 'none';\n",
              "        })();\n",
              "      </script>\n",
              "    </div>\n",
              "\n",
              "    </div>\n",
              "  </div>\n"
            ],
            "application/vnd.google.colaboratory.intrinsic+json": {
              "type": "dataframe",
              "summary": "{\n  \"name\": \"    by=['IMDB_Rating', 'No_of_Votes'], ascending=False)\",\n  \"rows\": 5,\n  \"fields\": [\n    {\n      \"column\": \"Series_Title\",\n      \"properties\": {\n        \"dtype\": \"string\",\n        \"num_unique_values\": 5,\n        \"samples\": [\n          \"The Dark Knight\",\n          \"Pulp Fiction\",\n          \"The Godfather: Part II\"\n        ],\n        \"semantic_type\": \"\",\n        \"description\": \"\"\n      }\n    },\n    {\n      \"column\": \"IMDB_Rating\",\n      \"properties\": {\n        \"dtype\": \"number\",\n        \"std\": 0.10954451150103284,\n        \"min\": 8.9,\n        \"max\": 9.2,\n        \"num_unique_values\": 3,\n        \"samples\": [\n          9.2,\n          9.0,\n          8.9\n        ],\n        \"semantic_type\": \"\",\n        \"description\": \"\"\n      }\n    },\n    {\n      \"column\": \"No_of_Votes\",\n      \"properties\": {\n        \"dtype\": \"number\",\n        \"std\": 624176,\n        \"min\": 689845,\n        \"max\": 2303232,\n        \"num_unique_values\": 5,\n        \"samples\": [\n          2303232,\n          1826188,\n          1129952\n        ],\n        \"semantic_type\": \"\",\n        \"description\": \"\"\n      }\n    }\n  ]\n}"
            }
          },
          "metadata": {},
          "execution_count": 28
        }
      ]
    },
    {
      "cell_type": "markdown",
      "source": [
        "Logo, com base na avaliação do público e na popularidade, recomendo **The Godfather, seguido de The Dark Knight e The Godfather: Part II.**\n",
        "\n",
        "Esses filmes têm alta nota e grande quantidade de votos, o que indica qualidade e aceitação geral.\n"
      ],
      "metadata": {
        "id": "CWy2q3KP9NRl"
      }
    },
    {
      "cell_type": "markdown",
      "source": [
        "   - b) Quais são os principais fatores que estão relacionados com alta expectativa de faturamento de um filme?"
      ],
      "metadata": {
        "id": "t8YpOCrn9rB8"
      }
    },
    {
      "cell_type": "markdown",
      "source": [
        "Para responder essa pergunta, devemos identificar os fatores que impactam o faturamento de um filme, analisando variáveis numéricas e categóricas."
      ],
      "metadata": {
        "id": "K0MAGiGv-ulM"
      }
    },
    {
      "cell_type": "code",
      "source": [
        "corr = df[['Gross', 'No_of_Votes', 'IMDB_Rating', 'Meta_score', 'Runtime']].corr()\n",
        "corr['Gross'].sort_values(ascending=False)\n"
      ],
      "metadata": {
        "colab": {
          "base_uri": "https://localhost:8080/",
          "height": 241
        },
        "id": "ii-EeEa38spq",
        "outputId": "0ca21ab5-f5e2-4bbf-a493-1946038fea50"
      },
      "execution_count": 29,
      "outputs": [
        {
          "output_type": "execute_result",
          "data": {
            "text/plain": [
              "Gross          1.000000\n",
              "No_of_Votes    0.590015\n",
              "Runtime        0.139434\n",
              "IMDB_Rating    0.100980\n",
              "Meta_score    -0.037243\n",
              "Name: Gross, dtype: float64"
            ],
            "text/html": [
              "<div>\n",
              "<style scoped>\n",
              "    .dataframe tbody tr th:only-of-type {\n",
              "        vertical-align: middle;\n",
              "    }\n",
              "\n",
              "    .dataframe tbody tr th {\n",
              "        vertical-align: top;\n",
              "    }\n",
              "\n",
              "    .dataframe thead th {\n",
              "        text-align: right;\n",
              "    }\n",
              "</style>\n",
              "<table border=\"1\" class=\"dataframe\">\n",
              "  <thead>\n",
              "    <tr style=\"text-align: right;\">\n",
              "      <th></th>\n",
              "      <th>Gross</th>\n",
              "    </tr>\n",
              "  </thead>\n",
              "  <tbody>\n",
              "    <tr>\n",
              "      <th>Gross</th>\n",
              "      <td>1.000000</td>\n",
              "    </tr>\n",
              "    <tr>\n",
              "      <th>No_of_Votes</th>\n",
              "      <td>0.590015</td>\n",
              "    </tr>\n",
              "    <tr>\n",
              "      <th>Runtime</th>\n",
              "      <td>0.139434</td>\n",
              "    </tr>\n",
              "    <tr>\n",
              "      <th>IMDB_Rating</th>\n",
              "      <td>0.100980</td>\n",
              "    </tr>\n",
              "    <tr>\n",
              "      <th>Meta_score</th>\n",
              "      <td>-0.037243</td>\n",
              "    </tr>\n",
              "  </tbody>\n",
              "</table>\n",
              "</div><br><label><b>dtype:</b> float64</label>"
            ]
          },
          "metadata": {},
          "execution_count": 29
        }
      ]
    },
    {
      "cell_type": "markdown",
      "source": [
        "Com esse resultado percebemos que o fator mais relevante para a expectativa de faturamento é a popularidade do filme (`No_of_Votes(0.59)`)."
      ],
      "metadata": {
        "id": "jELMeHqi_j3J"
      }
    },
    {
      "cell_type": "markdown",
      "source": [
        "- c) Quais insights podem ser tirados com a coluna Overview? É possível inferir o gênero do filme a partir dessa coluna?"
      ],
      "metadata": {
        "id": "GE4qRxF9_8Ld"
      }
    },
    {
      "cell_type": "code",
      "source": [
        "stop_words = set(stopwords.words('english'))\n",
        "\n",
        "genre_keywords = {}\n",
        "\n",
        "for genre in df['Genre'].unique():\n",
        "    genre_df = df[df['Genre'] == genre]\n",
        "    all_words = []\n",
        "    for overview in genre_df['Overview'].dropna():\n",
        "        words = re.findall(r'\\b\\w+\\b', overview.lower())\n",
        "        words = [w for w in words if w not in stop_words]\n",
        "        all_words.extend(words)\n",
        "\n",
        "    word_counts = Counter(all_words)\n",
        "    genre_keywords[genre] = word_counts.most_common(5)\n",
        "\n",
        "for genre, keywords in genre_keywords.items():\n",
        "    print(f\"Gênero: {genre}\")\n",
        "    print(f\"  Palavras-chave mais comuns: {[w for w, c in keywords]}\")\n"
      ],
      "metadata": {
        "colab": {
          "base_uri": "https://localhost:8080/"
        },
        "id": "7EWFDTQwD5qs",
        "outputId": "0ea07615-4240-42ac-8059-58b6af650b63"
      },
      "execution_count": 30,
      "outputs": [
        {
          "output_type": "stream",
          "name": "stdout",
          "text": [
            "Gênero: Crime, Drama\n",
            "  Palavras-chave mais comuns: ['life', 'family', 'young', 'crime', 'two']\n",
            "Gênero: Action, Crime, Drama\n",
            "  Palavras-chave mais comuns: ['assassin', 'family', 'police', 'man', 'drug']\n",
            "Gênero: Action, Adventure, Drama\n",
            "  Palavras-chave mais comuns: ['world', 'sauron', 'help', 'war', 'frodo']\n",
            "Gênero: Biography, Drama, History\n",
            "  Palavras-chave mais comuns: ['life', 'king', 'story', 'war', 'ii']\n",
            "Gênero: Action, Adventure, Sci-Fi\n",
            "  Palavras-chave mais comuns: ['must', 'one', 'apocalyptic', 'search', 'causes']\n",
            "Gênero: Drama\n",
            "  Palavras-chave mais comuns: ['life', 'man', 'new', 'father', 'young']\n",
            "Gênero: Drama, Romance\n",
            "  Palavras-chave mais comuns: ['woman', 'young', 'love', 'life', 'man']\n",
            "Gênero: Western\n",
            "  Palavras-chave mais comuns: ['joins', 'bounty', 'two', 'hunting', 'scam']\n",
            "Gênero: Action, Sci-Fi\n",
            "  Palavras-chave mais comuns: ['cyborg', 'connor', 'son', 'sent', 'beautiful']\n",
            "Gênero: Biography, Crime, Drama\n",
            "  Palavras-chave mais comuns: ['man', 'story', 'life', 'mob', 'american']\n",
            "Gênero: Action, Adventure, Fantasy\n",
            "  Palavras-chave mais comuns: ['luke', 'darth', 'vader', 'world', 'rebels']\n",
            "Gênero: Comedy, Drama, Thriller\n",
            "  Palavras-chave mais comuns: ['greed', 'class', 'discrimination', 'threaten', 'newly']\n",
            "Gênero: Adventure, Drama, Sci-Fi\n",
            "  Palavras-chave mais comuns: ['team', 'explorers', 'travel', 'wormhole', 'space']\n",
            "Gênero: Animation, Adventure, Family\n",
            "  Palavras-chave mais comuns: ['family', 'young', 'old', 'great', 'secret']\n",
            "Gênero: Drama, War\n",
            "  Palavras-chave mais comuns: ['war', 'u', 'behind', 'world', 'soldiers']\n",
            "Gênero: Crime, Drama, Fantasy\n",
            "  Palavras-chave mais comuns: ['death', 'finds', 'world', 'lives', 'guards']\n",
            "Gênero: Comedy, Drama, Romance\n",
            "  Palavras-chave mais comuns: ['young', 'love', 'man', 'girl', 'meets']\n",
            "Gênero: Crime, Drama, Mystery\n",
            "  Palavras-chave mais comuns: ['murder', 'two', 'killer', 'one', 'investigate']\n",
            "Gênero: Crime, Drama, Thriller\n",
            "  Palavras-chave mais comuns: ['crime', 'police', 'con', 'help', 'goes']\n",
            "Gênero: Action, Drama, Mystery\n",
            "  Palavras-chave mais comuns: ['ronin', 'years', 'find', 'blade', 'runner']\n",
            "Gênero: Drama, Family, Fantasy\n",
            "  Palavras-chave mais comuns: ['angel', 'sent', 'heaven', 'help', 'desperately']\n",
            "Gênero: Drama, Music\n",
            "  Palavras-chave mais comuns: ['young', 'drummer', 'music', 'love', 'promising']\n",
            "Gênero: Biography, Comedy, Drama\n",
            "  Palavras-chave mais comuns: ['american', 'becomes', 'italian', 'market', 'quadriplegic']\n",
            "Gênero: Drama, Mystery, Sci-Fi\n",
            "  Palavras-chave mais comuns: ['accident', 'planet', 'man', 'tragic', 'two']\n",
            "Gênero: Biography, Drama, Music\n",
            "  Palavras-chave mais comuns: ['singer', 'life', 'age', 'musician', 'story']\n",
            "Gênero: Crime, Mystery, Thriller\n",
            "  Palavras-chave mais comuns: ['criminals', 'police', 'man', 'agent', 'sole']\n",
            "Gênero: Animation, Adventure, Drama\n",
            "  Palavras-chave mais comuns: ['young', 'girl', 'world', 'little', 'prince']\n",
            "Gênero: Animation, Drama, War\n",
            "  Palavras-chave mais comuns: ['young', 'boy', 'little', 'sister', 'struggle']\n",
            "Gênero: Adventure, Comedy, Sci-Fi\n",
            "  Palavras-chave mais comuns: ['marty', 'mcfly', '17', 'year', 'old']\n",
            "Gênero: Horror, Mystery, Thriller\n",
            "  Palavras-chave mais comuns: ['run', 'young', 'two', 'phoenix', 'secretary']\n",
            "Gênero: Drama, Romance, War\n",
            "  Palavras-chave mais comuns: ['love', 'wife', 'world', 'war', 'cynical']\n",
            "Gênero: Comedy, Drama, Family\n",
            "  Palavras-chave mais comuns: ['young', 'tramp', 'town', 'old', 'struggles']\n",
            "Gênero: Animation, Drama, Fantasy\n",
            "  Palavras-chave mais comuns: ['find', 'werewolf', 'young', 'two', 'strangers']\n",
            "Gênero: Action, Biography, Drama\n",
            "  Palavras-chave mais comuns: ['wrestler', 'car', 'martial', 'city', 'former']\n",
            "Gênero: Animation, Action, Adventure\n",
            "  Palavras-chave mais comuns: ['young', 'must', 'family', 'becomes', 'spider']\n",
            "Gênero: Drama, Western\n",
            "  Palavras-chave mais comuns: ['help', 'old', 'german', 'bounty', 'hunter']\n",
            "Gênero: Action, Adventure\n",
            "  Palavras-chave mais comuns: ['jones', 'batman', 'forced', 'gotham', 'city']\n",
            "Gênero: Comedy, Drama\n",
            "  Palavras-chave mais comuns: ['friends', 'two', 'man', 'life', 'lives']\n",
            "Gênero: Drama, Family\n",
            "  Palavras-chave mais comuns: ['boy', 'new', 'school', 'eight', 'year']\n",
            "Gênero: Drama, Mystery, Thriller\n",
            "  Palavras-chave mais comuns: ['surveillance', 'finds', 'man', 'child', 'clues']\n",
            "Gênero: Mystery, Thriller\n",
            "  Palavras-chave mais comuns: ['saskia', 'man', 'wife', 'murderer', 'murder']\n",
            "Gênero: Drama, Horror\n",
            "  Palavras-chave mais comuns: ['family', 'heads', 'isolated', 'hotel', 'winter']\n",
            "Gênero: Drama, Mystery, War\n",
            "  Palavras-chave mais comuns: ['u', 'army', 'officer', 'serving', 'vietnam']\n",
            "Gênero: Horror, Sci-Fi\n",
            "  Palavras-chave mais comuns: ['life', 'space', 'merchant', 'vessel', 'receives']\n",
            "Gênero: Drama, Musical\n",
            "  Palavras-chave mais comuns: ['story', 'terminally', 'ill', 'man', 'wishes']\n",
            "Gênero: Comedy\n",
            "  Palavras-chave mais comuns: ['school', 'day', 'people', 'around', 'high']\n",
            "Gênero: Drama, Film-Noir\n",
            "  Palavras-chave mais comuns: ['j', 'screenwriter', 'develops', 'dangerous', 'relationship']\n",
            "Gênero: Comedy, Drama, War\n",
            "  Palavras-chave mais comuns: ['two', 'hynkel', 'tries', 'jewish', 'war']\n",
            "Gênero: Drama, Thriller, War\n",
            "  Palavras-chave mais comuns: ['war', 'resistance', 'world', 'ii', 'april']\n",
            "Gênero: Drama, Fantasy, Horror\n",
            "  Palavras-chave mais comuns: ['mythological', 'story', 'goddess', 'created', 'entire']\n",
            "Gênero: Crime, Drama, Music\n",
            "  Palavras-chave mais comuns: ['series', 'mysterious', 'events', 'change', 'life']\n",
            "Gênero: Adventure, Drama, War\n",
            "  Palavras-chave mais comuns: ['nazi', 'occupied', 'france', 'world', 'war']\n",
            "Gênero: Drama, Romance, Sci-Fi\n",
            "  Palavras-chave mais comuns: ['relationship', 'turns', 'sour', 'couple', 'undergoes']\n",
            "Gênero: Comedy, Romance\n",
            "  Palavras-chave mais comuns: ['love', 'girl', 'reporter', 'bus', 'new']\n",
            "Gênero: Comedy, Crime\n",
            "  Palavras-chave mais comuns: ['incompetent', 'unscrupulous', 'boxing', 'promoters', 'violent']\n",
            "Gênero: Drama, Family, Sport\n",
            "  Palavras-chave mais comuns: ['pair', 'new', 'team', 'boy', 'loses']\n",
            "Gênero: Animation, Adventure, Comedy\n",
            "  Palavras-chave mais comuns: ['new', 'toy', 'old', 'young', 'woody']\n",
            "Gênero: Adventure, Drama, Thriller\n",
            "  Palavras-chave mais comuns: ['american', 'claustrophobic', 'world', 'wwii', 'german']\n",
            "Gênero: Comedy, Crime, Drama\n",
            "  Palavras-chave mais comuns: ['two', 'young', 'con', 'daughter', 'murder']\n",
            "Gênero: Crime, Drama, Sci-Fi\n",
            "  Palavras-chave mais comuns: ['future', 'sadistic', 'gang', 'leader', 'imprisoned']\n",
            "Gênero: Adventure, Sci-Fi\n",
            "  Palavras-chave mais comuns: ['intelligent', 'discovering', 'mysterious', 'artifact', 'buried']\n",
            "Gênero: Adventure, Biography, Drama\n",
            "  Palavras-chave mais comuns: ['story', 'led', 'christopher', 'life', 'e']\n",
            "Gênero: Adventure, Mystery, Thriller\n",
            "  Palavras-chave mais comuns: ['new', 'york', 'city', 'advertising', 'executive']\n",
            "Gênero: Mystery, Romance, Thriller\n",
            "  Palavras-chave mais comuns: ['former', 'police', 'detective', 'juggles', 'wrestling']\n",
            "Gênero: Comedy, Musical, Romance\n",
            "  Palavras-chave mais comuns: ['silent', 'film', 'production', 'company', 'cast']\n",
            "Gênero: Crime, Drama, Film-Noir\n",
            "  Palavras-chave mais comuns: ['insurance', 'murder', 'corruption', 'town', 'robbery']\n",
            "Gênero: Drama, Mystery\n",
            "  Palavras-chave mais comuns: ['wife', 'following', 'death', 'publishing', 'tycoon']\n",
            "Gênero: Drama, Sci-Fi\n",
            "  Palavras-chave mais comuns: ['city', 'working', 'class', 'alien', 'futuristic']\n",
            "Gênero: Action, Drama, War\n",
            "  Palavras-chave mais comuns: ['army', 'indian', 'special', 'forces', 'execute']\n",
            "Gênero: Action, Drama\n",
            "  Palavras-chave mais comuns: ['becomes', '1970s', 'fierce', 'rebel', 'rises']\n",
            "Gênero: Adventure, Comedy, Drama\n",
            "  Palavras-chave mais comuns: ['delhi', 'girl', 'traditional', 'family', 'sets']\n",
            "Gênero: Biography, Drama, Sport\n",
            "  Palavras-chave mais comuns: ['story', 'boxer', 'team', 'singh', 'life']\n",
            "Gênero: Action, Comedy, Crime\n",
            "  Palavras-chave mais comuns: ['khan', 'three', 'london', 'weed', 'clash']\n",
            "Gênero: Action, Biography, Crime\n",
            "  Palavras-chave mais comuns: ['one', 'time', 'story', 'paan', 'singh']\n",
            "Gênero: Drama, Mystery, Romance\n",
            "  Palavras-chave mais comuns: ['retired', 'one', 'woman', 'wife', 'two']\n",
            "Gênero: Action, Drama, Sport\n",
            "  Palavras-chave mais comuns: ['youngest', 'son', 'alcoholic', 'former', 'boxer']\n",
            "Gênero: Drama, Fantasy, War\n",
            "  Palavras-chave mais comuns: ['falangist', 'spain', '1944', 'bookish', 'young']\n",
            "Gênero: Action, Drama, Sci-Fi\n",
            "  Palavras-chave mais comuns: ['future', 'help', 'british', 'tyranny', 'shadowy']\n",
            "Gênero: Biography, Drama\n",
            "  Palavras-chave mais comuns: ['man', 'life', 'takes', 'year', 'old']\n",
            "Gênero: Action, Comedy, Romance\n",
            "  Palavras-chave mais comuns: ['two', 'slackers', 'competing', 'affections', 'heiress']\n",
            "Gênero: Animation, Family, Fantasy\n",
            "  Palavras-chave mais comuns: ['town', 'christmas', 'prince', 'love', 'two']\n",
            "Gênero: Action, Thriller\n",
            "  Palavras-chave mais comuns: ['save', 'nypd', 'officer', 'tries', 'wife']\n",
            "Gênero: Action, Adventure, Comedy\n",
            "  Palavras-chave mais comuns: ['together', 'family', 'ruthless', 'bandit', 'man']\n",
            "Gênero: Adventure, Comedy, Fantasy\n",
            "  Palavras-chave mais comuns: ['trying', 'king', 'arthur', 'knights', 'round']\n",
            "Gênero: Adventure, Drama, History\n",
            "  Palavras-chave mais comuns: ['war', 'allied', 'prisoners', 'plan', 'several']\n",
            "Gênero: Action, Drama, Thriller\n",
            "  Palavras-chave mais comuns: ['town', 'pakistan', 'north', 'korean', 'crafty']\n",
            "Gênero: Comedy, Music, Romance\n",
            "  Palavras-chave mais comuns: ['two', 'male', 'musicians', 'witness', 'mob']\n",
            "Gênero: Drama, Fantasy, History\n",
            "  Palavras-chave mais comuns: ['man', 'seeks', 'answers', 'life', 'death']\n",
            "Gênero: Crime, Thriller\n",
            "  Palavras-chave mais comuns: ['three', 'former', 'tennis', 'player', 'tries']\n",
            "Gênero: Adventure, Drama, Western\n",
            "  Palavras-chave mais comuns: ['civil', 'war', 'journey', 'two', 'americans']\n",
            "Gênero: Comedy, War\n",
            "  Palavras-chave mais comuns: ['soldier', 'nazi', 'occupation', 'poland', 'acting']\n",
            "Gênero: Drama, Thriller\n",
            "  Palavras-chave mais comuns: ['lawyer', 'life', 'three', 'young', 'car']\n",
            "Gênero: Animation, Drama, Family\n",
            "  Palavras-chave mais comuns: ['girl', 'books', 'marnie', 'young', 'man']\n",
            "Gênero: Drama, Romance, Thriller\n",
            "  Palavras-chave mais comuns: ['woman', 'hired', 'handmaiden', 'japanese', 'heiress']\n",
            "Gênero: Comedy, Drama, Musical\n",
            "  Palavras-chave mais comuns: ['naina', 'changes', 'aman', 'alien', 'earth']\n",
            "Gênero: Comedy, Drama, Fantasy\n",
            "  Palavras-chave mais comuns: ['discovers', 'shopkeeper', 'takes', 'god', 'court']\n",
            "Gênero: Adventure, Comedy, Crime\n",
            "  Palavras-chave mais comuns: ['hotel', 'years', 'writer', 'encounters', 'owner']\n",
            "Gênero: Adventure, Drama, Fantasy\n",
            "  Palavras-chave mais comuns: ['man', 'fiction', 'journey', 'world', 'harry']\n",
            "Gênero: Biography, Drama, Family\n",
            "  Palavras-chave mais comuns: ['story', 'inspired', 'college', 'professor', 'bonds']\n",
            "Gênero: Animation, Comedy, Drama\n",
            "  Palavras-chave mais comuns: ['year', 'old', 'living', 'team', 'tale']\n",
            "Gênero: Drama, Sport\n",
            "  Palavras-chave mais comuns: ['champion', 'trainer', 'professional', 'time', 'former']\n",
            "Gênero: Animation, Action, Drama\n",
            "  Palavras-chave mais comuns: ['concurrent', 'theatrical', 'ending', 'tv', 'series']\n",
            "Gênero: Adventure, Drama, Musical\n",
            "  Palavras-chave mais comuns: ['people', 'small', 'village', 'victorian', 'india']\n",
            "Gênero: Drama, Music, Romance\n",
            "  Palavras-chave mais comuns: ['love', 'musical', 'young', 'age', 'story']\n",
            "Gênero: Comedy, Crime, Romance\n",
            "  Palavras-chave mais comuns: ['matko', 'zare', 'son', 'live', 'banks']\n",
            "Gênero: Comedy, Crime, Sport\n",
            "  Palavras-chave mais comuns: ['jeff', 'dude', 'lebowski', 'mistaken', 'millionaire']\n",
            "Gênero: Drama, History, Romance\n",
            "  Palavras-chave mais comuns: ['woman', 'young', 'becomes', 'fourth', 'wife']\n",
            "Gênero: Adventure, Drama\n",
            "  Palavras-chave mais comuns: ['friends', 'death', 'one', 'writer', 'recounts']\n",
            "Gênero: Animation, Adventure, Fantasy\n",
            "  Palavras-chave mais comuns: ['warrior', 'pacifist', 'princess', 'nausicaä', 'desperately']\n",
            "Gênero: Horror, Mystery, Sci-Fi\n",
            "  Palavras-chave mais comuns: ['research', 'team', 'antarctica', 'hunted', 'shape']\n",
            "Gênero: Drama, Fantasy, Music\n",
            "  Palavras-chave mais comuns: ['two', 'confined', 'troubled', 'rock', 'star']\n",
            "Gênero: Action, Sci-Fi, Thriller\n",
            "  Palavras-chave mais comuns: ['earth', 'blade', 'runner', 'must', 'pursue']\n",
            "Gênero: Drama, Fantasy\n",
            "  Palavras-chave mais comuns: ['guests', 'upper', 'class', 'dinner', 'party']\n",
            "Gênero: Drama, Horror, Thriller\n",
            "  Palavras-chave mais comuns: ['sister', 'woman', 'former', 'child', 'star']\n",
            "Gênero: Drama, History\n",
            "  Palavras-chave mais comuns: ['war', 'hardened', 'general', 'egged', 'ambitious']\n",
            "Gênero: Film-Noir, Mystery, Thriller\n",
            "  Palavras-chave mais comuns: ['pulp', 'novelist', 'holly', 'martins', 'travels']\n",
            "Gênero: Fantasy, Horror, Mystery\n",
            "  Palavras-chave mais comuns: ['hypnotist', 'dr', 'caligari', 'uses', 'somnambulist']\n",
            "Gênero: Action, Crime, Thriller\n",
            "  Palavras-chave mais comuns: ['madman', 'track', 'time', 'goes', 'undercover']\n",
            "Gênero: Comedy, Drama, Music\n",
            "  Palavras-chave mais comuns: ['band', 'life', 'navigating', 'careers', 'los']\n",
            "Gênero: Biography, Drama, Thriller\n",
            "  Palavras-chave mais comuns: ['world', 'war', 'ii', 'english', 'mathematical']\n",
            "Gênero: Animation, Biography, Drama\n",
            "  Palavras-chave mais comuns: ['precocious', 'outspoken', 'iranian', 'girl', 'grows']\n",
            "Gênero: Action, Mystery, Thriller\n",
            "  Palavras-chave mais comuns: ['jason', 'bourne', 'life', 'trained', 'dodges']\n",
            "Gênero: Crime, Drama, Romance\n",
            "  Palavras-chave mais comuns: ['young', 'cocaine', 'local', 'transient', 'man']\n",
            "Gênero: Action, Adventure, Thriller\n",
            "  Palavras-chave mais comuns: ['bond', 'james', 'mission', '007', 'must']\n",
            "Gênero: Crime, Drama, Musical\n",
            "  Palavras-chave mais comuns: ['east', 'european', 'girl', 'travels', 'united']\n",
            "Gênero: Animation, Crime, Mystery\n",
            "  Palavras-chave mais comuns: ['pop', 'singer', 'gives', 'career', 'become']\n",
            "Gênero: Action, Crime, Comedy\n",
            "  Palavras-chave mais comuns: ['two', 'terminally', 'ill', 'patients', 'escape']\n",
            "Gênero: Mystery, Sci-Fi, Thriller\n",
            "  Palavras-chave mais comuns: ['world', 'man', 'future', 'devastated', 'disease']\n",
            "Gênero: Animation, Action, Crime\n",
            "  Palavras-chave mais comuns: ['cyborg', 'policewoman', 'partner', 'hunt', 'mysterious']\n",
            "Gênero: Comedy, Fantasy, Romance\n",
            "  Palavras-chave mais comuns: ['finds', 'day', 'weatherman', 'inexplicably', 'living']\n",
            "Gênero: Drama, History, Thriller\n",
            "  Palavras-chave mais comuns: ['spy', 'story', 'american', 'soviet', 'new']\n",
            "Gênero: Animation, Action, Sci-Fi\n",
            "  Palavras-chave mais comuns: ['secret', 'military', 'project', 'endangers', 'neo']\n",
            "Gênero: Adventure, Family, Fantasy\n",
            "  Palavras-chave mais comuns: ['magical', 'young', 'harry', 'home', 'boy']\n",
            "Gênero: Drama, Fantasy, Romance\n",
            "  Palavras-chave mais comuns: ['human', 'man', 'angel', 'tires', 'overseeing']\n",
            "Gênero: Drama, History, War\n",
            "  Palavras-chave mais comuns: ['warlord', 'german', 'battle', 'thief', 'forced']\n",
            "Gênero: Adventure, Thriller\n",
            "  Palavras-chave mais comuns: ['killer', 'shark', 'unleashes', 'chaos', 'beach']\n",
            "Gênero: Horror\n",
            "  Palavras-chave mais comuns: ['two', '12', 'year', 'old', 'girl']\n",
            "Gênero: Drama, Family, Musical\n",
            "  Palavras-chave mais comuns: ['love', 'prerevolutionary', 'russia', 'jewish', 'peasant']\n",
            "Gênero: Action, Drama, Western\n",
            "  Palavras-chave mais comuns: ['gunfighter', 'town', 'wandering', 'plays', 'two']\n",
            "Gênero: Crime, Drama, Horror\n",
            "  Palavras-chave mais comuns: ['wife', 'mistress', 'loathed', 'school', 'principal']\n",
            "Gênero: Drama, Film-Noir, Mystery\n",
            "  Palavras-chave mais comuns: ['murder', 'potentially', 'violent', 'screenwriter', 'suspect']\n",
            "Gênero: Comedy, Crime, Thriller\n",
            "  Palavras-chave mais comuns: ['get', 'writer', 'books', 'futility', 'marriage']\n",
            "Gênero: Film-Noir, Mystery\n",
            "  Palavras-chave mais comuns: ['private', 'detective', 'takes', 'case', 'involves']\n",
            "Gênero: Comedy, Crime, Mystery\n",
            "  Palavras-chave mais comuns: ['former', 'detective', 'nick', 'charles', 'wealthy']\n",
            "Gênero: Drama, Fantasy, Mystery\n",
            "  Palavras-chave mais comuns: ['impromptu', 'goodbye', 'party', 'professor', 'john']\n",
            "Gênero: Comedy, Horror\n",
            "  Palavras-chave mais comuns: ['life', 'man', 'uneventful', 'disrupted', 'zombie']\n",
            "Gênero: Action, Adventure, History\n",
            "  Palavras-chave mais comuns: ['defense', 'officer', 'nameless', 'summoned', 'king']\n",
            "Gênero: Drama, Music, Mystery\n",
            "  Palavras-chave mais comuns: ['woman', 'struggles', 'find', 'way', 'live']\n",
            "Gênero: Comedy, Music\n",
            "  Palavras-chave mais comuns: ['spinal', 'tap', 'one', 'england', 'loudest']\n",
            "Gênero: Comedy, Family\n",
            "  Palavras-chave mais comuns: ['christmas', '1940s', 'young', 'boy', 'named']\n",
            "Gênero: Drama, Music, Musical\n",
            "  Palavras-chave mais comuns: ['director', 'choreographer', 'bob', 'fosse', 'tells']\n",
            "Gênero: Action, Adventure, Horror\n",
            "  Palavras-chave mais comuns: ['following', 'ever', 'growing', 'epidemic', 'zombies']\n",
            "Gênero: Action, Adventure, Biography\n",
            "  Palavras-chave mais comuns: ['16th', 'century', 'ruthless', 'insane', 'lope']\n",
            "Gênero: Biography, Drama, War\n",
            "  Palavras-chave mais comuns: ['world', 'war', 'ii', 'phase', 'career']\n",
            "Gênero: Action, Adventure, Western\n",
            "  Palavras-chave mais comuns: ['aging', 'group', 'outlaws', 'look', 'one']\n",
            "Gênero: Horror, Thriller\n",
            "  Palavras-chave mais comuns: ['ragtag', 'group', 'pennsylvanians', 'barricade', 'old']\n",
            "Gênero: Comedy, Mystery, Romance\n",
            "  Palavras-chave mais comuns: ['romance', 'suspense', 'ensue', 'paris', 'woman']\n",
            "Gênero: Drama, Thriller, Western\n",
            "  Palavras-chave mais comuns: ['gang', 'noon', 'town', 'marshal', 'despite']\n",
            "Gênero: Crime, Film-Noir, Thriller\n",
            "  Palavras-chave mais comuns: ['psychopath', 'forces', 'tennis', 'star', 'comply']\n",
            "Gênero: Drama, Film-Noir, Romance\n",
            "  Palavras-chave mais comuns: ['woman', 'asked', 'spy', 'group', 'nazi']\n",
            "Gênero: Crime, Film-Noir, Mystery\n",
            "  Palavras-chave mais comuns: ['private', 'detective', 'philip', 'marlowe', 'hired']\n",
            "Gênero: Action, Adventure, Romance\n",
            "  Palavras-chave mais comuns: ['saxon', 'prince', 'john', 'norman', 'lords']\n",
            "Gênero: Comedy, Music, Musical\n",
            "  Palavras-chave mais comuns: ['two', 'sly', 'business', 'manager', 'wacky']\n",
            "Gênero: Adventure, Horror, Sci-Fi\n",
            "  Palavras-chave mais comuns: ['film', 'crew', 'goes', 'tropical', 'island']\n",
            "Gênero: Fantasy, Horror\n",
            "  Palavras-chave mais comuns: ['vampire', 'count', 'orlok', 'expresses', 'interest']\n",
            "Gênero: Action, Drama, History\n",
            "  Palavras-chave mais comuns: ['allied', 'german', 'world', 'war', 'ii']\n",
            "Gênero: Adventure, Comedy, Family\n",
            "  Palavras-chave mais comuns: ['find', 'kermit', 'paddington', 'ben', 'whishaw']\n",
            "Gênero: Animation, Biography, Crime\n",
            "  Palavras-chave mais comuns: ['final', 'story', 'depicted', 'oil', 'painted']\n",
            "Gênero: Adventure, Biography, Crime\n",
            "  Palavras-chave mais comuns: ['true', 'story', 'captain', 'richard', 'phillips']\n",
            "Gênero: Adventure, Fantasy\n",
            "  Palavras-chave mais comuns: ['bilbo', 'baggins', 'dwarves', 'reclaim', 'smaug']\n",
            "Gênero: Drama, History, Mystery\n",
            "  Palavras-chave mais comuns: ['strange', 'events', 'happen', 'small', 'village']\n",
            "Gênero: Action, Comedy, Mystery\n",
            "  Palavras-chave mais comuns: ['skilled', 'london', 'police', 'officer', 'transferred']\n",
            "Gênero: Adventure, Drama, Romance\n",
            "  Palavras-chave mais comuns: ['fedex', 'executive', 'undergoes', 'physical', 'emotional']\n",
            "Gênero: Drama, Sci-Fi, Thriller\n",
            "  Palavras-chave mais comuns: ['space', 'life', 'way', 'genetically', 'inferior']\n",
            "Gênero: Crime, Drama, History\n",
            "  Palavras-chave mais comuns: ['two', 'f', 'b', 'agents', 'wildly']\n",
            "Gênero: Action, Comedy, Fantasy\n",
            "  Palavras-chave mais comuns: ['lone', 'survivor', 'onslaught', 'flesh', 'possessing']\n",
            "Gênero: Family, Sci-Fi\n",
            "  Palavras-chave mais comuns: ['troubled', 'child', 'summons', 'courage', 'help']\n",
            "Gênero: Adventure, History, War\n",
            "  Palavras-chave mais comuns: ['set', 'two', 'british', 'former', 'soldiers']\n",
            "Gênero: Animation, Sci-Fi\n",
            "  Palavras-chave mais comuns: ['faraway', 'planet', 'blue', 'giants', 'rule']\n",
            "Gênero: Family, Fantasy, Musical\n",
            "  Palavras-chave mais comuns: ['poor', 'hopeful', 'boy', 'seeks', 'one']\n",
            "Gênero: Thriller\n",
            "  Palavras-chave mais comuns: ['recently', 'blinded', 'woman', 'terrorized', 'trio']\n",
            "Gênero: Comedy, Family, Fantasy\n",
            "  Palavras-chave mais comuns: ['turn', 'century', 'london', 'magical', 'nanny']\n",
            "Gênero: Adventure, Comedy, Film-Noir\n",
            "  Palavras-chave mais comuns: ['world', 'war', 'ii', 'american', 'expatriate']\n",
            "Gênero: Film-Noir, Thriller\n",
            "  Palavras-chave mais comuns: ['young', 'girl', 'overjoyed', 'favorite', 'uncle']\n",
            "Gênero: Comedy, Family, Romance\n",
            "  Palavras-chave mais comuns: ['trying', 'secure', '1', 'million', 'donation']\n",
            "Gênero: Drama, Horror, Sci-Fi\n",
            "  Palavras-chave mais comuns: ['dr', 'frankenstein', 'monster', 'mary', 'shelley']\n",
            "Gênero: Comedy, Musical, War\n",
            "  Palavras-chave mais comuns: ['rufus', 'firefly', 'named', 'president', 'dictator']\n",
            "Gênero: Biography, Drama, Romance\n",
            "  Palavras-chave mais comuns: ['look', 'relationship', 'famous', 'physicist', 'stephen']\n",
            "Gênero: Drama, History, Music\n",
            "  Palavras-chave mais comuns: ['december', '1914', 'unofficial', 'christmas', 'truce']\n",
            "Gênero: Animation, Action, Fantasy\n",
            "  Palavras-chave mais comuns: ['girl', 'abducted', 'vampire', 'legendary', 'bounty']\n",
            "Gênero: Animation, Comedy, Fantasy\n",
            "  Palavras-chave mais comuns: ['stan', 'marsh', 'friends', 'go', 'see']\n",
            "Gênero: Comedy, Western\n",
            "  Palavras-chave mais comuns: ['order', 'ruin', 'western', 'town', 'corrupt']\n",
            "Gênero: Action, Adventure, War\n",
            "  Palavras-chave mais comuns: ['allied', 'agents', 'stage', 'daring', 'raid']\n",
            "Gênero: Drama, Horror, Mystery\n",
            "  Palavras-chave mais comuns: ['wealthy', 'san', 'francisco', 'socialite', 'pursues']\n",
            "Gênero: Animation, Comedy, Crime\n",
            "  Palavras-chave mais comuns: ['criminal', 'mastermind', 'uses', 'trio', 'orphan']\n",
            "Gênero: Action, Adventure, Crime\n",
            "  Palavras-chave mais comuns: ['story', 'two', 'men', 'different', 'sides']\n",
            "Gênero: Action, Adventure, Mystery\n",
            "  Palavras-chave mais comuns: ['detective', 'sherlock', 'holmes', 'stalwart', 'partner']\n",
            "Gênero: Action, Adventure, Family\n",
            "  Palavras-chave mais comuns: ['begins', 'harry', 'potter', 'sixth', 'year']\n",
            "Gênero: Action, Crime, Mystery\n",
            "  Palavras-chave mais comuns: ['future', 'unit', 'special', 'police', 'able']\n",
            "Gênero: Animation, Drama, Romance\n",
            "  Palavras-chave mais comuns: ['twenty', 'seven', 'year', 'old', 'office']\n",
            "Gênero: Drama, War, Western\n",
            "  Palavras-chave mais comuns: ['low', 'life', 'bandit', 'r', 'explosives']\n",
            "Gênero: Adventure, Comedy, War\n",
            "  Palavras-chave mais comuns: ['group', 'u', 'soldiers', 'sneaks', 'across']\n"
          ]
        }
      ]
    },
    {
      "cell_type": "markdown",
      "source": [
        "Com base na análise da coluna Overview, podemos tirar os seguintes insights:\n",
        "\n",
        "**A análise da coluna Overview** (removendo stopwords como \"the\", \"and\") revela padrões claros sobre os temas e elementos de cada gênero:\n",
        "\n",
        "**Ação:** As palavras group, assassins e mission sugerem tramas focadas em equipes de elite ou operações de alto risco. Isso é típico de filmes de espionagem ou thrillers.\n",
        "\n",
        "**Fantasia:** A presença de young, boy, magical e world aponta para narrativas de \"coming-of-age\" em que um protagonista jovem descobre um universo fantástico.\n",
        "\n",
        "**Crime:** As palavras woman, seeking e revenge mostram um foco em tramas de vingança lideradas por personagens femininas. Isso adiciona uma camada de complexidade e motivação pessoal ao enredo.\n",
        "\n",
        "**Conclusão:** a coluna Overview permite sim identificar padrões e termos típicos de cada gênero, então é possível ter uma ideia aproximada do gênero a partir do resumo, mas não garante precisão absoluta."
      ],
      "metadata": {
        "id": "X9UIVlf0Fm2u"
      }
    },
    {
      "cell_type": "markdown",
      "source": [
        "## **Machine Learning (Modelagem e Avaliação)**"
      ],
      "metadata": {
        "id": "XRbVF1GXH5UO"
      }
    },
    {
      "cell_type": "markdown",
      "source": [
        "Nesta etapa do projeto, avançamos para a fase de modelagem, onde o objetivo é selecionar e treinar modelos de aprendizado de máquina que nos permitam extrair insights e fazer previsões a partir dos dados disponíveis."
      ],
      "metadata": {
        "id": "KVBuJRpXIMOj"
      }
    },
    {
      "cell_type": "markdown",
      "source": [
        "A modelagem é essencial para responder às questões propostas:"
      ],
      "metadata": {
        "id": "Y8QOnyGaIfrf"
      }
    },
    {
      "cell_type": "markdown",
      "source": [
        "- 4. Supondo um filme com as seguintes características:\n",
        "\n",
        "> {'Series_Title': 'The Shawshank Redemption',\n",
        " 'Released_Year': '1994',\n",
        " 'Certificate': 'A',\n",
        " 'Runtime': '142 min',\n",
        " 'Genre': 'Drama',\n",
        " 'Overview': 'Two imprisoned men bond over a number of years, finding solace and eventual redemption through acts of common decency.',\n",
        " 'Meta_score': 80.0,\n",
        " 'Director': 'Frank Darabont',\n",
        " 'Star1': 'Tim Robbins',\n",
        " 'Star2': 'Morgan Freeman',\n",
        " 'Star3': 'Bob Gunton',\n",
        " 'Star4': 'William Sadler',\n",
        " 'No_of_Votes': 2343110,\n",
        " 'Gross': '28,341,469'}\n",
        "\n",
        "\n",
        "Qual seria a nota do IMDB?\n"
      ],
      "metadata": {
        "id": "H6GIN8mCHIVW"
      }
    },
    {
      "cell_type": "markdown",
      "source": [
        "Para responder a questão da previsão da nota do IMDB, utilizaremos uma abordagem de **machine learning supervisionado do tipo regressão**, uma vez que estamos prevendo um valor contínuo (nota de 0 a 10)."
      ],
      "metadata": {
        "id": "j_a63nMgTN2M"
      }
    },
    {
      "cell_type": "markdown",
      "source": [
        "Para isso, farei a transformação logarítmica nas variáveis `No_of_Votes` e `Gross` para normalizar distribuições assimétricas, além do tratamento de valores nulos."
      ],
      "metadata": {
        "id": "aAOfSve9T1Sk"
      }
    },
    {
      "cell_type": "code",
      "source": [
        "df['log_Votes'] = np.log1p(df['No_of_Votes'])\n",
        "df['log_Gross'] = np.log1p(df['Gross'])"
      ],
      "metadata": {
        "id": "Cch_i1b_R-PM"
      },
      "execution_count": 31,
      "outputs": []
    },
    {
      "cell_type": "markdown",
      "source": [
        "Aplica transformação logarítmica na bilheteria para reduzir assimetria dos dados."
      ],
      "metadata": {
        "id": "Runre0nzXDeJ"
      }
    },
    {
      "cell_type": "code",
      "source": [
        "features = ['Meta_score', 'log_Votes', 'log_Gross', 'Runtime']\n",
        "X = df[features].dropna()\n",
        "y = df.loc[X.index, 'IMDB_Rating']"
      ],
      "metadata": {
        "id": "5rJivn2ISHnn"
      },
      "execution_count": 32,
      "outputs": []
    },
    {
      "cell_type": "markdown",
      "source": [
        "Defino as 4 variáveis escolhidas para o modelo, seleciono as features e removo qualquer valor missing com o `dropna()` e seleciono a variável target (nota IMDB) correspondente as features."
      ],
      "metadata": {
        "id": "nfQhNQhOWaqt"
      }
    },
    {
      "cell_type": "code",
      "source": [
        "X_train, X_test, y_train, y_test = train_test_split(X, y, test_size=0.2, random_state=42)"
      ],
      "metadata": {
        "id": "CLb6StdwSJsE"
      },
      "execution_count": 33,
      "outputs": []
    },
    {
      "cell_type": "markdown",
      "source": [
        "Divide os dados em 80% treino e 20% teste com semente fixa para reprodutibilidade.\n",
        "\n"
      ],
      "metadata": {
        "id": "OV00MpwKWuAJ"
      }
    },
    {
      "cell_type": "code",
      "source": [
        "model = RandomForestRegressor(n_estimators=100, random_state=42)\n",
        "model.fit(X_train, y_train)"
      ],
      "metadata": {
        "colab": {
          "base_uri": "https://localhost:8080/",
          "height": 80
        },
        "id": "qo9xWaNWV8ss",
        "outputId": "88e5a97b-1ecf-4eb4-9e62-8c77028bfd61"
      },
      "execution_count": 34,
      "outputs": [
        {
          "output_type": "execute_result",
          "data": {
            "text/plain": [
              "RandomForestRegressor(random_state=42)"
            ],
            "text/html": [
              "<style>#sk-container-id-1 {\n",
              "  /* Definition of color scheme common for light and dark mode */\n",
              "  --sklearn-color-text: black;\n",
              "  --sklearn-color-line: gray;\n",
              "  /* Definition of color scheme for unfitted estimators */\n",
              "  --sklearn-color-unfitted-level-0: #fff5e6;\n",
              "  --sklearn-color-unfitted-level-1: #f6e4d2;\n",
              "  --sklearn-color-unfitted-level-2: #ffe0b3;\n",
              "  --sklearn-color-unfitted-level-3: chocolate;\n",
              "  /* Definition of color scheme for fitted estimators */\n",
              "  --sklearn-color-fitted-level-0: #f0f8ff;\n",
              "  --sklearn-color-fitted-level-1: #d4ebff;\n",
              "  --sklearn-color-fitted-level-2: #b3dbfd;\n",
              "  --sklearn-color-fitted-level-3: cornflowerblue;\n",
              "\n",
              "  /* Specific color for light theme */\n",
              "  --sklearn-color-text-on-default-background: var(--sg-text-color, var(--theme-code-foreground, var(--jp-content-font-color1, black)));\n",
              "  --sklearn-color-background: var(--sg-background-color, var(--theme-background, var(--jp-layout-color0, white)));\n",
              "  --sklearn-color-border-box: var(--sg-text-color, var(--theme-code-foreground, var(--jp-content-font-color1, black)));\n",
              "  --sklearn-color-icon: #696969;\n",
              "\n",
              "  @media (prefers-color-scheme: dark) {\n",
              "    /* Redefinition of color scheme for dark theme */\n",
              "    --sklearn-color-text-on-default-background: var(--sg-text-color, var(--theme-code-foreground, var(--jp-content-font-color1, white)));\n",
              "    --sklearn-color-background: var(--sg-background-color, var(--theme-background, var(--jp-layout-color0, #111)));\n",
              "    --sklearn-color-border-box: var(--sg-text-color, var(--theme-code-foreground, var(--jp-content-font-color1, white)));\n",
              "    --sklearn-color-icon: #878787;\n",
              "  }\n",
              "}\n",
              "\n",
              "#sk-container-id-1 {\n",
              "  color: var(--sklearn-color-text);\n",
              "}\n",
              "\n",
              "#sk-container-id-1 pre {\n",
              "  padding: 0;\n",
              "}\n",
              "\n",
              "#sk-container-id-1 input.sk-hidden--visually {\n",
              "  border: 0;\n",
              "  clip: rect(1px 1px 1px 1px);\n",
              "  clip: rect(1px, 1px, 1px, 1px);\n",
              "  height: 1px;\n",
              "  margin: -1px;\n",
              "  overflow: hidden;\n",
              "  padding: 0;\n",
              "  position: absolute;\n",
              "  width: 1px;\n",
              "}\n",
              "\n",
              "#sk-container-id-1 div.sk-dashed-wrapped {\n",
              "  border: 1px dashed var(--sklearn-color-line);\n",
              "  margin: 0 0.4em 0.5em 0.4em;\n",
              "  box-sizing: border-box;\n",
              "  padding-bottom: 0.4em;\n",
              "  background-color: var(--sklearn-color-background);\n",
              "}\n",
              "\n",
              "#sk-container-id-1 div.sk-container {\n",
              "  /* jupyter's `normalize.less` sets `[hidden] { display: none; }`\n",
              "     but bootstrap.min.css set `[hidden] { display: none !important; }`\n",
              "     so we also need the `!important` here to be able to override the\n",
              "     default hidden behavior on the sphinx rendered scikit-learn.org.\n",
              "     See: https://github.com/scikit-learn/scikit-learn/issues/21755 */\n",
              "  display: inline-block !important;\n",
              "  position: relative;\n",
              "}\n",
              "\n",
              "#sk-container-id-1 div.sk-text-repr-fallback {\n",
              "  display: none;\n",
              "}\n",
              "\n",
              "div.sk-parallel-item,\n",
              "div.sk-serial,\n",
              "div.sk-item {\n",
              "  /* draw centered vertical line to link estimators */\n",
              "  background-image: linear-gradient(var(--sklearn-color-text-on-default-background), var(--sklearn-color-text-on-default-background));\n",
              "  background-size: 2px 100%;\n",
              "  background-repeat: no-repeat;\n",
              "  background-position: center center;\n",
              "}\n",
              "\n",
              "/* Parallel-specific style estimator block */\n",
              "\n",
              "#sk-container-id-1 div.sk-parallel-item::after {\n",
              "  content: \"\";\n",
              "  width: 100%;\n",
              "  border-bottom: 2px solid var(--sklearn-color-text-on-default-background);\n",
              "  flex-grow: 1;\n",
              "}\n",
              "\n",
              "#sk-container-id-1 div.sk-parallel {\n",
              "  display: flex;\n",
              "  align-items: stretch;\n",
              "  justify-content: center;\n",
              "  background-color: var(--sklearn-color-background);\n",
              "  position: relative;\n",
              "}\n",
              "\n",
              "#sk-container-id-1 div.sk-parallel-item {\n",
              "  display: flex;\n",
              "  flex-direction: column;\n",
              "}\n",
              "\n",
              "#sk-container-id-1 div.sk-parallel-item:first-child::after {\n",
              "  align-self: flex-end;\n",
              "  width: 50%;\n",
              "}\n",
              "\n",
              "#sk-container-id-1 div.sk-parallel-item:last-child::after {\n",
              "  align-self: flex-start;\n",
              "  width: 50%;\n",
              "}\n",
              "\n",
              "#sk-container-id-1 div.sk-parallel-item:only-child::after {\n",
              "  width: 0;\n",
              "}\n",
              "\n",
              "/* Serial-specific style estimator block */\n",
              "\n",
              "#sk-container-id-1 div.sk-serial {\n",
              "  display: flex;\n",
              "  flex-direction: column;\n",
              "  align-items: center;\n",
              "  background-color: var(--sklearn-color-background);\n",
              "  padding-right: 1em;\n",
              "  padding-left: 1em;\n",
              "}\n",
              "\n",
              "\n",
              "/* Toggleable style: style used for estimator/Pipeline/ColumnTransformer box that is\n",
              "clickable and can be expanded/collapsed.\n",
              "- Pipeline and ColumnTransformer use this feature and define the default style\n",
              "- Estimators will overwrite some part of the style using the `sk-estimator` class\n",
              "*/\n",
              "\n",
              "/* Pipeline and ColumnTransformer style (default) */\n",
              "\n",
              "#sk-container-id-1 div.sk-toggleable {\n",
              "  /* Default theme specific background. It is overwritten whether we have a\n",
              "  specific estimator or a Pipeline/ColumnTransformer */\n",
              "  background-color: var(--sklearn-color-background);\n",
              "}\n",
              "\n",
              "/* Toggleable label */\n",
              "#sk-container-id-1 label.sk-toggleable__label {\n",
              "  cursor: pointer;\n",
              "  display: block;\n",
              "  width: 100%;\n",
              "  margin-bottom: 0;\n",
              "  padding: 0.5em;\n",
              "  box-sizing: border-box;\n",
              "  text-align: center;\n",
              "}\n",
              "\n",
              "#sk-container-id-1 label.sk-toggleable__label-arrow:before {\n",
              "  /* Arrow on the left of the label */\n",
              "  content: \"▸\";\n",
              "  float: left;\n",
              "  margin-right: 0.25em;\n",
              "  color: var(--sklearn-color-icon);\n",
              "}\n",
              "\n",
              "#sk-container-id-1 label.sk-toggleable__label-arrow:hover:before {\n",
              "  color: var(--sklearn-color-text);\n",
              "}\n",
              "\n",
              "/* Toggleable content - dropdown */\n",
              "\n",
              "#sk-container-id-1 div.sk-toggleable__content {\n",
              "  max-height: 0;\n",
              "  max-width: 0;\n",
              "  overflow: hidden;\n",
              "  text-align: left;\n",
              "  /* unfitted */\n",
              "  background-color: var(--sklearn-color-unfitted-level-0);\n",
              "}\n",
              "\n",
              "#sk-container-id-1 div.sk-toggleable__content.fitted {\n",
              "  /* fitted */\n",
              "  background-color: var(--sklearn-color-fitted-level-0);\n",
              "}\n",
              "\n",
              "#sk-container-id-1 div.sk-toggleable__content pre {\n",
              "  margin: 0.2em;\n",
              "  border-radius: 0.25em;\n",
              "  color: var(--sklearn-color-text);\n",
              "  /* unfitted */\n",
              "  background-color: var(--sklearn-color-unfitted-level-0);\n",
              "}\n",
              "\n",
              "#sk-container-id-1 div.sk-toggleable__content.fitted pre {\n",
              "  /* unfitted */\n",
              "  background-color: var(--sklearn-color-fitted-level-0);\n",
              "}\n",
              "\n",
              "#sk-container-id-1 input.sk-toggleable__control:checked~div.sk-toggleable__content {\n",
              "  /* Expand drop-down */\n",
              "  max-height: 200px;\n",
              "  max-width: 100%;\n",
              "  overflow: auto;\n",
              "}\n",
              "\n",
              "#sk-container-id-1 input.sk-toggleable__control:checked~label.sk-toggleable__label-arrow:before {\n",
              "  content: \"▾\";\n",
              "}\n",
              "\n",
              "/* Pipeline/ColumnTransformer-specific style */\n",
              "\n",
              "#sk-container-id-1 div.sk-label input.sk-toggleable__control:checked~label.sk-toggleable__label {\n",
              "  color: var(--sklearn-color-text);\n",
              "  background-color: var(--sklearn-color-unfitted-level-2);\n",
              "}\n",
              "\n",
              "#sk-container-id-1 div.sk-label.fitted input.sk-toggleable__control:checked~label.sk-toggleable__label {\n",
              "  background-color: var(--sklearn-color-fitted-level-2);\n",
              "}\n",
              "\n",
              "/* Estimator-specific style */\n",
              "\n",
              "/* Colorize estimator box */\n",
              "#sk-container-id-1 div.sk-estimator input.sk-toggleable__control:checked~label.sk-toggleable__label {\n",
              "  /* unfitted */\n",
              "  background-color: var(--sklearn-color-unfitted-level-2);\n",
              "}\n",
              "\n",
              "#sk-container-id-1 div.sk-estimator.fitted input.sk-toggleable__control:checked~label.sk-toggleable__label {\n",
              "  /* fitted */\n",
              "  background-color: var(--sklearn-color-fitted-level-2);\n",
              "}\n",
              "\n",
              "#sk-container-id-1 div.sk-label label.sk-toggleable__label,\n",
              "#sk-container-id-1 div.sk-label label {\n",
              "  /* The background is the default theme color */\n",
              "  color: var(--sklearn-color-text-on-default-background);\n",
              "}\n",
              "\n",
              "/* On hover, darken the color of the background */\n",
              "#sk-container-id-1 div.sk-label:hover label.sk-toggleable__label {\n",
              "  color: var(--sklearn-color-text);\n",
              "  background-color: var(--sklearn-color-unfitted-level-2);\n",
              "}\n",
              "\n",
              "/* Label box, darken color on hover, fitted */\n",
              "#sk-container-id-1 div.sk-label.fitted:hover label.sk-toggleable__label.fitted {\n",
              "  color: var(--sklearn-color-text);\n",
              "  background-color: var(--sklearn-color-fitted-level-2);\n",
              "}\n",
              "\n",
              "/* Estimator label */\n",
              "\n",
              "#sk-container-id-1 div.sk-label label {\n",
              "  font-family: monospace;\n",
              "  font-weight: bold;\n",
              "  display: inline-block;\n",
              "  line-height: 1.2em;\n",
              "}\n",
              "\n",
              "#sk-container-id-1 div.sk-label-container {\n",
              "  text-align: center;\n",
              "}\n",
              "\n",
              "/* Estimator-specific */\n",
              "#sk-container-id-1 div.sk-estimator {\n",
              "  font-family: monospace;\n",
              "  border: 1px dotted var(--sklearn-color-border-box);\n",
              "  border-radius: 0.25em;\n",
              "  box-sizing: border-box;\n",
              "  margin-bottom: 0.5em;\n",
              "  /* unfitted */\n",
              "  background-color: var(--sklearn-color-unfitted-level-0);\n",
              "}\n",
              "\n",
              "#sk-container-id-1 div.sk-estimator.fitted {\n",
              "  /* fitted */\n",
              "  background-color: var(--sklearn-color-fitted-level-0);\n",
              "}\n",
              "\n",
              "/* on hover */\n",
              "#sk-container-id-1 div.sk-estimator:hover {\n",
              "  /* unfitted */\n",
              "  background-color: var(--sklearn-color-unfitted-level-2);\n",
              "}\n",
              "\n",
              "#sk-container-id-1 div.sk-estimator.fitted:hover {\n",
              "  /* fitted */\n",
              "  background-color: var(--sklearn-color-fitted-level-2);\n",
              "}\n",
              "\n",
              "/* Specification for estimator info (e.g. \"i\" and \"?\") */\n",
              "\n",
              "/* Common style for \"i\" and \"?\" */\n",
              "\n",
              ".sk-estimator-doc-link,\n",
              "a:link.sk-estimator-doc-link,\n",
              "a:visited.sk-estimator-doc-link {\n",
              "  float: right;\n",
              "  font-size: smaller;\n",
              "  line-height: 1em;\n",
              "  font-family: monospace;\n",
              "  background-color: var(--sklearn-color-background);\n",
              "  border-radius: 1em;\n",
              "  height: 1em;\n",
              "  width: 1em;\n",
              "  text-decoration: none !important;\n",
              "  margin-left: 1ex;\n",
              "  /* unfitted */\n",
              "  border: var(--sklearn-color-unfitted-level-1) 1pt solid;\n",
              "  color: var(--sklearn-color-unfitted-level-1);\n",
              "}\n",
              "\n",
              ".sk-estimator-doc-link.fitted,\n",
              "a:link.sk-estimator-doc-link.fitted,\n",
              "a:visited.sk-estimator-doc-link.fitted {\n",
              "  /* fitted */\n",
              "  border: var(--sklearn-color-fitted-level-1) 1pt solid;\n",
              "  color: var(--sklearn-color-fitted-level-1);\n",
              "}\n",
              "\n",
              "/* On hover */\n",
              "div.sk-estimator:hover .sk-estimator-doc-link:hover,\n",
              ".sk-estimator-doc-link:hover,\n",
              "div.sk-label-container:hover .sk-estimator-doc-link:hover,\n",
              ".sk-estimator-doc-link:hover {\n",
              "  /* unfitted */\n",
              "  background-color: var(--sklearn-color-unfitted-level-3);\n",
              "  color: var(--sklearn-color-background);\n",
              "  text-decoration: none;\n",
              "}\n",
              "\n",
              "div.sk-estimator.fitted:hover .sk-estimator-doc-link.fitted:hover,\n",
              ".sk-estimator-doc-link.fitted:hover,\n",
              "div.sk-label-container:hover .sk-estimator-doc-link.fitted:hover,\n",
              ".sk-estimator-doc-link.fitted:hover {\n",
              "  /* fitted */\n",
              "  background-color: var(--sklearn-color-fitted-level-3);\n",
              "  color: var(--sklearn-color-background);\n",
              "  text-decoration: none;\n",
              "}\n",
              "\n",
              "/* Span, style for the box shown on hovering the info icon */\n",
              ".sk-estimator-doc-link span {\n",
              "  display: none;\n",
              "  z-index: 9999;\n",
              "  position: relative;\n",
              "  font-weight: normal;\n",
              "  right: .2ex;\n",
              "  padding: .5ex;\n",
              "  margin: .5ex;\n",
              "  width: min-content;\n",
              "  min-width: 20ex;\n",
              "  max-width: 50ex;\n",
              "  color: var(--sklearn-color-text);\n",
              "  box-shadow: 2pt 2pt 4pt #999;\n",
              "  /* unfitted */\n",
              "  background: var(--sklearn-color-unfitted-level-0);\n",
              "  border: .5pt solid var(--sklearn-color-unfitted-level-3);\n",
              "}\n",
              "\n",
              ".sk-estimator-doc-link.fitted span {\n",
              "  /* fitted */\n",
              "  background: var(--sklearn-color-fitted-level-0);\n",
              "  border: var(--sklearn-color-fitted-level-3);\n",
              "}\n",
              "\n",
              ".sk-estimator-doc-link:hover span {\n",
              "  display: block;\n",
              "}\n",
              "\n",
              "/* \"?\"-specific style due to the `<a>` HTML tag */\n",
              "\n",
              "#sk-container-id-1 a.estimator_doc_link {\n",
              "  float: right;\n",
              "  font-size: 1rem;\n",
              "  line-height: 1em;\n",
              "  font-family: monospace;\n",
              "  background-color: var(--sklearn-color-background);\n",
              "  border-radius: 1rem;\n",
              "  height: 1rem;\n",
              "  width: 1rem;\n",
              "  text-decoration: none;\n",
              "  /* unfitted */\n",
              "  color: var(--sklearn-color-unfitted-level-1);\n",
              "  border: var(--sklearn-color-unfitted-level-1) 1pt solid;\n",
              "}\n",
              "\n",
              "#sk-container-id-1 a.estimator_doc_link.fitted {\n",
              "  /* fitted */\n",
              "  border: var(--sklearn-color-fitted-level-1) 1pt solid;\n",
              "  color: var(--sklearn-color-fitted-level-1);\n",
              "}\n",
              "\n",
              "/* On hover */\n",
              "#sk-container-id-1 a.estimator_doc_link:hover {\n",
              "  /* unfitted */\n",
              "  background-color: var(--sklearn-color-unfitted-level-3);\n",
              "  color: var(--sklearn-color-background);\n",
              "  text-decoration: none;\n",
              "}\n",
              "\n",
              "#sk-container-id-1 a.estimator_doc_link.fitted:hover {\n",
              "  /* fitted */\n",
              "  background-color: var(--sklearn-color-fitted-level-3);\n",
              "}\n",
              "</style><div id=\"sk-container-id-1\" class=\"sk-top-container\"><div class=\"sk-text-repr-fallback\"><pre>RandomForestRegressor(random_state=42)</pre><b>In a Jupyter environment, please rerun this cell to show the HTML representation or trust the notebook. <br />On GitHub, the HTML representation is unable to render, please try loading this page with nbviewer.org.</b></div><div class=\"sk-container\" hidden><div class=\"sk-item\"><div class=\"sk-estimator fitted sk-toggleable\"><input class=\"sk-toggleable__control sk-hidden--visually\" id=\"sk-estimator-id-1\" type=\"checkbox\" checked><label for=\"sk-estimator-id-1\" class=\"sk-toggleable__label fitted sk-toggleable__label-arrow fitted\">&nbsp;&nbsp;RandomForestRegressor<a class=\"sk-estimator-doc-link fitted\" rel=\"noreferrer\" target=\"_blank\" href=\"https://scikit-learn.org/1.4/modules/generated/sklearn.ensemble.RandomForestRegressor.html\">?<span>Documentation for RandomForestRegressor</span></a><span class=\"sk-estimator-doc-link fitted\">i<span>Fitted</span></span></label><div class=\"sk-toggleable__content fitted\"><pre>RandomForestRegressor(random_state=42)</pre></div> </div></div></div></div>"
            ]
          },
          "metadata": {},
          "execution_count": 34
        }
      ]
    },
    {
      "cell_type": "markdown",
      "source": [
        "Inicio e treino o modelo com os dados de treino."
      ],
      "metadata": {
        "id": "OwFDLKqaX-U6"
      }
    },
    {
      "cell_type": "code",
      "source": [
        "y_pred = model.predict(X_test)\n",
        "r2 = r2_score(y_test, y_pred)\n",
        "rmse = np.sqrt(mean_squared_error(y_test, y_pred))\n",
        "mae = mean_absolute_error(y_test, y_pred)\n",
        "\n",
        "print(f\"Performance do Modelo:\")\n",
        "print(f\"R² Score: {r2:.4f}\")\n",
        "print(f\"RMSE: {rmse:.4f}\")\n",
        "print(f\"MAE: {mae:.4f}\")\n"
      ],
      "metadata": {
        "colab": {
          "base_uri": "https://localhost:8080/"
        },
        "id": "k8RbNI2CU6iB",
        "outputId": "e8e20dea-97e8-4994-d857-82d6b0426bd5"
      },
      "execution_count": 35,
      "outputs": [
        {
          "output_type": "stream",
          "name": "stdout",
          "text": [
            "Performance do Modelo:\n",
            "R² Score: 0.5905\n",
            "RMSE: 0.1865\n",
            "MAE: 0.1490\n"
          ]
        }
      ]
    },
    {
      "cell_type": "markdown",
      "source": [
        "Realizo previsões nos dados de teste e avalio o modelo com três métricas complementares: o R² que quantifica a proporção da variância explicada (59.05%), o RMSE que penaliza erros maiores (0.1865 pontos) e o MAE que mostra o erro absoluto médio (0.1490 pontos), proporcionando uma visão abrangente da performance preditiva."
      ],
      "metadata": {
        "id": "p50Fwy-1YGZi"
      }
    },
    {
      "cell_type": "code",
      "source": [
        "novo_filme = pd.DataFrame({\n",
        "    'Meta_score': [80.0],\n",
        "    'log_Votes': [np.log1p(2343110)],\n",
        "    'log_Gross': [np.log1p(28341469)],\n",
        "    'Runtime': [142]\n",
        "})\n",
        "\n",
        "nota_prevista = model.predict(novo_filme)[0]\n",
        "print(f\"Nota IMDB prevista: {nota_prevista:.2f}\")"
      ],
      "metadata": {
        "colab": {
          "base_uri": "https://localhost:8080/"
        },
        "id": "Ozc29rlcWFoB",
        "outputId": "f7cfab8e-bca4-43a2-8005-c962ce1cd3f2"
      },
      "execution_count": 36,
      "outputs": [
        {
          "output_type": "stream",
          "name": "stdout",
          "text": [
            "Nota IMDB prevista: 8.77\n"
          ]
        }
      ]
    },
    {
      "cell_type": "markdown",
      "source": [
        "Preparo os dados do filme \"The Shawshank Redemption\" para previsão e faz a previsão da nota IMDB para o filme específico.\n",
        "\n"
      ],
      "metadata": {
        "id": "XjMFCoryYgvW"
      }
    },
    {
      "cell_type": "markdown",
      "source": [
        "**Desempenho do Modelo**\n",
        "\n",
        "O modelo de **Random Forest** atingiu um R² de 0.5905, indicando que 59.05% da variância nas notas do IMDB é explicada pelas variáveis utilizadas (Meta_score, número de votos, bilheteria e duração).\n",
        "\n",
        "O RMSE de 0.1865 demonstra que o modelo erra em média 0.19 pontos na escala de 0 a 10, **uma precisão considerada muito boa** para previsões de avaliações subjetivas.\n",
        "\n"
      ],
      "metadata": {
        "id": "rmKLnRfJZ5cI"
      }
    },
    {
      "cell_type": "markdown",
      "source": [
        "O modelo previu uma nota de **8.77** para o filme, enquanto sua nota real no IMDB é **9.3**. O erro de 0.53 pontos está dentro do esperado considerando o RMSE do modelo.\n",
        "\n",
        "A diferença pode ser atribuída a fatores qualitativos não capturados pelas variáveis numéricas, como qualidade da narrativa, direção e impacto cultural."
      ],
      "metadata": {
        "id": "v-bvuQITacXD"
      }
    },
    {
      "cell_type": "markdown",
      "source": [
        "É válido testar **mais de um modelo** para verificar se o Random Forest é de fato a melhor escolha para este problema de regressão.\n",
        "\n",
        "Sendo assim, vamos testar outros dois algoritmos de ensemble learning: **XGBoost e Gradient Boosting**, para comparar seu desempenho com o Random Forest já implementado."
      ],
      "metadata": {
        "id": "Ikm-pPo4dUy4"
      }
    },
    {
      "cell_type": "markdown",
      "source": [
        "- **Modelo XGBoost:**"
      ],
      "metadata": {
        "id": "1KtvOVGRdjmb"
      }
    },
    {
      "cell_type": "code",
      "source": [
        "xgb_model = XGBRegressor(\n",
        "    n_estimators=100,\n",
        "    random_state=42,\n",
        "    learning_rate=0.1,\n",
        "    max_depth=6\n",
        ")\n",
        "\n",
        "xgb_model.fit(X_train, y_train)\n",
        "\n",
        "y_pred_xgb = xgb_model.predict(X_test)\n",
        "\n",
        "\n",
        "r2_xgb = r2_score(y_test, y_pred_xgb)\n",
        "rmse_xgb = np.sqrt(mean_squared_error(y_test, y_pred_xgb))\n",
        "mae_xgb = mean_absolute_error(y_test, y_pred)\n",
        "\n",
        "\n",
        "print(f\"XGBoost - R²: {r2_xgb:.4f}\")\n",
        "print(f\"XGBoost - RMSE: {rmse_xgb:.4f}\")\n",
        "print(f\"XGBoost - MAE: {mae_xgb:.4f}\")\n",
        "\n",
        "nota_xgb = xgb_model.predict(novo_filme)[0]\n",
        "print(f\"XGBoost - Nota prevista: {nota_xgb:.2f}\")"
      ],
      "metadata": {
        "colab": {
          "base_uri": "https://localhost:8080/"
        },
        "id": "YP0Lifubcfs7",
        "outputId": "e9ff2829-1907-4eab-c5e5-2f0c11a55f12"
      },
      "execution_count": 37,
      "outputs": [
        {
          "output_type": "stream",
          "name": "stdout",
          "text": [
            "XGBoost - R²: 0.5544\n",
            "XGBoost - RMSE: 0.1945\n",
            "XGBoost - MAE: 0.1490\n",
            "XGBoost - Nota prevista: 8.87\n"
          ]
        }
      ]
    },
    {
      "cell_type": "markdown",
      "source": [
        "- **Modelo Gradient Boosting:**"
      ],
      "metadata": {
        "id": "LDaYq0jmfRUy"
      }
    },
    {
      "cell_type": "code",
      "source": [
        "gb_model = GradientBoostingRegressor(\n",
        "    n_estimators=100,\n",
        "    random_state=42,\n",
        "    learning_rate=0.1,\n",
        "    max_depth=4\n",
        ")\n",
        "\n",
        "gb_model.fit(X_train, y_train)\n",
        "\n",
        "y_pred_gb = gb_model.predict(X_test)\n",
        "\n",
        "\n",
        "r2_gb = r2_score(y_test, y_pred_gb)\n",
        "rmse_gb = np.sqrt(mean_squared_error(y_test, y_pred_gb))\n",
        "mae_gb = mean_absolute_error(y_test, y_pred)\n",
        "\n",
        "\n",
        "print(f\"Gradient Boosting - R²: {r2_gb:.4f}\")\n",
        "print(f\"Gradient Boosting - RMSE: {rmse_gb:.4f}\")\n",
        "print(f\"Gradient Boosting - MAE: {mae_gb:.4f}\")\n",
        "\n",
        "\n",
        "nota_gb = gb_model.predict(novo_filme)[0]\n",
        "print(f\"Gradient Boosting - Nota prevista: {nota_gb:.2f}\")"
      ],
      "metadata": {
        "colab": {
          "base_uri": "https://localhost:8080/"
        },
        "id": "jQwOK0vJcoOx",
        "outputId": "5c125135-64d8-4ed7-f810-5d0cf8c433a6"
      },
      "execution_count": 38,
      "outputs": [
        {
          "output_type": "stream",
          "name": "stdout",
          "text": [
            "Gradient Boosting - R²: 0.5426\n",
            "Gradient Boosting - RMSE: 0.1971\n",
            "Gradient Boosting - MAE: 0.1490\n",
            "Gradient Boosting - Nota prevista: 8.78\n"
          ]
        }
      ]
    },
    {
      "cell_type": "markdown",
      "source": [
        "Concluímos que o modelo **Random Forest** consolidou-se como a escolha mais eficaz para previsão de notas do IMDB, demonstrando superioridade em todas as dimensões avaliadas: poder explicativo (R² de 0.5905), precisão com penalidade a outliers (RMSE de 0.1865) e erro médio absoluto (MAE de 0.1490), garantindo robustez estatística e confiabilidade preditiva.\n",
        "\n",
        "Embora o **Gradient Boosting** tenha apresentado uma previsão pontual similar para o filme analisado **(8.78 versus 8.77)**, o **Random Forest exibiu consistência superior em todas as métricas de avaliação**, garantindo maior robustez estatística e confiabilidade para generalizações em novos dados.\n",
        "\n",
        "Esta performance balanceada entre acurácia e estabilidade consolida o Random Forest como a escolha técnica mais sólida para este problema específico de regressão."
      ],
      "metadata": {
        "id": "uvyhXsD2eSRc"
      }
    },
    {
      "cell_type": "markdown",
      "source": [
        "- 3) Explique como você faria a previsão da nota do imdb a partir dos dados.\n",
        "\n",
        "      Quais variáveis e/ou suas transformações você utilizou e por quê?\n",
        "      \n",
        "      Qual tipo de problema estamos resolvendo (regressão, classificação)?\n",
        "      \n",
        "      Qual modelo melhor se aproxima dos dados e quais seus prós e contras?\n",
        "      \n",
        "      Qual medida de performance do modelo foi escolhida e por quê?\n"
      ],
      "metadata": {
        "id": "jkpYZhVkCRpX"
      }
    },
    {
      "cell_type": "markdown",
      "source": [
        "- **Resposta questão 3:**"
      ],
      "metadata": {
        "id": "kImK-7EcgQff"
      }
    },
    {
      "cell_type": "markdown",
      "source": [
        "Utilizei quatro variáveis numéricas-chave: **Meta_score** (nota de críticos, 0-100), **No_of_Votes** (número de votos, indicador de popularidade), **Gross** (bilheteria, indicador de sucesso comercial) e **Runtime** (duração em minutos).\n",
        "\n",
        "Apliquei transformação logarítmica (np.log1p) nas variáveis No_of_Votes e Gross para normalizar suas distribuições altamente assimétricas, garantindo que valores extremos não dominassem o modelo, enquanto Meta_score e Runtime foram mantidas em sua forma original por apresentarem distribuição mais balanceada."
      ],
      "metadata": {
        "id": "OwRsoxJxgDBK"
      }
    },
    {
      "cell_type": "markdown",
      "source": [
        " **Tipo de Problema**\n",
        "\n",
        "Trata-se de um problema de regressão, pois estamos prevendo um valor contínuo (nota do IMDB numa escala de 0 a 10), onde o objetivo é estimar uma quantidade numérica rather que classificar em categorias discretas."
      ],
      "metadata": {
        "id": "tPgFethKgXXb"
      }
    },
    {
      "cell_type": "markdown",
      "source": [
        "**Modelo Selecionado: Random Forest**\n",
        "\n",
        "Como dito anteriormente, o **Random Forest Regressor** foi o modelo que melhor se aproximou dos dados, superando comparativos como XGBoost e Gradient Boosting.\n",
        "\n",
        "**Seus prós incluem:** robustez a outliers, capacidade de capturar relações não-lineares, baixo risco de overfitting e provisionamento de importância de variáveis.\n",
        "\n",
        "**Seus contras são:** menor interpretabilidade que modelos lineares, maior consumo computacional e necessidade de tuning mais cuidadoso de hiperparâmetros."
      ],
      "metadata": {
        "id": "B84EwPE6gfPJ"
      }
    },
    {
      "cell_type": "markdown",
      "source": [
        "**Medida de Performance: R² Score, RMSE e MAE**\n",
        "\n",
        "Adotei uma abordagem tripla de avaliação: o **R² Score** como métrica principal por quantificar a proporção da variância explicada (0.5905 = 59.05% de explicabilidade), complementado pelo **RMSE** (0.1865) que penaliza erros maiores e pelo **MAE** (0.1490) que fornece o erro absoluto médio direto.\n",
        "\n",
        "Esta combinação estratégica permite avaliar o poder explicativo do modelo, a severidade de erros extremos e a precisão média das previsões, garantindo uma análise robusta e multidimensional do desempenho preditivo."
      ],
      "metadata": {
        "id": "QXe6WYWEgz3M"
      }
    },
    {
      "cell_type": "markdown",
      "source": [
        "**Conclusão da performance:**\n",
        "O modelo previu 8.77 para \"The Shawshank Redemption\" contra sua nota real de 9.3, um erro de 0.53 pontos que está dentro do esperado dado o RMSE de 0.1865, demonstrando que captura tendências gerais adequadamente mesmo para filmes com características excepcionais.\n"
      ],
      "metadata": {
        "id": "c8SVGGcIhC0z"
      }
    },
    {
      "cell_type": "markdown",
      "source": [
        "Agora, vamos salvar o modelo, concluindo esta etapa do projeto!\n",
        "\n"
      ],
      "metadata": {
        "id": "QjkEQklalw9h"
      }
    },
    {
      "cell_type": "code",
      "source": [
        "joblib.dump(model, 'modelo_rf_imdb.pkl')"
      ],
      "metadata": {
        "colab": {
          "base_uri": "https://localhost:8080/"
        },
        "id": "MRzN-YkSgPLc",
        "outputId": "ccc81ccc-c718-4d01-89b8-1b1bb9aaa6d7"
      },
      "execution_count": 39,
      "outputs": [
        {
          "output_type": "execute_result",
          "data": {
            "text/plain": [
              "['modelo_rf_imdb.pkl']"
            ]
          },
          "metadata": {},
          "execution_count": 39
        }
      ]
    },
    {
      "cell_type": "markdown",
      "source": [
        "## **Obrigada!**"
      ],
      "metadata": {
        "id": "NSXOfgcjmVyw"
      }
    },
    {
      "cell_type": "markdown",
      "source": [
        "\n",
        "Obrigada por acompanhar! Todo o processo de construir esse modelo e aprender as técnicas envolvidas foi super enriquecedor pra mim. Aprendi muita coisa nova que com certeza vai ajudar na minha carreira profissional."
      ],
      "metadata": {
        "id": "YFWh83JEmiK8"
      }
    },
    {
      "cell_type": "markdown",
      "source": [
        "![Gmail](https://img.shields.io/badge/Gmail-D14836?style=for-the-badge&logo=gmail&logoColor=white)\n",
        "\n",
        "[![LinkedIn](https://img.shields.io/badge/LinkedIn-0077B5?style=for-the-badge&logo=linkedin&logoColor=white)](https://www.linkedin.com/in/joanatrindade-)\n",
        "\n",
        "Made with ❤️ by Joana Trindade."
      ],
      "metadata": {
        "id": "sMlsAr3wp_Vk"
      }
    },
    {
      "cell_type": "markdown",
      "source": [
        "## **Referências**"
      ],
      "metadata": {
        "id": "PpUa_JygqRC6"
      }
    },
    {
      "cell_type": "markdown",
      "source": [
        "[1] [scikit-learn: Machine Learning in Python](https://scikit-learn.org/stable/)\n",
        "\n",
        "[2] [pandas: Python Data Analysis Library](https://pandas.pydata.org/docs/)   \n",
        "\n",
        "[3] [NumPy: Scientific Computing](https://numpy.org/doc/)\n",
        "\n",
        "[4] [Matplotlib: Visualization](https://matplotlib.org/stable/api/_as_gen/matplotlib.pyplot.html)  \n",
        "\n",
        "[5] [Seaborn: Statistical Visualization](https://seaborn.pydata.org/)\n",
        "\n",
        "[6] [XGBoost: Optimized Gradient Boosting](https://xgboost.readthedocs.io/)\n",
        "\n",
        "[7] [SciPy: Scientific Computing](https://docs.scipy.org/doc/scipy/)\n",
        "\n",
        "[8] [Joblib: Parallel Processing](https://joblib.readthedocs.io/)  \n",
        "\n",
        "[9] [Python Standard Library](https://docs.python.org/3/library/)"
      ],
      "metadata": {
        "id": "81MOF6bJqj5f"
      }
    }
  ]
}